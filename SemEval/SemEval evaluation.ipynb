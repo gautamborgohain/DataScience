{
 "cells": [
  {
   "cell_type": "markdown",
   "metadata": {},
   "source": [
    "# Try to beat the Phd guys score"
   ]
  },
  {
   "cell_type": "markdown",
   "metadata": {},
   "source": [
    "I am going to see where i stand by trying to beat the score published by for a SemEval Sentiment detectin task.\n",
    "The paper in question was not the one which won the contest, however they did the task using an untuned (c = 1.0) SVM classifier and did it in two days.\n",
    "So my aim is try beat their score of 70.96% best f1 score. Ods are that i wont be able to beat them within 2 days since they are all much more accomplished (atleast on paper) than I am. But lets see how close\n"
   ]
  },
  {
   "cell_type": "code",
   "execution_count": 92,
   "metadata": {
    "collapsed": false
   },
   "outputs": [],
   "source": [
    "import pandas as pd\n",
    "import matplotlib\n",
    "%matplotlib inline\n",
    "import matplotlib.pyplot as plt\n",
    "import numpy as np\n",
    "pd.options.display.max_rows = None\n",
    "pd.options.display.notebook_repr_html = True\n",
    "pd.options.display.max_columns = None\n",
    "pd.options.display.max_colwidth = 100"
   ]
  },
  {
   "cell_type": "markdown",
   "metadata": {},
   "source": [
    "## Lexicon Hiu and Lu"
   ]
  },
  {
   "cell_type": "code",
   "execution_count": 27,
   "metadata": {
    "collapsed": false
   },
   "outputs": [
    {
     "name": "stdout",
     "output_type": "stream",
     "text": [
      "2006 4783\n"
     ]
    }
   ],
   "source": [
    "#\n",
    "# Get the positiv - negative word lexicon\n",
    "#\n",
    "\n",
    "import re\n",
    "from sklearn.base import BaseEstimator, TransformerMixin\n",
    "from nltk import word_tokenize\n",
    "\n",
    "positive_lexicon_path = '/Users/gautamborgohain/PycharmProjects/DT_Labs/PLayground/Gautam_Borg/HuLiuLexicon/positive-words.txt'\n",
    "negative_lexicon_path ='/Users/gautamborgohain/PycharmProjects/DT_Labs/PLayground/Gautam_Borg/HuLiuLexicon/negative-words.txt'\n",
    "poshand = open(positive_lexicon_path)\n",
    "neghand = open(negative_lexicon_path)\n",
    "poslist = []\n",
    "neglist = []\n",
    "for line in poshand:\n",
    "    poslist.append(re.sub(r'\\n','',line))\n",
    "for line in neghand:\n",
    "    neglist.append(re.sub(r'\\n','',line))\n",
    "print(len(poslist),len(neglist))\n",
    "\n",
    "poshand.close()\n",
    "neghand.close()\n",
    "\n",
    "def getPositiveWordCount(tweet):\n",
    "    countPos = 0\n",
    "    for word in word_tokenize(tweet):\n",
    "        if len(word)>=2 and word in poslist: countPos+=1\n",
    "    return countPos\n",
    "\n",
    "def getNegativeWordCount(tweet):\n",
    "    countNeg = 0\n",
    "    for word in word_tokenize(tweet):\n",
    "        if len(word)>=2 and word in neglist: countNeg+=1\n",
    "    return countNeg\n",
    "\n",
    "class lexiconSent(BaseEstimator, TransformerMixin):\n",
    "    def fit(self, x, y=None):\n",
    "        return self\n",
    "    \n",
    "    \n",
    "    def transform(self, frame):\n",
    "        df = pd.DataFrame(columns=['POS_LEX','NEG_LEX'])\n",
    "        df['POS_LEX'] =   [getPositiveWordCount(tweet) for tweet in frame]\n",
    "        df['NEG_LEX'] =   [getNegativeWordCount(tweet) for tweet in frame]\n",
    "             \n",
    "        return df.as_matrix()"
   ]
  },
  {
   "cell_type": "markdown",
   "metadata": {},
   "source": [
    "## Puctuations -  Exclamations, quotes and question marks"
   ]
  },
  {
   "cell_type": "code",
   "execution_count": 177,
   "metadata": {
    "collapsed": true
   },
   "outputs": [],
   "source": [
    "class punctuations(BaseEstimator, TransformerMixin):\n",
    "    def fit(self, x, y=None):\n",
    "        return self\n",
    "\n",
    "    def transform(self, frame):\n",
    "        df = pd.DataFrame()\n",
    "        punc_excl = []\n",
    "        punc_ques = []\n",
    "        punc_quot = []\n",
    "        for tweet in frame:\n",
    "            punc_excl.append(len(re.findall(r'!',tweet)))\n",
    "            punc_ques.append(len(re.findall(r'\\?',tweet)))\n",
    "            punc_quot.append(len(re.findall(r'\\'|\"',tweet)))\n",
    "\n",
    "        df['PUNC_EXCL'] = punc_excl\n",
    "        df['PUNC_QUES'] = punc_ques\n",
    "        df['PUNC_QUOT'] = punc_quot\n",
    "        return df.as_matrix()"
   ]
  },
  {
   "cell_type": "markdown",
   "metadata": {},
   "source": [
    "## Prepare the training and the test data"
   ]
  },
  {
   "cell_type": "code",
   "execution_count": 376,
   "metadata": {
    "collapsed": false
   },
   "outputs": [
    {
     "name": "stdout",
     "output_type": "stream",
     "text": [
      "2111\n",
      "1137\n"
     ]
    }
   ],
   "source": [
    "\n",
    "'''\n",
    "Difference in the data\n",
    "\n",
    "\n",
    "This dataset contains around 3200 missign tweets\n",
    "\n",
    "'''\n",
    "\n",
    "orgtrain = pd.read_csv('/Users/gautamborgohain/Desktop/SEmEval_train.tsv',sep='\\t')\n",
    "orgtrain.columns = ['ID','ID2','Sentiment','Tweet']\n",
    "orgtest = pd.read_excel('/Users/gautamborgohain/Google Drive/CI/twitter_download20160410.xlsx')\n",
    "print(len(orgtrain[orgtrain.Tweet == 'Not Available']))\n",
    "print(len(orgtest[orgtest.Tweet == 'Not Available']))"
   ]
  },
  {
   "cell_type": "code",
   "execution_count": 3,
   "metadata": {
    "collapsed": false
   },
   "outputs": [
    {
     "name": "stderr",
     "output_type": "stream",
     "text": [
      "/Library/Frameworks/Python.framework/Versions/3.4/lib/python3.4/site-packages/ipykernel/__main__.py:5: SettingWithCopyWarning: \n",
      "A value is trying to be set on a copy of a slice from a DataFrame\n",
      "\n",
      "See the caveats in the documentation: http://pandas.pydata.org/pandas-docs/stable/indexing.html#indexing-view-versus-copy\n",
      "/Library/Frameworks/Python.framework/Versions/3.4/lib/python3.4/site-packages/ipykernel/__main__.py:6: SettingWithCopyWarning: \n",
      "A value is trying to be set on a copy of a slice from a DataFrame\n",
      "\n",
      "See the caveats in the documentation: http://pandas.pydata.org/pandas-docs/stable/indexing.html#indexing-view-versus-copy\n"
     ]
    },
    {
     "data": {
      "text/plain": [
       " 0    3676\n",
       " 1    2814\n",
       "-1    1063\n",
       "Name: Sentiment, dtype: int64"
      ]
     },
     "execution_count": 3,
     "metadata": {},
     "output_type": "execute_result"
    }
   ],
   "source": [
    "semdf_train = pd.read_csv('/Users/gautamborgohain/Desktop/SEmEval_train.tsv',sep='\\t')\n",
    "semdf_train.columns = ['ID','ID2','Sentiment','Tweet']\n",
    "semdf_train = semdf_train[semdf_train.Tweet != 'Not Available']\n",
    "semdf_train.Sentiment[semdf_train.Sentiment == 'neutral'] = 0\n",
    "semdf_train.Sentiment[semdf_train.Sentiment == 'positive'] = 1\n",
    "semdf_train.Sentiment[semdf_train.Sentiment == 'negative'] = -1\n",
    "semdf_train.Sentiment.value_counts()"
   ]
  },
  {
   "cell_type": "code",
   "execution_count": 4,
   "metadata": {
    "collapsed": false
   },
   "outputs": [
    {
     "data": {
      "text/plain": [
       " 0    3548\n",
       " 1    2970\n",
       "-1    1331\n",
       "Name: Sentiment, dtype: int64"
      ]
     },
     "execution_count": 4,
     "metadata": {},
     "output_type": "execute_result"
    }
   ],
   "source": [
    "semdf_test = pd.read_excel('/Users/gautamborgohain/Google Drive/CI/twitter_download20160410.xlsx')\n",
    "# semdf_test.columns = ['ID','ID2','Sentiment','Tweet']\n",
    "semdf_test = semdf_test[semdf_test.Tweet != 'Not Available']\n",
    "semdf_test.Sentiment[semdf_test.Sentiment == 'neutral'] = 0\n",
    "semdf_test.Sentiment[semdf_test.Sentiment == 'positive'] = 1\n",
    "semdf_test.Sentiment[semdf_test.Sentiment == 'negative'] = -1\n",
    "semdf_train.Sentiment =  [int(pred) for pred in semdf_train.Sentiment]\n",
    "semdf_test.Sentiment.value_counts()"
   ]
  },
  {
   "cell_type": "code",
   "execution_count": 390,
   "metadata": {
    "collapsed": false
   },
   "outputs": [
    {
     "data": {
      "text/html": [
       "<div>\n",
       "<table border=\"1\" class=\"dataframe\">\n",
       "  <thead>\n",
       "    <tr style=\"text-align: right;\">\n",
       "      <th></th>\n",
       "      <th>ID</th>\n",
       "      <th>USER ID</th>\n",
       "      <th>Sentiment</th>\n",
       "      <th>Tweet</th>\n",
       "      <th>Unnamed: 4</th>\n",
       "    </tr>\n",
       "  </thead>\n",
       "  <tbody>\n",
       "    <tr>\n",
       "      <th>1</th>\n",
       "      <td>282031301962395008</td>\n",
       "      <td>T14111200</td>\n",
       "      <td>0</td>\n",
       "      <td>dec 21st 2012 will be know not as the end of the world but the Baby Boom! #2012shit</td>\n",
       "      <td>NaN</td>\n",
       "    </tr>\n",
       "    <tr>\n",
       "      <th>2</th>\n",
       "      <td>11975</td>\n",
       "      <td>SM112166</td>\n",
       "      <td>-1</td>\n",
       "      <td>Yar he quite clever but aft many guesses lor. He got ask me 2 bring but i thk darren not so will...</td>\n",
       "      <td>Yes.</td>\n",
       "    </tr>\n",
       "    <tr>\n",
       "      <th>3</th>\n",
       "      <td>136592</td>\n",
       "      <td>LJ112295</td>\n",
       "      <td>-1</td>\n",
       "      <td>Yeah we have Thin Lizzy here I HATE the informercials !</td>\n",
       "      <td>Not Available</td>\n",
       "    </tr>\n",
       "    <tr>\n",
       "      <th>4</th>\n",
       "      <td>253421252956544992</td>\n",
       "      <td>T13114433</td>\n",
       "      <td>0</td>\n",
       "      <td>MT @LccSy #Syria, Deir Ezzor: Ali Bashar al-theeb was martyred. He was a soldier of the Free Syr...</td>\n",
       "      <td>NaN</td>\n",
       "    </tr>\n",
       "    <tr>\n",
       "      <th>5</th>\n",
       "      <td>220880422320603008</td>\n",
       "      <td>T14114138</td>\n",
       "      <td>-1</td>\n",
       "      <td>@MacMiller hate my life, because i can't see you at the roskilde festival on saturday, promise m...</td>\n",
       "      <td>NaN</td>\n",
       "    </tr>\n",
       "  </tbody>\n",
       "</table>\n",
       "</div>"
      ],
      "text/plain": [
       "                   ID    USER ID Sentiment  \\\n",
       "1  282031301962395008  T14111200         0   \n",
       "2               11975   SM112166        -1   \n",
       "3              136592   LJ112295        -1   \n",
       "4  253421252956544992  T13114433         0   \n",
       "5  220880422320603008  T14114138        -1   \n",
       "\n",
       "                                                                                                 Tweet  \\\n",
       "1                  dec 21st 2012 will be know not as the end of the world but the Baby Boom! #2012shit   \n",
       "2  Yar he quite clever but aft many guesses lor. He got ask me 2 bring but i thk darren not so will...   \n",
       "3                                              Yeah we have Thin Lizzy here I HATE the informercials !   \n",
       "4  MT @LccSy #Syria, Deir Ezzor: Ali Bashar al-theeb was martyred. He was a soldier of the Free Syr...   \n",
       "5  @MacMiller hate my life, because i can't see you at the roskilde festival on saturday, promise m...   \n",
       "\n",
       "      Unnamed: 4  \n",
       "1            NaN  \n",
       "2           Yes.  \n",
       "3  Not Available  \n",
       "4            NaN  \n",
       "5            NaN  "
      ]
     },
     "execution_count": 390,
     "metadata": {},
     "output_type": "execute_result"
    }
   ],
   "source": [
    "semdf_test.head()"
   ]
  },
  {
   "cell_type": "code",
   "execution_count": 391,
   "metadata": {
    "collapsed": false
   },
   "outputs": [
    {
     "name": "stdout",
     "output_type": "stream",
     "text": [
      "2093 1142 4614\n"
     ]
    }
   ],
   "source": [
    "sms = semdf_test[semdf_test['USER ID'].str.startswith('SM')]\n",
    "lj = semdf_test[semdf_test['USER ID'].str.startswith('LJ')]\n",
    "t = semdf_test[semdf_test['USER ID'].str.startswith('T')]\n",
    "\n",
    "print(len(sms),len(lj),len(t))"
   ]
  },
  {
   "cell_type": "code",
   "execution_count": 392,
   "metadata": {
    "collapsed": false
   },
   "outputs": [
    {
     "data": {
      "text/plain": [
       " 1    2051\n",
       " 0    1930\n",
       "-1     633\n",
       "Name: Sentiment, dtype: int64"
      ]
     },
     "execution_count": 392,
     "metadata": {},
     "output_type": "execute_result"
    }
   ],
   "source": [
    "t.Sentiment.value_counts()"
   ]
  },
  {
   "cell_type": "markdown",
   "metadata": {},
   "source": [
    "Yes. I am testing my models on the test set provided in the Task and not using the development set. Shoot me."
   ]
  },
  {
   "cell_type": "code",
   "execution_count": 393,
   "metadata": {
    "collapsed": true
   },
   "outputs": [],
   "source": [
    "X = semdf_train.Tweet\n",
    "y = [int(y) for y in semdf_train.Sentiment]\n",
    "\n",
    "Xt = t.Tweet\n",
    "yt = [int(y) for y in t.Sentiment]"
   ]
  },
  {
   "cell_type": "markdown",
   "metadata": {},
   "source": [
    "## Base line score"
   ]
  },
  {
   "cell_type": "code",
   "execution_count": null,
   "metadata": {
    "collapsed": true
   },
   "outputs": [],
   "source": [
    "LinearSVC()"
   ]
  },
  {
   "cell_type": "code",
   "execution_count": 410,
   "metadata": {
    "collapsed": false
   },
   "outputs": [
    {
     "name": "stdout",
     "output_type": "stream",
     "text": [
      "0.630905938448\n",
      "             precision    recall  f1-score   support\n",
      "\n",
      "         -1       0.66      0.16      0.26       633\n",
      "          0       0.56      0.90      0.69      1930\n",
      "          1       0.80      0.52      0.63      2051\n",
      "\n",
      "avg / total       0.68      0.63      0.60      4614\n",
      "\n",
      "0.446215783403\n"
     ]
    }
   ],
   "source": [
    "from sklearn.pipeline import FeatureUnion\n",
    "from sklearn.pipeline import Pipeline\n",
    "from sklearn.feature_extraction.text import CountVectorizer\n",
    "from sklearn.svm import LinearSVC\n",
    "from sklearn.metrics import accuracy_score, confusion_matrix, f1_score, precision_recall_curve, classification_report\n",
    "\n",
    "pipeline = Pipeline([\n",
    "    ('features', FeatureUnion([\n",
    "                    ('bow', CountVectorizer(stop_words='english',lowercase=True,ngram_range=(1,4)))\n",
    "\n",
    "                ])\n",
    "    ),\n",
    "    ('svm', LinearSVC())    \n",
    "    ])\n",
    "\n",
    "pipeline.fit(X,y)\n",
    "predictions  = pipeline.predict(Xt)\n",
    "print(accuracy_score(predictions, yt)) \n",
    "print(classification_report(yt,predictions))\n",
    "print(f1_score(predictions,yt,average='macro', labels = [1,-1]))"
   ]
  },
  {
   "cell_type": "markdown",
   "metadata": {},
   "source": [
    "What are the common words in the training set?"
   ]
  },
  {
   "cell_type": "code",
   "execution_count": 17,
   "metadata": {
    "collapsed": false
   },
   "outputs": [
    {
     "data": {
      "text/plain": [
       "http        1831\n",
       "tomorrow    1336\n",
       "night        697\n",
       "day          678\n",
       "just         596\n",
       "going        537\n",
       "tonight      507\n",
       "amp          460\n",
       "sunday       441\n",
       "friday       438\n",
       "saturday     436\n",
       "game         422\n",
       "today        421\n",
       "1st          415\n",
       "time         411\n",
       "like         370\n",
       "rt           339\n",
       "good         328\n",
       "new          323\n",
       "2nd          286\n",
       "monday       275\n",
       "ll           267\n",
       "thursday     259\n",
       "come         256\n",
       "love         236\n",
       "morning      202\n",
       "watch        191\n",
       "don          190\n",
       "want         189\n",
       "got          188\n",
       "dtype: int64"
      ]
     },
     "execution_count": 17,
     "metadata": {},
     "output_type": "execute_result"
    }
   ],
   "source": [
    "vectorizer = CountVectorizer(stop_words='english',lowercase=True,ngram_range=(1,4))\n",
    "docmatrix = vectorizer.fit_transform(X).toarray()\n",
    "df = pd.DataFrame(docmatrix, columns=vectorizer.get_feature_names())\n",
    "colsum = df.sum(axis = 0)\n",
    "colsum.sort_values(ascending = False)[:30]\n"
   ]
  },
  {
   "cell_type": "markdown",
   "metadata": {},
   "source": [
    "What are the common words for each of the classes (positive, negative and neutral)?"
   ]
  },
  {
   "cell_type": "code",
   "execution_count": 18,
   "metadata": {
    "collapsed": false
   },
   "outputs": [
    {
     "data": {
      "text/plain": [
       "night       322\n",
       "going       274\n",
       "day         272\n",
       "just        252\n",
       "saturday    246\n",
       "amp         242\n",
       "friday      225\n",
       "game        219\n",
       "sunday      210\n",
       "rt          193\n",
       "1st         190\n",
       "today       190\n",
       "tonight     189\n",
       "new         189\n",
       "time        185\n",
       "thursday    153\n",
       "monday      148\n",
       "like        144\n",
       "2nd         135\n",
       "come        115\n",
       "live        112\n",
       "ll          108\n",
       "play         98\n",
       "november     96\n",
       "nov          95\n",
       "3rd          93\n",
       "10           91\n",
       "want         89\n",
       "sun          87\n",
       "season       87\n",
       "dtype: int64"
      ]
     },
     "execution_count": 18,
     "metadata": {},
     "output_type": "execute_result"
    }
   ],
   "source": [
    "X = semdf_train[semdf_train.Sentiment == 0].Tweet\n",
    "vectorizer = CountVectorizer(min_df=4,max_df = 500,stop_words='english',lowercase=True,ngram_range=(1,4))\n",
    "docmatrix = vectorizer.fit_transform(X).toarray()\n",
    "df = pd.DataFrame(docmatrix, columns=vectorizer.get_feature_names())\n",
    "colsum = df.sum(axis = 0)\n",
    "colsum.sort_values(ascending = False)[:30]"
   ]
  },
  {
   "cell_type": "code",
   "execution_count": 19,
   "metadata": {
    "collapsed": false
   },
   "outputs": [
    {
     "data": {
      "text/plain": [
       "tomorrow    172\n",
       "http        138\n",
       "just        109\n",
       "night        85\n",
       "going        82\n",
       "1st          82\n",
       "like         81\n",
       "don          77\n",
       "day          77\n",
       "today        68\n",
       "tonight      66\n",
       "time         59\n",
       "game         57\n",
       "amp          57\n",
       "sunday       56\n",
       "2nd          50\n",
       "saturday     41\n",
       "know         40\n",
       "want         40\n",
       "friday       38\n",
       "sat          37\n",
       "rt           36\n",
       "think        34\n",
       "bad          33\n",
       "ll           32\n",
       "3rd          32\n",
       "new          31\n",
       "fuck         30\n",
       "got          30\n",
       "shit         30\n",
       "dtype: int64"
      ]
     },
     "execution_count": 19,
     "metadata": {},
     "output_type": "execute_result"
    }
   ],
   "source": [
    "X = semdf_train[semdf_train.Sentiment == -1].Tweet\n",
    "vectorizer = CountVectorizer(min_df=4,max_df = 500,stop_words='english',lowercase=True,ngram_range=(1,4))\n",
    "docmatrix = vectorizer.fit_transform(X).toarray()\n",
    "df = pd.DataFrame(docmatrix, columns=vectorizer.get_feature_names())\n",
    "colsum = df.sum(axis = 0)\n",
    "colsum.sort_values(ascending = False)[:30]"
   ]
  },
  {
   "cell_type": "code",
   "execution_count": 20,
   "metadata": {
    "collapsed": true
   },
   "outputs": [
    {
     "data": {
      "text/plain": [
       "http        493\n",
       "day         329\n",
       "night       290\n",
       "good        271\n",
       "tonight     252\n",
       "just        235\n",
       "love        204\n",
       "going       181\n",
       "sunday      175\n",
       "friday      175\n",
       "time        167\n",
       "today       163\n",
       "amp         161\n",
       "saturday    149\n",
       "game        146\n",
       "like        145\n",
       "1st         143\n",
       "great       140\n",
       "happy       138\n",
       "come        128\n",
       "ll          127\n",
       "wait        126\n",
       "rt          110\n",
       "best        110\n",
       "new         103\n",
       "2nd         101\n",
       "morning      99\n",
       "monday       98\n",
       "big          96\n",
       "excited      91\n",
       "dtype: int64"
      ]
     },
     "execution_count": 20,
     "metadata": {},
     "output_type": "execute_result"
    }
   ],
   "source": [
    "X = semdf_train[semdf_train.Sentiment == 1].Tweet\n",
    "vectorizer = CountVectorizer(min_df=4,max_df = 500,stop_words='english',lowercase=True,ngram_range=(1,4))\n",
    "docmatrix = vectorizer.fit_transform(X).toarray()\n",
    "df = pd.DataFrame(docmatrix, columns=vectorizer.get_feature_names())\n",
    "colsum = df.sum(axis = 0)\n",
    "colsum.sort_values(ascending = False)[:30]"
   ]
  },
  {
   "cell_type": "code",
   "execution_count": 136,
   "metadata": {
    "collapsed": true
   },
   "outputs": [],
   "source": [
    "X = semdf_train.Tweet\n",
    "y = [int(y) for y in semdf_train.Sentiment]\n",
    "\n",
    "Xt = semdf_test.Tweet\n",
    "yt = [int(y) for y in semdf_test.Sentiment]"
   ]
  },
  {
   "cell_type": "markdown",
   "metadata": {},
   "source": [
    "## Added the Punctuation and Lexicon features "
   ]
  },
  {
   "cell_type": "code",
   "execution_count": 28,
   "metadata": {
    "collapsed": false
   },
   "outputs": [
    {
     "name": "stdout",
     "output_type": "stream",
     "text": [
      "0.672060135049\n"
     ]
    }
   ],
   "source": [
    "pipeline = Pipeline([\n",
    "    ('features', FeatureUnion([\n",
    "                    ('bow', CountVectorizer(stop_words='english',lowercase=True,ngram_range=(1,4))),\n",
    "                    ('lex',lexiconSent()),\n",
    "                    ('punc',punctuations()),\n",
    "\n",
    "                ])\n",
    "    ),\n",
    "    ('svm', LinearSVC())    \n",
    "    ])\n",
    "\n",
    "pipeline.fit(X,y)\n",
    "predictions  = pipeline.predict(Xt)\n",
    "print(accuracy_score(predictions, yt)) "
   ]
  },
  {
   "cell_type": "markdown",
   "metadata": {},
   "source": [
    "## Lengths\n",
    "\n",
    "Length of the tweet and the lengths of the largest and the smallest words in the tweet and the average length of words in the tweet"
   ]
  },
  {
   "cell_type": "code",
   "execution_count": 56,
   "metadata": {
    "collapsed": false
   },
   "outputs": [
    {
     "data": {
      "text/plain": [
       "3.044522437723423"
      ]
     },
     "execution_count": 56,
     "metadata": {},
     "output_type": "execute_result"
    }
   ],
   "source": [
    "import math\n",
    "tweet = 'sdfdf fdff g g g                                gkkl'\n",
    "tweet = re.sub(r'\\s+',' ',tweet)\n",
    "math.log(len(tweet))"
   ]
  },
  {
   "cell_type": "code",
   "execution_count": 46,
   "metadata": {
    "collapsed": false
   },
   "outputs": [
    {
     "data": {
      "text/plain": [
       "5"
      ]
     },
     "execution_count": 46,
     "metadata": {},
     "output_type": "execute_result"
    }
   ],
   "source": [
    "max([len(part) for part in tweet.split(' ')])"
   ]
  },
  {
   "cell_type": "code",
   "execution_count": 47,
   "metadata": {
    "collapsed": false
   },
   "outputs": [
    {
     "data": {
      "text/plain": [
       "[5, 4, 1, 1, 1, 4]"
      ]
     },
     "execution_count": 47,
     "metadata": {},
     "output_type": "execute_result"
    }
   ],
   "source": [
    "([len(part) for part in tweet.split(' ')])"
   ]
  },
  {
   "cell_type": "code",
   "execution_count": 93,
   "metadata": {
    "collapsed": true
   },
   "outputs": [],
   "source": [
    "class lengths(BaseEstimator, TransformerMixin):\n",
    "    def fit(self, x, y=None):\n",
    "        return self\n",
    "\n",
    "    def transform(self, frame):\n",
    "        df = pd.DataFrame()\n",
    "        df['Length'] = [len(tweet) for tweet in frame]\n",
    "        df['Length_words_MAX'] = [max([len(part) for part in tweet.split(' ')]) for tweet in frame]\n",
    "        df['Length_words_MIN'] = [max([len(part) for part in re.sub(r'\\s+',' ',tweet).split(' ')]) for tweet in frame]\n",
    "        df['Length_words_AVG'] = [np.mean([len(part) for part in tweet.split(' ')]) for tweet in frame]\n",
    "        return df.as_matrix()"
   ]
  },
  {
   "cell_type": "code",
   "execution_count": 60,
   "metadata": {
    "collapsed": false
   },
   "outputs": [
    {
     "name": "stdout",
     "output_type": "stream",
     "text": [
      "0.675627468467\n"
     ]
    }
   ],
   "source": [
    "pipeline = Pipeline([\n",
    "    ('features', FeatureUnion([\n",
    "                    ('bow', CountVectorizer(stop_words='english',lowercase=True,ngram_range=(1,4))),\n",
    "                    ('lex',lexiconSent()),\n",
    "                    ('punc',punctuations()),\n",
    "                    ('len',lengths())\n",
    "\n",
    "                ])\n",
    "    ),\n",
    "    ('svm', LinearSVC())    \n",
    "    ])\n",
    "\n",
    "pipeline.fit(X,y)\n",
    "predictions  = pipeline.predict(Xt)\n",
    "print(accuracy_score(predictions, yt)) "
   ]
  },
  {
   "cell_type": "markdown",
   "metadata": {},
   "source": [
    "Only a slight improvement"
   ]
  },
  {
   "cell_type": "markdown",
   "metadata": {},
   "source": [
    "## regular expression to clean up the tweet\n"
   ]
  },
  {
   "cell_type": "code",
   "execution_count": 150,
   "metadata": {
    "collapsed": true
   },
   "outputs": [],
   "source": [
    "from sklearn.base import BaseEstimator, TransformerMixin\n",
    "\n",
    "class regExProcesses(BaseEstimator, TransformerMixin):\n",
    "    def fit(self, x, y=None):\n",
    "        return self\n",
    "\n",
    "    def transform(self, df):\n",
    "        tweets = []\n",
    "        for tweet in df:\n",
    "#             tweet = re.sub('tomorrow|rt','',tweet)\n",
    "            tweet = re.sub(r'&gt;|&amp;|&lt;','',tweet)\n",
    "            tweet = re.sub(r'[\\n]','',tweet)\n",
    "            tweet = re.sub('[\\.]+', '.', tweet)\n",
    "            tweet = re.sub('@[^\\s]*', '', tweet)\n",
    "            tweet = re.sub('((www\\.[^ ]+)|(https?://[^ ]+))', '', tweet)\n",
    "            tweet = re.sub('[\\s]+', ' ', tweet)\n",
    "            tweets.append(tweet)\n",
    "            \n",
    "        return tweets\n",
    "        "
   ]
  },
  {
   "cell_type": "code",
   "execution_count": 95,
   "metadata": {
    "collapsed": false
   },
   "outputs": [
    {
     "name": "stdout",
     "output_type": "stream",
     "text": [
      "0.679449611415\n"
     ]
    }
   ],
   "source": [
    "pipeline = Pipeline([\n",
    "    ('regex', regExProcesses()),\n",
    "    ('features', FeatureUnion([\n",
    "                    ('bow', CountVectorizer(stop_words='english',lowercase=True,ngram_range=(1,4))),\n",
    "                    ('lex',lexiconSent()),\n",
    "                    ('punc',punctuations()),\n",
    "                    ('len',lengths())\n",
    "\n",
    "                ])\n",
    "    ),\n",
    "    ('svm', LinearSVC())    \n",
    "    ])\n",
    "\n",
    "pipeline.fit(X,y)\n",
    "predictions  = pipeline.predict(Xt)\n",
    "print(accuracy_score(predictions, yt)) "
   ]
  },
  {
   "cell_type": "markdown",
   "metadata": {},
   "source": [
    "## MPQA Subjectivity lexicon"
   ]
  },
  {
   "cell_type": "code",
   "execution_count": 126,
   "metadata": {
    "collapsed": true
   },
   "outputs": [],
   "source": [
    "def cleantweet(tweet):\n",
    "    tweet = re.sub('url|at_user|rt|\\.', '', tweet)  ## removing these from the tweets\n",
    "    return tweet\n",
    "\n",
    "class subjectivityLexicon(BaseEstimator, TransformerMixin):\n",
    "    def fit(self, x, y=None):\n",
    "        return self\n",
    "\n",
    "    def transform(self, df):\n",
    "        lexicon = pd.read_csv(lexicon_path)\n",
    "        tweet_tags = []\n",
    "        count_tweet = 1\n",
    "        for tweet in df:\n",
    "            tweet = cleantweet(tweet)\n",
    "            typeList = []\n",
    "            priorpolarityList = []\n",
    "            count_word = 0  \n",
    "            count_tweet += 1\n",
    "            for word in word_tokenize(tweet):\n",
    "                result = lexicon[lexicon.word1 == word]\n",
    "                if len(result) != 0:  # word is there in the lexicon\n",
    "#                     if len(result) == 1:  # this case is handling the ones where the there is only one record of the word\n",
    "                        typeList.append(result.iloc[0][0])\n",
    "                        priorpolarityList.append(result.iloc[0][5])\n",
    "#                     if len(result) > 1:  \n",
    "#     #                     print('Have to tag POS, Hold On!')\n",
    "#                         poslist = pos_tag(word_tokenize(tweet))#Tag the tweet\n",
    "#                         postag = poslist[count_word][1]#Using the position of the word, find the POS tag\n",
    "#                         if postag in ['NN', 'NNP', 'NNS',\n",
    "#                                       'NNPS']:  # make the POS tags to the format used by the MPQA lexicon\n",
    "#                             postag = 'noun'\n",
    "#                         elif postag in ['VB', 'VBD', 'VBG', 'VBN', 'VBP', 'VBZ']:\n",
    "#                             postag = 'verb'\n",
    "#                         elif postag in ['RB', 'RBR', 'RBS']:\n",
    "#                             postag = 'adverb'\n",
    "#                         elif postag in ['JJ', 'JJR', 'JJS']:\n",
    "#                             postag = 'adj'\n",
    "#                         second_result = result[result.pos1 == postag]#get the word-postag combination from the lexicon\n",
    "#                         if len(second_result) != 0:  \n",
    "#                             typeList.append(second_result.iloc[0][0])\n",
    "#                             priorpolarityList.append(second_result.iloc[0][5])\n",
    "\n",
    "                count_word += 1\n",
    "\n",
    "            tweet_tags.append(' '.join(typeList) + ' ' + ' '.join(priorpolarityList))\n",
    "\n",
    "        return tweet_tags\n"
   ]
  },
  {
   "cell_type": "code",
   "execution_count": 119,
   "metadata": {
    "collapsed": true
   },
   "outputs": [],
   "source": [
    "lexicon_path = '/Users/gautamborgohain/PycharmProjects/Twitter_target_dependent_SA/subjectivity.csv'\n",
    "\n",
    "class subjectivityLexicon(BaseEstimator, TransformerMixin):\n",
    "    def fit(self, x, y=None):\n",
    "        return self\n",
    "\n",
    "    def transform(self, df):\n",
    "        lexicon = pd.read_csv(lexicon_path)\n",
    "        tweet_tags = []\n",
    "        count_tweet = 1\n",
    "        for tweet in df:\n",
    "            priorpolarityList = [lexicon[lexicon.word1 == word].priorpolarity if (len(lexicon[lexicon.word1 == word].priorpolarity) != 0) else 'None' for word in word_tokenize(tweet)]\n",
    "            typeList = [lexicon[lexicon.word1 == word].type if (len(lexicon[lexicon.word1 == word].type) != 0) else 'None' for word in word_tokenize(tweet)]\n",
    "            tweet_tags.append(' '.join(typeList) + ' ' + ' '.join(priorpolarityList))\n",
    "\n",
    "        return tweet_tags\n"
   ]
  },
  {
   "cell_type": "code",
   "execution_count": 128,
   "metadata": {
    "collapsed": false
   },
   "outputs": [
    {
     "name": "stdout",
     "output_type": "stream",
     "text": [
      "0.66072111097\n"
     ]
    }
   ],
   "source": [
    "pipeline = Pipeline([\n",
    "    ('regex', regExProcesses()),\n",
    "    ('features', FeatureUnion([\n",
    "                    ('bow', CountVectorizer(stop_words='english',lowercase=True,ngram_range=(1,4))),\n",
    "                    ('lex',lexiconSent()),\n",
    "                    ('punc',punctuations()),\n",
    "                    ('len',lengths()),\n",
    "                    ('subj',Pipeline([\n",
    "                                ('subj',subjectivityLexicon()),\n",
    "                                ('subj_vect', CountVectorizer())\n",
    "                            ]))\n",
    "\n",
    "                ])\n",
    "    ),\n",
    "    ('svm', LinearSVC())    \n",
    "    ])\n",
    "\n",
    "pipeline.fit(X,y)\n",
    "predictions  = pipeline.predict(Xt)\n",
    "print(accuracy_score(predictions, yt)) "
   ]
  },
  {
   "cell_type": "markdown",
   "metadata": {},
   "source": [
    " Checking to see which are the common n gram combinatin in the the different classes"
   ]
  },
  {
   "cell_type": "code",
   "execution_count": 77,
   "metadata": {
    "collapsed": false
   },
   "outputs": [
    {
     "data": {
      "text/plain": [
       "ghost rider spirit        5\n",
       "mexico city               5\n",
       "nets game                 5\n",
       "rider spirit vengeance    5\n",
       "vs heat                   4\n",
       "don like                  4\n",
       "new york                  4\n",
       "tonight don               4\n",
       "apple ceo tim             4\n",
       "apple ceo tim cook        4\n",
       "bharatiya janata          4\n",
       "bharatiya janata party    4\n",
       "breakout kings            4\n",
       "ceo tim                   4\n",
       "ceo tim cook              4\n",
       "curtis painter            4\n",
       "tim cook                  4\n",
       "saturday kitchen          4\n",
       "temple run                4\n",
       "family guy                4\n",
       "miss rugby world cup      4\n",
       "miss rugby world          4\n",
       "miss rugby                4\n",
       "nov ians                  4\n",
       "michael jackson           4\n",
       "janata party              4\n",
       "just want                 4\n",
       "kentucky derby            4\n",
       "silent house              4\n",
       "1st rd                    4\n",
       "dtype: int64"
      ]
     },
     "execution_count": 77,
     "metadata": {},
     "output_type": "execute_result"
    }
   ],
   "source": [
    "X = semdf_train[semdf_train.Sentiment == -1].Tweet\n",
    "vectorizer = CountVectorizer(min_df=4,max_df = 500,stop_words='english',lowercase=True,ngram_range=(2,4))\n",
    "docmatrix = vectorizer.fit_transform(X).toarray()\n",
    "df = pd.DataFrame(docmatrix, columns=vectorizer.get_feature_names())\n",
    "colsum = df.sum(axis = 0)\n",
    "colsum.sort_values(ascending = False)[30:]"
   ]
  },
  {
   "cell_type": "code",
   "execution_count": 80,
   "metadata": {
    "collapsed": false
   },
   "outputs": [
    {
     "data": {
      "text/plain": [
       "tomorrow night           50\n",
       "looking forward          38\n",
       "good morning             30\n",
       "good luck                27\n",
       "friday night             26\n",
       "day tomorrow             24\n",
       "happy birthday           21\n",
       "1st time                 18\n",
       "monday night             18\n",
       "game tomorrow            16\n",
       "valentine day            16\n",
       "don miss                 15\n",
       "saturday night           15\n",
       "celebrity juice          15\n",
       "good day                 14\n",
       "thursday night           14\n",
       "don forget               13\n",
       "just got                 13\n",
       "night football           13\n",
       "big day                  12\n",
       "ve seen                  11\n",
       "independence day         11\n",
       "great day                11\n",
       "make sure                11\n",
       "looks like               11\n",
       "2nd time                 10\n",
       "deus ex                  10\n",
       "jersey shore             10\n",
       "sons anarchy             10\n",
       "monday night football    10\n",
       "dtype: int64"
      ]
     },
     "execution_count": 80,
     "metadata": {},
     "output_type": "execute_result"
    }
   ],
   "source": [
    "X = semdf_train[semdf_train.Sentiment == 1].Tweet\n",
    "vectorizer = CountVectorizer(min_df=4,max_df = 500,stop_words='english',lowercase=True,ngram_range=(2,4))\n",
    "docmatrix = vectorizer.fit_transform(X).toarray()\n",
    "df = pd.DataFrame(docmatrix, columns=vectorizer.get_feature_names())\n",
    "colsum = df.sum(axis = 0)\n",
    "colsum.sort_values(ascending = False)[:30]"
   ]
  },
  {
   "cell_type": "markdown",
   "metadata": {},
   "source": [
    "## Negations -  if its is present"
   ]
  },
  {
   "cell_type": "code",
   "execution_count": 329,
   "metadata": {
    "collapsed": false
   },
   "outputs": [],
   "source": [
    "class negations(BaseEstimator, TransformerMixin):\n",
    "    def fit(self, x, y=None):\n",
    "        return self\n",
    "\n",
    "    def transform(self, frame):\n",
    "        df = pd.DataFrame()\n",
    "        dons = []\n",
    "        nots = []\n",
    "        for tweet in frame:\n",
    "            dons.append(len(re.findall(' don | dont | don\\'t | never | no | not | neither | nor | none ',tweet)))\n",
    "            nots.append(len(re.findall(' not ',tweet))) \n",
    "        \n",
    "        df = pd.DataFrame({'dons' : dons,'nots': nots})\n",
    "        return df.as_matrix()"
   ]
  },
  {
   "cell_type": "code",
   "execution_count": 132,
   "metadata": {
    "collapsed": false
   },
   "outputs": [
    {
     "name": "stdout",
     "output_type": "stream",
     "text": [
      "0.677920754236\n"
     ]
    }
   ],
   "source": [
    "pipeline = Pipeline([\n",
    "    ('regex', regExProcesses()),\n",
    "    ('features', FeatureUnion([\n",
    "                    ('bow', CountVectorizer(stop_words='english',lowercase=True,ngram_range=(1,4))),\n",
    "                    ('lex',lexiconSent()),\n",
    "                    ('punc',punctuations()),\n",
    "                    ('len',lengths()),\n",
    "#                     ('subj',Pipeline([\n",
    "#                                 ('subj',subjectivityLexicon()),\n",
    "#                                 ('subj_vect', CountVectorizer())\n",
    "#                             ]))\n",
    "                    ('negs',negations())\n",
    "\n",
    "                ])\n",
    "    ),\n",
    "    ('svm', LinearSVC())    \n",
    "    ])\n",
    "\n",
    "pipeline.fit(X,y)\n",
    "predictions  = pipeline.predict(Xt)\n",
    "print(accuracy_score(predictions, yt)) "
   ]
  },
  {
   "cell_type": "markdown",
   "metadata": {},
   "source": [
    "## Emoticons"
   ]
  },
  {
   "cell_type": "code",
   "execution_count": 133,
   "metadata": {
    "collapsed": true
   },
   "outputs": [],
   "source": [
    "class emoticons(BaseEstimator, TransformerMixin):\n",
    "    def fit(self, x, y=None):\n",
    "        return self\n",
    "\n",
    "    def transform(self, frame):\n",
    "        df = pd.DataFrame()\n",
    "        posEmot,negEmot,posEmo,negEmo,neutralEmo = [],[],[],[],[]\n",
    "        for tweet in frame:\n",
    "            posEmot.append(len(re.findall(r':-D|:D|:-\\)|:\\)|;-\\)|;\\)',tweet)))\n",
    "            negEmot.append(len(re.findall(r':-\\(|:\\(',tweet)))\n",
    "            \n",
    "        df['EMOT_POS'] = posEmot\n",
    "        df['EMOT_NEG'] = negEmot\n",
    "        \n",
    "        return df.as_matrix()"
   ]
  },
  {
   "cell_type": "code",
   "execution_count": 151,
   "metadata": {
    "collapsed": false
   },
   "outputs": [
    {
     "name": "stdout",
     "output_type": "stream",
     "text": [
      "0.682125111479\n"
     ]
    }
   ],
   "source": [
    "pipeline = Pipeline([\n",
    "    ('regex', regExProcesses()),\n",
    "    ('features', FeatureUnion([\n",
    "                    ('bow', CountVectorizer(stop_words='english',lowercase=True,ngram_range=(1,4))),\n",
    "                    ('lex',lexiconSent()),\n",
    "                    ('punc',punctuations()),\n",
    "                    ('len',lengths()),\n",
    "#                     ('subj',Pipeline([\n",
    "#                                 ('subj',subjectivityLexicon()),\n",
    "#                                 ('subj_vect', CountVectorizer())\n",
    "#                             ]))\n",
    "                    ('negs',negations()),\n",
    "                    ('emots',emoticons())\n",
    "\n",
    "                ])\n",
    "    ),\n",
    "    ('svm', LinearSVC())    \n",
    "    ])\n",
    "\n",
    "pipeline.fit(X,y)\n",
    "predictions  = pipeline.predict(Xt)\n",
    "print(accuracy_score(predictions, yt)) "
   ]
  },
  {
   "cell_type": "markdown",
   "metadata": {},
   "source": [
    "## Word elongations - 3 letters consecutive\n",
    "\n",
    "- The no of elongations in the tweet\n",
    "- The average of the elongation length in the tweet"
   ]
  },
  {
   "cell_type": "code",
   "execution_count": 173,
   "metadata": {
    "collapsed": true
   },
   "outputs": [],
   "source": [
    "class elongation(BaseEstimator, TransformerMixin):\n",
    "    def fit(self, x, y=None):\n",
    "        return self\n",
    "\n",
    "    def transform(self, frame):\n",
    "        df = pd.DataFrame()\n",
    "        no_elong = []\n",
    "        avg_elong = []\n",
    "        reg = re.compile('([a-zA-Z])\\\\1{3,}')\n",
    "        for tweet in frame:\n",
    "            elongs = []\n",
    "            no_elong.append(len(reg.findall(tweet)))\n",
    "            for match in reg.finditer(tweet):\n",
    "                                     elongs.append((match.end() - match.start()))\n",
    "                                     \n",
    "            avg_elong.append(np.mean(elongs))                         \n",
    "        df['No_Elong'] = no_elong\n",
    "        df['Avg_Elong'] = avg_elong\n",
    "        df.fillna(value=0,inplace=True)\n",
    "        return df.as_matrix()"
   ]
  },
  {
   "cell_type": "code",
   "execution_count": 164,
   "metadata": {
    "collapsed": false
   },
   "outputs": [
    {
     "name": "stdout",
     "output_type": "stream",
     "text": [
      "5\n",
      "8\n"
     ]
    }
   ],
   "source": [
    "tweet = 'I am sooooo going to killllllll yoiu'\n",
    "for match in re.finditer(\"([a-zA-Z])\\\\1{2,}\",tweet):\n",
    "    print(match.end() - match.start())"
   ]
  },
  {
   "cell_type": "code",
   "execution_count": 258,
   "metadata": {
    "collapsed": true
   },
   "outputs": [],
   "source": [
    "X = semdf_train.Tweet\n",
    "y = [int(y) for y in semdf_train.Sentiment]\n",
    "\n",
    "Xt = semdf_test.Tweet\n",
    "yt = [int(y) for y in semdf_test.Sentiment]"
   ]
  },
  {
   "cell_type": "code",
   "execution_count": 180,
   "metadata": {
    "collapsed": false
   },
   "outputs": [
    {
     "name": "stdout",
     "output_type": "stream",
     "text": [
      "0.683144349599\n"
     ]
    }
   ],
   "source": [
    "pipeline = Pipeline([\n",
    "    ('regex', regExProcesses()),\n",
    "    ('features', FeatureUnion([\n",
    "                    ('bow', CountVectorizer(stop_words='english',lowercase=True,ngram_range=(1,4))),\n",
    "                    ('lex',lexiconSent()),\n",
    "                    ('punc',punctuations()),\n",
    "                    ('len',lengths()),\n",
    "#                     ('subj',Pipeline([\n",
    "#                                 ('subj',subjectivityLexicon()),\n",
    "#                                 ('subj_vect', CountVectorizer())\n",
    "#                             ]))\n",
    "                    ('negs',negations()),\n",
    "                    ('emots',emoticons()),\n",
    "#                     ('elongs',elongation())\n",
    "\n",
    "                ])\n",
    "    ),\n",
    "    ('svm', LinearSVC())    \n",
    "    ])\n",
    "\n",
    "pipeline.fit(X,y)\n",
    "predictions  = pipeline.predict(Xt)\n",
    "print(accuracy_score(predictions, yt)) "
   ]
  },
  {
   "cell_type": "code",
   "execution_count": 195,
   "metadata": {
    "collapsed": false
   },
   "outputs": [
    {
     "name": "stderr",
     "output_type": "stream",
     "text": [
      "/Library/Frameworks/Python.framework/Versions/3.4/lib/python3.4/site-packages/numpy/core/_methods.py:59: RuntimeWarning: Mean of empty slice.\n",
      "  warnings.warn(\"Mean of empty slice.\", RuntimeWarning)\n"
     ]
    },
    {
     "data": {
      "text/html": [
       "<div>\n",
       "<table border=\"1\" class=\"dataframe\">\n",
       "  <thead>\n",
       "    <tr style=\"text-align: right;\">\n",
       "      <th></th>\n",
       "      <th>No_Elong</th>\n",
       "      <th>Avg_Elong</th>\n",
       "    </tr>\n",
       "  </thead>\n",
       "  <tbody>\n",
       "    <tr>\n",
       "      <th>count</th>\n",
       "      <td>100.000000</td>\n",
       "      <td>100.000000</td>\n",
       "    </tr>\n",
       "    <tr>\n",
       "      <th>mean</th>\n",
       "      <td>0.060000</td>\n",
       "      <td>0.226667</td>\n",
       "    </tr>\n",
       "    <tr>\n",
       "      <th>std</th>\n",
       "      <td>0.342893</td>\n",
       "      <td>1.189064</td>\n",
       "    </tr>\n",
       "    <tr>\n",
       "      <th>min</th>\n",
       "      <td>0.000000</td>\n",
       "      <td>0.000000</td>\n",
       "    </tr>\n",
       "    <tr>\n",
       "      <th>25%</th>\n",
       "      <td>0.000000</td>\n",
       "      <td>0.000000</td>\n",
       "    </tr>\n",
       "    <tr>\n",
       "      <th>50%</th>\n",
       "      <td>0.000000</td>\n",
       "      <td>0.000000</td>\n",
       "    </tr>\n",
       "    <tr>\n",
       "      <th>75%</th>\n",
       "      <td>0.000000</td>\n",
       "      <td>0.000000</td>\n",
       "    </tr>\n",
       "    <tr>\n",
       "      <th>max</th>\n",
       "      <td>3.000000</td>\n",
       "      <td>9.000000</td>\n",
       "    </tr>\n",
       "  </tbody>\n",
       "</table>\n",
       "</div>"
      ],
      "text/plain": [
       "         No_Elong   Avg_Elong\n",
       "count  100.000000  100.000000\n",
       "mean     0.060000    0.226667\n",
       "std      0.342893    1.189064\n",
       "min      0.000000    0.000000\n",
       "25%      0.000000    0.000000\n",
       "50%      0.000000    0.000000\n",
       "75%      0.000000    0.000000\n",
       "max      3.000000    9.000000"
      ]
     },
     "execution_count": 195,
     "metadata": {},
     "output_type": "execute_result"
    }
   ],
   "source": [
    " def elongs(frame):\n",
    "        df = pd.DataFrame()\n",
    "        no_elong = []\n",
    "        avg_elong = []\n",
    "        reg = re.compile('([a-zA-Z])\\\\1{3,}')\n",
    "        for tweet in frame:\n",
    "            elongs = []\n",
    "            no_elong.append(len(reg.findall(tweet)))\n",
    "            for match in reg.finditer(tweet):\n",
    "                                     elongs.append((match.end() - match.start()))\n",
    "                                     \n",
    "            avg_elong.append(np.mean(elongs))                         \n",
    "        df['No_Elong'] = no_elong\n",
    "        df['Avg_Elong'] = avg_elong\n",
    "        df.fillna(value=0,inplace=True)\n",
    "        return df\n",
    "    \n",
    "df = elongs(X[0:100])\n",
    "df.describe()"
   ]
  },
  {
   "cell_type": "markdown",
   "metadata": {},
   "source": [
    "## Hastags in the tweet\n"
   ]
  },
  {
   "cell_type": "code",
   "execution_count": 215,
   "metadata": {
    "collapsed": true
   },
   "outputs": [],
   "source": [
    "class hash_tag(BaseEstimator, TransformerMixin):\n",
    "    def fit(self, x, y=None):\n",
    "        return self\n",
    "\n",
    "    def transform(self, frame):\n",
    "        return [' '.join(re.findall(r'#[^\\s]+',tweet)) for tweet in frame]"
   ]
  },
  {
   "cell_type": "code",
   "execution_count": 204,
   "metadata": {
    "collapsed": false
   },
   "outputs": [
    {
     "data": {
      "text/html": [
       "<div>\n",
       "<table border=\"1\" class=\"dataframe\">\n",
       "  <thead>\n",
       "    <tr style=\"text-align: right;\">\n",
       "      <th></th>\n",
       "      <th>HASH_POS</th>\n",
       "      <th>HASH_NEG</th>\n",
       "      <th>HASH_ALL</th>\n",
       "    </tr>\n",
       "  </thead>\n",
       "  <tbody>\n",
       "    <tr>\n",
       "      <th>count</th>\n",
       "      <td>7553</td>\n",
       "      <td>7553</td>\n",
       "      <td>7553</td>\n",
       "    </tr>\n",
       "    <tr>\n",
       "      <th>unique</th>\n",
       "      <td>1</td>\n",
       "      <td>1</td>\n",
       "      <td>1397</td>\n",
       "    </tr>\n",
       "    <tr>\n",
       "      <th>top</th>\n",
       "      <td></td>\n",
       "      <td></td>\n",
       "      <td></td>\n",
       "    </tr>\n",
       "    <tr>\n",
       "      <th>freq</th>\n",
       "      <td>7553</td>\n",
       "      <td>7553</td>\n",
       "      <td>6022</td>\n",
       "    </tr>\n",
       "  </tbody>\n",
       "</table>\n",
       "</div>"
      ],
      "text/plain": [
       "       HASH_POS HASH_NEG HASH_ALL\n",
       "count      7553     7553     7553\n",
       "unique        1        1     1397\n",
       "top                              \n",
       "freq       7553     7553     6022"
      ]
     },
     "execution_count": 204,
     "metadata": {},
     "output_type": "execute_result"
    }
   ],
   "source": [
    "def hash_vect(frame):\n",
    "        df = pd.DataFrame()\n",
    "        hash_pos_all = []\n",
    "        hash_neg_all = []\n",
    "        hash_all = []\n",
    "        for tweet in frame:\n",
    "            hash_pos = []\n",
    "            hash_neg = []\n",
    "            hash_inTweet = []\n",
    "            hashs = re.findall(r'#[^\\s]+',tweet)\n",
    "            for hashe in hashs:\n",
    "                if hashe in poslist:\n",
    "                    hash_pos.append(hashe)\n",
    "                if hashe in neglist:\n",
    "                    hash_neg.append(hashe)\n",
    "                hash_inTweet.append(hashe)\n",
    "            hash_pos_all.append(' '.join(hash_pos))\n",
    "            hash_neg_all.append(' '.join(hash_neg))  \n",
    "            hash_all.append(' '.join(hash_inTweet))        \n",
    "        df['HASH_POS'] = hash_pos_all\n",
    "        df['HASH_NEG'] = hash_neg_all\n",
    "        df['HASH_ALL'] = hash_all        \n",
    "        return df\n",
    "df = hash_vect(X)\n",
    "df.describe()"
   ]
  },
  {
   "cell_type": "markdown",
   "metadata": {},
   "source": [
    "The lexicon does not have the sentiment if any of the hash tags in the training set, so just taking the hash tags as is"
   ]
  },
  {
   "cell_type": "code",
   "execution_count": 210,
   "metadata": {
    "collapsed": false
   },
   "outputs": [
    {
     "data": {
      "text/plain": [
       "False"
      ]
     },
     "execution_count": 210,
     "metadata": {},
     "output_type": "execute_result"
    }
   ],
   "source": [
    "'stressfull' in neglist"
   ]
  },
  {
   "cell_type": "code",
   "execution_count": 217,
   "metadata": {
    "collapsed": false
   },
   "outputs": [
    {
     "name": "stdout",
     "output_type": "stream",
     "text": [
      "0.682762135304\n"
     ]
    },
    {
     "name": "stderr",
     "output_type": "stream",
     "text": [
      "/Library/Frameworks/Python.framework/Versions/3.4/lib/python3.4/site-packages/numpy/core/_methods.py:59: RuntimeWarning: Mean of empty slice.\n",
      "  warnings.warn(\"Mean of empty slice.\", RuntimeWarning)\n"
     ]
    }
   ],
   "source": [
    "pipeline = Pipeline([\n",
    "    ('regex', regExProcesses()),\n",
    "    ('features', FeatureUnion([\n",
    "                    ('bow', CountVectorizer(stop_words='english',lowercase=True,ngram_range=(1,4))),\n",
    "                    ('lex',lexiconSent()),\n",
    "                    ('punc',punctuations()),\n",
    "                    ('len',lengths()),\n",
    "#                     ('subj',Pipeline([\n",
    "#                                 ('subj',subjectivityLexicon()),\n",
    "#                                 ('subj_vect', CountVectorizer())\n",
    "#                             ]))\n",
    "                    ('negs',negations()),\n",
    "                    ('emots',emoticons()),\n",
    "                    ('elongs',elongation()),\n",
    "                    ('hashs',Pipeline([\n",
    "                                ('hashs',hash_tag()),\n",
    "                                ('hash_vect',CountVectorizer())\n",
    "                            ]))    \n",
    "\n",
    "                ])\n",
    "    ),\n",
    "    ('svm', LinearSVC())    \n",
    "    ])\n",
    "\n",
    "pipeline.fit(X,y)\n",
    "predictions  = pipeline.predict(Xt)\n",
    "print(accuracy_score(predictions, yt)) "
   ]
  },
  {
   "cell_type": "markdown",
   "metadata": {},
   "source": [
    "## Add character n grams to the pipeline"
   ]
  },
  {
   "cell_type": "code",
   "execution_count": 229,
   "metadata": {
    "collapsed": false
   },
   "outputs": [
    {
     "name": "stderr",
     "output_type": "stream",
     "text": [
      "/Library/Frameworks/Python.framework/Versions/3.4/lib/python3.4/site-packages/numpy/core/_methods.py:59: RuntimeWarning: Mean of empty slice.\n",
      "  warnings.warn(\"Mean of empty slice.\", RuntimeWarning)\n",
      "/Library/Frameworks/Python.framework/Versions/3.4/lib/python3.4/site-packages/sklearn/metrics/classification.py:756: DeprecationWarning: The default `weighted` averaging is deprecated, and from version 0.18, use of precision, recall or F-score with multiclass or multilabel data or pos_label=None will result in an exception. Please set an explicit value for `average`, one of (None, 'micro', 'macro', 'weighted', 'samples'). In cross validation use, for instance, scoring=\"f1_weighted\" instead of scoring=\"f1\".\n",
      "  sample_weight=sample_weight)\n"
     ]
    },
    {
     "name": "stdout",
     "output_type": "stream",
     "text": [
      "0.677283730412\n",
      "0.688648106623\n"
     ]
    }
   ],
   "source": [
    "pipeline = Pipeline([\n",
    "    ('regex', regExProcesses()),\n",
    "    ('features', FeatureUnion([\n",
    "                    ('bow', CountVectorizer(stop_words='english',lowercase=True,ngram_range=(1,4))),\n",
    "                    ('cow', CountVectorizer(analyzer = 'char_wb',lowercase=True,ngram_range=(1,2))),\n",
    "                    ('lex',lexiconSent()),\n",
    "                    ('punc',punctuations()),\n",
    "                    ('len',lengths()),\n",
    "# #                     ('subj',Pipeline([\n",
    "# #                                 ('subj',subjectivityLexicon()),\n",
    "# #                                 ('subj_vect', CountVectorizer())\n",
    "# #                             ]))\n",
    "                    ('negs',negations()),\n",
    "                    ('emots',emoticons()),\n",
    "                    ('elongs',elongation()),\n",
    "                    ('hashs',Pipeline([\n",
    "                                ('hashs',hash_tag()),\n",
    "                                ('hash_vect',CountVectorizer())\n",
    "                            ]))    \n",
    "\n",
    "                ])\n",
    "    ),\n",
    "    ('svm', LinearSVC())    \n",
    "    ])\n",
    "\n",
    "pipeline.fit(X,y)\n",
    "predictions  = pipeline.predict(Xt)\n",
    "print(accuracy_score(predictions, yt)) \n",
    "print(f1_score(predictions,yt,average='weighted'))"
   ]
  },
  {
   "cell_type": "code",
   "execution_count": 242,
   "metadata": {
    "collapsed": false
   },
   "outputs": [
    {
     "name": "stdout",
     "output_type": "stream",
     "text": [
      "             precision    recall  f1-score   support\n",
      "\n",
      "         -1       0.64      0.39      0.49      1331\n",
      "          0       0.64      0.87      0.73      3548\n",
      "          1       0.78      0.58      0.66      2970\n",
      "\n",
      "avg / total       0.69      0.68      0.67      7849\n",
      "\n"
     ]
    }
   ],
   "source": [
    "print(classification_report(yt,predictions))"
   ]
  },
  {
   "cell_type": "markdown",
   "metadata": {},
   "source": [
    "The prediction fore negatives is suffereing.\n",
    "Need to examin the negativre and the positive tweet s more closely"
   ]
  },
  {
   "cell_type": "code",
   "execution_count": 244,
   "metadata": {
    "collapsed": true
   },
   "outputs": [],
   "source": [
    "temp = semdf_train[semdf_train.Sentiment == 1].Tweet\n",
    "temp.to_clipboard()"
   ]
  },
  {
   "cell_type": "markdown",
   "metadata": {},
   "source": [
    "The negative tweets seem to less URLs than the positive tweets.\n",
    "try creating as feature to point that out.\n",
    "\n",
    "So first correct the regex treansformer implemented earlier"
   ]
  },
  {
   "cell_type": "code",
   "execution_count": 315,
   "metadata": {
    "collapsed": true
   },
   "outputs": [],
   "source": [
    "from sklearn.base import BaseEstimator, TransformerMixin\n",
    "\n",
    "class urls_flag(BaseEstimator, TransformerMixin):\n",
    "    def fit(self, x, y=None):\n",
    "        return self\n",
    "\n",
    "    def transform(self, frame):\n",
    "        df = pd.DataFrame()\n",
    "        urls = []\n",
    "        for tweet in frame:\n",
    "            urls.append(len(re.findall('((www\\.[^ ]+)|(https?://[^ ]+))', tweet)))\n",
    "        df['URLS'] = urls\n",
    "        return df"
   ]
  },
  {
   "cell_type": "code",
   "execution_count": 293,
   "metadata": {
    "collapsed": false
   },
   "outputs": [
    {
     "data": {
      "text/plain": [
       "1"
      ]
     },
     "execution_count": 293,
     "metadata": {},
     "output_type": "execute_result"
    }
   ],
   "source": [
    "tweet = 'I think I may have a heart attack for Jason Wus new collection. So Charlotte Rampling in the Night  http://t.co/2KRW4kTn'\n",
    "len(re.findall('((www\\.[^ ]+)|(https?://[^ ]+))', tweet))"
   ]
  },
  {
   "cell_type": "code",
   "execution_count": 310,
   "metadata": {
    "collapsed": false
   },
   "outputs": [
    {
     "name": "stdout",
     "output_type": "stream",
     "text": [
      "7553\n"
     ]
    }
   ],
   "source": [
    "def urls(frame):\n",
    "    df = pd.DataFrame()\n",
    "    urls = []\n",
    "    for tweet in frame:\n",
    "        urls.append(len(re.findall('((www\\.[^ ]+)|(https?://[^ ]+))', tweet)))\n",
    "    df['URLS'] = urls\n",
    "    return df\n",
    "print(len(X))\n",
    "df = urls(X)\n"
   ]
  },
  {
   "cell_type": "code",
   "execution_count": 317,
   "metadata": {
    "collapsed": false
   },
   "outputs": [
    {
     "name": "stdout",
     "output_type": "stream",
     "text": [
      "0.682379921009\n",
      "0.689892389797\n",
      "             precision    recall  f1-score   support\n",
      "\n",
      "         -1       0.61      0.45      0.52      1331\n",
      "          0       0.65      0.84      0.73      3548\n",
      "          1       0.77      0.60      0.67      2970\n",
      "\n",
      "avg / total       0.69      0.68      0.67      7849\n",
      "\n"
     ]
    },
    {
     "name": "stderr",
     "output_type": "stream",
     "text": [
      "/Library/Frameworks/Python.framework/Versions/3.4/lib/python3.4/site-packages/numpy/core/_methods.py:59: RuntimeWarning: Mean of empty slice.\n",
      "  warnings.warn(\"Mean of empty slice.\", RuntimeWarning)\n"
     ]
    }
   ],
   "source": [
    "pipeline = Pipeline([\n",
    "    ('regex', regExProcesses()),\n",
    "    ('features', FeatureUnion([\n",
    "                    ('bow', CountVectorizer(stop_words='english',lowercase=True,ngram_range=(1,4))),\n",
    "                    ('cow', CountVectorizer(analyzer = 'char_wb',lowercase=True,ngram_range=(2,2))),\n",
    "                    ('lex',lexiconSent()),\n",
    "                    ('punc',punctuations()),\n",
    "                    ('len',lengths()),\n",
    "# #                     ('subj',Pipeline([\n",
    "# #                                 ('subj',subjectivityLexicon()),\n",
    "# #                                 ('subj_vect', CountVectorizer())\n",
    "# #                             ]))\n",
    "                    ('negs',negations()),\n",
    "                    ('emots',emoticons()),\n",
    "                    ('elongs',elongation()),\n",
    "                    ('hashs',Pipeline([\n",
    "                                ('hashs',hash_tag()),\n",
    "                                ('hash_vect',CountVectorizer())\n",
    "                            ])),\n",
    "                    ('urls',urls_flag())\n",
    "\n",
    "                ])\n",
    "    ),\n",
    "    ('svm', LinearSVC())    \n",
    "    ])\n",
    "\n",
    "pipeline.fit(X,y)\n",
    "predictions  = pipeline.predict(Xt)\n",
    "print(accuracy_score(predictions, yt)) \n",
    "print(f1_score(predictions,yt,average='weighted'))\n",
    "print(classification_report(yt,predictions))"
   ]
  },
  {
   "cell_type": "code",
   "execution_count": 318,
   "metadata": {
    "collapsed": true
   },
   "outputs": [],
   "source": [
    "from sklearn.base import BaseEstimator, TransformerMixin\n",
    "\n",
    "class remove_url(BaseEstimator, TransformerMixin):\n",
    "    def fit(self, x, y=None):\n",
    "        return self\n",
    "\n",
    "    def transform(self, frame):\n",
    "        return [re.sub('((www\\.[^ ]+)|(https?://[^ ]+))','',tweet) for tweet in frame]"
   ]
  },
  {
   "cell_type": "code",
   "execution_count": 321,
   "metadata": {
    "collapsed": false
   },
   "outputs": [
    {
     "name": "stdout",
     "output_type": "stream",
     "text": [
      "0.68008663524\n",
      "0.691690252791\n",
      "             precision    recall  f1-score   support\n",
      "\n",
      "         -1       0.65      0.38      0.48      1331\n",
      "          0       0.64      0.86      0.74      3548\n",
      "          1       0.77      0.60      0.67      2970\n",
      "\n",
      "avg / total       0.69      0.68      0.67      7849\n",
      "\n"
     ]
    },
    {
     "name": "stderr",
     "output_type": "stream",
     "text": [
      "/Library/Frameworks/Python.framework/Versions/3.4/lib/python3.4/site-packages/numpy/core/_methods.py:59: RuntimeWarning: Mean of empty slice.\n",
      "  warnings.warn(\"Mean of empty slice.\", RuntimeWarning)\n"
     ]
    }
   ],
   "source": [
    "pipeline = Pipeline([\n",
    "    ('regex', regExProcesses()),\n",
    "    ('features', FeatureUnion([\n",
    "                    ('bow', Pipeline([\n",
    "                                ('clean',remove_url()),\n",
    "                                ('vect',CountVectorizer(stop_words='english',lowercase=True,ngram_range=(1,4)))\n",
    "                                ])),\n",
    "                    ('cow', Pipeline([\n",
    "                                    ('clean',remove_url()),\n",
    "                                    ('cvect',CountVectorizer(analyzer = 'char_wb',lowercase=True,ngram_range=(2,2)))\n",
    "                                ])),\n",
    "                    ('lex',lexiconSent()),\n",
    "                    ('punc',punctuations()),\n",
    "                    ('len',lengths()),\n",
    "# #                     ('subj',Pipeline([\n",
    "# #                                 ('subj',subjectivityLexicon()),\n",
    "# #                                 ('subj_vect', CountVectorizer())\n",
    "# #                             ]))\n",
    "                    ('negs',negations()),\n",
    "                    ('emots',emoticons()),\n",
    "                    ('elongs',elongation()),\n",
    "                    ('hashs',Pipeline([\n",
    "                                ('hashs',hash_tag()),\n",
    "                                ('hash_vect',CountVectorizer())\n",
    "                            ])),\n",
    "                    ('urls',urls_flag())\n",
    "\n",
    "                ])\n",
    "    ),\n",
    "    ('svm', LinearSVC())    \n",
    "    ])\n",
    "\n",
    "pipeline.fit(X,y)\n",
    "predictions  = pipeline.predict(Xt)\n",
    "print(accuracy_score(predictions, yt)) \n",
    "print(f1_score(predictions,yt,average='weighted'))\n",
    "print(classification_report(yt,predictions))"
   ]
  },
  {
   "cell_type": "markdown",
   "metadata": {},
   "source": [
    "69% is the best I have got so far\n",
    "\n",
    "1% more to go"
   ]
  },
  {
   "cell_type": "markdown",
   "metadata": {},
   "source": [
    "Changed the negations transformer to include more negations "
   ]
  },
  {
   "cell_type": "code",
   "execution_count": 328,
   "metadata": {
    "collapsed": false
   },
   "outputs": [
    {
     "name": "stdout",
     "output_type": "stream",
     "text": [
      "0.682634730539\n",
      "0.694123034534\n",
      "             precision    recall  f1-score   support\n",
      "\n",
      "         -1       0.66      0.38      0.49      1331\n",
      "          0       0.64      0.86      0.74      3548\n",
      "          1       0.77      0.60      0.67      2970\n",
      "\n",
      "avg / total       0.69      0.68      0.67      7849\n",
      "\n"
     ]
    },
    {
     "name": "stderr",
     "output_type": "stream",
     "text": [
      "/Library/Frameworks/Python.framework/Versions/3.4/lib/python3.4/site-packages/numpy/core/_methods.py:59: RuntimeWarning: Mean of empty slice.\n",
      "  warnings.warn(\"Mean of empty slice.\", RuntimeWarning)\n"
     ]
    }
   ],
   "source": [
    "pipeline = Pipeline([\n",
    "    ('regex', regExProcesses()),\n",
    "    ('features', FeatureUnion([\n",
    "                    ('bow', Pipeline([\n",
    "                                ('clean',remove_url()),\n",
    "                                ('vect',CountVectorizer(stop_words='english',lowercase=True,ngram_range=(1,4)))\n",
    "                                ])),\n",
    "                    ('cow', Pipeline([\n",
    "                                    ('clean',remove_url()),\n",
    "                                    ('cvect',CountVectorizer(analyzer = 'char_wb',lowercase=True,ngram_range=(2,2)))\n",
    "                                ])),\n",
    "                    ('lex',lexiconSent()),\n",
    "                    ('punc',punctuations()),\n",
    "                    ('len',lengths()),\n",
    "# #                     ('subj',Pipeline([\n",
    "# #                                 ('subj',subjectivityLexicon()),\n",
    "# #                                 ('subj_vect', CountVectorizer())\n",
    "# #                             ]))\n",
    "                    ('negs',negations()),\n",
    "                    ('emots',emoticons()),\n",
    "                    ('elongs',elongation()),\n",
    "                    ('hashs',Pipeline([\n",
    "                                ('hashs',hash_tag()),\n",
    "                                ('hash_vect',CountVectorizer())\n",
    "                            ])),\n",
    "                    ('urls',urls_flag())\n",
    "\n",
    "                ])\n",
    "    ),\n",
    "    ('svm', LinearSVC())    \n",
    "    ])\n",
    "\n",
    "pipeline.fit(X,y)\n",
    "predictions  = pipeline.predict(Xt)\n",
    "print(accuracy_score(predictions, yt)) \n",
    "print(f1_score(predictions,yt,average='weighted'))\n",
    "print(classification_report(yt,predictions))"
   ]
  },
  {
   "cell_type": "code",
   "execution_count": 330,
   "metadata": {
    "collapsed": false
   },
   "outputs": [
    {
     "name": "stdout",
     "output_type": "stream",
     "text": [
      "0.678430373296\n",
      "0.691338052978\n",
      "             precision    recall  f1-score   support\n",
      "\n",
      "         -1       0.64      0.40      0.49      1331\n",
      "          0       0.63      0.89      0.74      3548\n",
      "          1       0.81      0.56      0.66      2970\n",
      "\n",
      "avg / total       0.70      0.68      0.67      7849\n",
      "\n"
     ]
    },
    {
     "name": "stderr",
     "output_type": "stream",
     "text": [
      "/Library/Frameworks/Python.framework/Versions/3.4/lib/python3.4/site-packages/numpy/core/_methods.py:59: RuntimeWarning: Mean of empty slice.\n",
      "  warnings.warn(\"Mean of empty slice.\", RuntimeWarning)\n"
     ]
    }
   ],
   "source": [
    "pipeline = Pipeline([\n",
    "    ('regex', regExProcesses()),\n",
    "    ('features', FeatureUnion([\n",
    "                    ('bow', Pipeline([\n",
    "                                ('clean',remove_url()),\n",
    "                                ('vect',CountVectorizer(stop_words='english',lowercase=True,ngram_range=(1,4)))\n",
    "                                ])),\n",
    "                    ('cow', Pipeline([\n",
    "                                    ('clean',remove_url()),\n",
    "                                    ('cvect',CountVectorizer(analyzer = 'char_wb',lowercase=True,ngram_range=(2,2)))\n",
    "                                ])),\n",
    "                    ('lex',lexiconSent()),\n",
    "                    ('punc',punctuations()),\n",
    "                    ('len',lengths()),\n",
    "# #                     ('subj',Pipeline([\n",
    "# #                                 ('subj',subjectivityLexicon()),\n",
    "# #                                 ('subj_vect', CountVectorizer())\n",
    "# #                             ]))\n",
    "                    ('negs',negations()),\n",
    "                    ('emots',emoticons()),\n",
    "                    ('elongs',elongation()),\n",
    "                    ('hashs',Pipeline([\n",
    "                                ('hashs',hash_tag()),\n",
    "                                ('hash_vect',CountVectorizer())\n",
    "                            ])),\n",
    "                    ('urls',urls_flag())\n",
    "\n",
    "                ])\n",
    "    ),\n",
    "    ('svm', LinearSVC())    \n",
    "    ])\n",
    "\n",
    "pipeline.fit(X,y)\n",
    "predictions  = pipeline.predict(Xt)\n",
    "print(accuracy_score(predictions, yt)) \n",
    "print(f1_score(predictions,yt,average='weighted'))\n",
    "print(classification_report(yt,predictions))"
   ]
  },
  {
   "cell_type": "code",
   "execution_count": 337,
   "metadata": {
    "collapsed": false
   },
   "outputs": [],
   "source": [
    "from sklearn.base import BaseEstimator, TransformerMixin\n",
    "\n",
    "class negatives(BaseEstimator, TransformerMixin):\n",
    "    def fit(self, x, y=None):\n",
    "        return self\n",
    "\n",
    "    def transform(self, frame):\n",
    "        df= pd.DataFrame()\n",
    "        negs = []\n",
    "        for tweet in frame:\n",
    "            tweet = tweet.lower()\n",
    "            negs.append(len(re.findall(' fuck | shit | too | fault | fucking | fucked | dissapointed ',tweet.lower())))\n",
    "        df['Negs'] = negs    \n",
    "        return df.as_matrix()"
   ]
  },
  {
   "cell_type": "code",
   "execution_count": 338,
   "metadata": {
    "collapsed": false
   },
   "outputs": [
    {
     "name": "stdout",
     "output_type": "stream",
     "text": [
      "0.683016944834\n",
      "0.692357348955\n",
      "             precision    recall  f1-score   support\n",
      "\n",
      "         -1       0.63      0.42      0.51      1331\n",
      "          0       0.65      0.86      0.74      3548\n",
      "          1       0.78      0.59      0.67      2970\n",
      "\n",
      "avg / total       0.69      0.68      0.67      7849\n",
      "\n"
     ]
    },
    {
     "name": "stderr",
     "output_type": "stream",
     "text": [
      "/Library/Frameworks/Python.framework/Versions/3.4/lib/python3.4/site-packages/numpy/core/_methods.py:59: RuntimeWarning: Mean of empty slice.\n",
      "  warnings.warn(\"Mean of empty slice.\", RuntimeWarning)\n"
     ]
    }
   ],
   "source": [
    "pipeline = Pipeline([\n",
    "    ('regex', regExProcesses()),\n",
    "    ('features', FeatureUnion([\n",
    "                    ('bow', Pipeline([\n",
    "                                ('clean',remove_url()),\n",
    "                                ('vect',CountVectorizer(stop_words='english',lowercase=True,ngram_range=(1,4)))\n",
    "                                ])),\n",
    "                    ('cow', Pipeline([\n",
    "                                    ('clean',remove_url()),\n",
    "                                    ('cvect',CountVectorizer(analyzer = 'char_wb',lowercase=True,ngram_range=(2,2)))\n",
    "                                ])),\n",
    "                    ('lex',lexiconSent()),\n",
    "                    ('punc',punctuations()),\n",
    "                    ('len',lengths()),\n",
    "# #                     ('subj',Pipeline([\n",
    "# #                                 ('subj',subjectivityLexicon()),\n",
    "# #                                 ('subj_vect', CountVectorizer())\n",
    "# #                             ]))\n",
    "                    ('negs',negations()),\n",
    "                    ('emots',emoticons()),\n",
    "                    ('elongs',elongation()),\n",
    "                    ('hashs',Pipeline([\n",
    "                                ('hashs',hash_tag()),\n",
    "                                ('hash_vect',CountVectorizer())\n",
    "                            ])),\n",
    "                    ('urls',urls_flag()),\n",
    "                    ('negativs', negatives())\n",
    "\n",
    "                ])\n",
    "    ),\n",
    "    ('svm', LinearSVC())    \n",
    "    ])\n",
    "\n",
    "pipeline.fit(X,y)\n",
    "predictions  = pipeline.predict(Xt)\n",
    "print(accuracy_score(predictions, yt)) \n",
    "print(f1_score(predictions,yt,average='weighted'))\n",
    "print(classification_report(yt,predictions))"
   ]
  },
  {
   "cell_type": "markdown",
   "metadata": {},
   "source": [
    "Dont really want to do this beacuse it will take a lot of time, but lets try"
   ]
  },
  {
   "cell_type": "code",
   "execution_count": 339,
   "metadata": {
    "collapsed": true
   },
   "outputs": [],
   "source": [
    "from nltk import pos_tag\n",
    "from nltk import word_tokenize\n",
    "\n",
    "class posTagTweets(BaseEstimator, TransformerMixin):\n",
    "    def fit(self, x, y=None):\n",
    "        return self\n",
    "\n",
    "    def transform(self, df):\n",
    "        tagsoftweet = []\n",
    "        for tweet in df:\n",
    "            postaggedtweet = pos_tag(word_tokenize(tweet))  # this one is pos atgged..list inside list : token[1] for tag\n",
    "            tags = []\n",
    "            for token in postaggedtweet:\n",
    "                tags.append(token[1])\n",
    "            tagsoftweet.append(' '.join(tags))\n",
    "#             print(' '.join(tags))\n",
    "            \n",
    "#         df = getFeatureDF(tagsoftweet)\n",
    "        return tagsoftweet"
   ]
  },
  {
   "cell_type": "code",
   "execution_count": 340,
   "metadata": {
    "collapsed": false
   },
   "outputs": [
    {
     "name": "stdout",
     "output_type": "stream",
     "text": [
      "0.684036182953\n",
      "0.692794712181\n",
      "             precision    recall  f1-score   support\n",
      "\n",
      "         -1       0.63      0.43      0.51      1331\n",
      "          0       0.65      0.85      0.74      3548\n",
      "          1       0.77      0.60      0.68      2970\n",
      "\n",
      "avg / total       0.69      0.68      0.68      7849\n",
      "\n"
     ]
    },
    {
     "name": "stderr",
     "output_type": "stream",
     "text": [
      "/Library/Frameworks/Python.framework/Versions/3.4/lib/python3.4/site-packages/numpy/core/_methods.py:59: RuntimeWarning: Mean of empty slice.\n",
      "  warnings.warn(\"Mean of empty slice.\", RuntimeWarning)\n"
     ]
    }
   ],
   "source": [
    "pipeline = Pipeline([\n",
    "    ('regex', regExProcesses()),\n",
    "    ('features', FeatureUnion([\n",
    "                    ('bow', Pipeline([\n",
    "                                ('clean',remove_url()),\n",
    "                                ('vect',CountVectorizer(stop_words='english',lowercase=True,ngram_range=(1,4)))\n",
    "                                ])),\n",
    "                    ('cow', Pipeline([\n",
    "                                    ('clean',remove_url()),\n",
    "                                    ('cvect',CountVectorizer(analyzer = 'char_wb',lowercase=True,ngram_range=(2,2)))\n",
    "                                ])),\n",
    "                    ('lex',lexiconSent()),\n",
    "                    ('punc',punctuations()),\n",
    "                    ('len',lengths()),\n",
    "                    ('negs',negations()),\n",
    "                    ('emots',emoticons()),\n",
    "                    ('elongs',elongation()),\n",
    "                    ('hashs',Pipeline([\n",
    "                                ('hashs',hash_tag()),\n",
    "                                ('hash_vect',CountVectorizer())\n",
    "                            ])),\n",
    "                    ('urls',urls_flag()),\n",
    "                    ('negativs', negatives()),\n",
    "                    ('pos', Pipeline([\n",
    "                                ('pos',posTagTweets()),\n",
    "                                ('pos_vect', CountVectorizer())\n",
    "                            ])),\n",
    "\n",
    "                ])\n",
    "    ),\n",
    "    ('svm', LinearSVC())    \n",
    "    ])\n",
    "\n",
    "pipeline.fit(X,y)\n",
    "predictions  = pipeline.predict(Xt)\n",
    "print(accuracy_score(predictions, yt)) \n",
    "print(f1_score(predictions,yt,average='weighted'))\n",
    "print(classification_report(yt,predictions))"
   ]
  },
  {
   "cell_type": "markdown",
   "metadata": {},
   "source": [
    "Haha, POS tagging is not helping at all! Let me revisit the preprocessing step"
   ]
  },
  {
   "cell_type": "code",
   "execution_count": 348,
   "metadata": {
    "collapsed": false
   },
   "outputs": [
    {
     "name": "stdout",
     "output_type": "stream",
     "text": [
      "0.679959230475\n",
      "0.689278033144\n",
      "             precision    recall  f1-score   support\n",
      "\n",
      "         -1       0.59      0.46      0.52      1331\n",
      "          0       0.65      0.87      0.74      3548\n",
      "          1       0.80      0.55      0.65      2970\n",
      "\n",
      "avg / total       0.70      0.68      0.67      7849\n",
      "\n"
     ]
    },
    {
     "name": "stderr",
     "output_type": "stream",
     "text": [
      "/Library/Frameworks/Python.framework/Versions/3.4/lib/python3.4/site-packages/numpy/core/_methods.py:59: RuntimeWarning: Mean of empty slice.\n",
      "  warnings.warn(\"Mean of empty slice.\", RuntimeWarning)\n"
     ]
    }
   ],
   "source": [
    "pipeline = Pipeline([\n",
    "#     ('regex', regExProcesses()),\n",
    "    ('features', FeatureUnion([\n",
    "                    ('bow', Pipeline([\n",
    "                                ('clean',remove_url()),\n",
    "                                ('vect',CountVectorizer(stop_words='english',lowercase=True,ngram_range=(1,4)))\n",
    "                                ])),\n",
    "                    ('cow', Pipeline([\n",
    "                                    ('clean',remove_url()),\n",
    "                                    ('cvect',CountVectorizer(analyzer = 'char_wb',lowercase=True,ngram_range=(2,2)))\n",
    "                                ])),\n",
    "                    ('lex',lexiconSent()),\n",
    "                    ('punc',punctuations()),\n",
    "                    ('len',lengths()),\n",
    "                    ('negs',negations()),\n",
    "                    ('emots',emoticons()),\n",
    "                    ('elongs',elongation()),\n",
    "                    ('hashs',Pipeline([\n",
    "                                ('hashs',hash_tag()),\n",
    "                                ('hash_vect',CountVectorizer())\n",
    "                            ])),\n",
    "                    ('urls',urls_flag()),\n",
    "                    ('negativs', negatives()),\n",
    "\n",
    "                ])\n",
    "    ),\n",
    "    ('svm', LinearSVC())    \n",
    "    ])\n",
    "\n",
    "pipeline.fit(X,y)\n",
    "predictions  = pipeline.predict(Xt)\n",
    "print(accuracy_score(predictions, yt)) \n",
    "print(f1_score(predictions,yt,average='weighted'))\n",
    "print(classification_report(yt,predictions))"
   ]
  },
  {
   "cell_type": "markdown",
   "metadata": {},
   "source": [
    "Since the preprocessing that I was doing isnt really impacting the score all the score all that much.\n",
    "Plus the precision of positive tweet prediction just increased.\n",
    "lets create seperate features out of them"
   ]
  },
  {
   "cell_type": "code",
   "execution_count": 351,
   "metadata": {
    "collapsed": true
   },
   "outputs": [],
   "source": [
    "class otherFeats(BaseEstimator, TransformerMixin):\n",
    "    def fit(self, x, y=None):\n",
    "        return self\n",
    "\n",
    "    def transform(self, frame):\n",
    "        df = pd.DataFrame()\n",
    "        no_of_sents = []\n",
    "        no_of_newlines = []\n",
    "        no_of_rsdots = []\n",
    "        no_of_mentions = []\n",
    "        no_of_rspaces = []\n",
    "        for tweet in frame:\n",
    "            no_of_sents.append(len(tweet.split('.')))\n",
    "            no_of_newlines.append(len(re.findall(r'[\\n]',tweet)))\n",
    "            no_of_rsdots.append(len(re.findall('[\\.]+', tweet)))\n",
    "            no_of_mentions.append(len(re.findall('@[^\\s]*', tweet)))\n",
    "            no_of_rspaces.append(len(re.findall('[\\s]+', tweet)))\n",
    "            \n",
    "        df['SENTS'] = no_of_sents\n",
    "        df['NEWLINES'] = no_of_newlines\n",
    "        df['DOTS'] = no_of_rsdots\n",
    "        df['MENTIONS'] = no_of_mentions\n",
    "        df['SPACES'] = no_of_rspaces\n",
    "        return df.as_matrix()"
   ]
  },
  {
   "cell_type": "code",
   "execution_count": 355,
   "metadata": {
    "collapsed": false
   },
   "outputs": [
    {
     "name": "stdout",
     "output_type": "stream",
     "text": [
      "0.683016944834\n",
      "0.69339600876\n",
      "             precision    recall  f1-score   support\n",
      "\n",
      "         -1       0.63      0.43      0.51      1331\n",
      "          0       0.64      0.87      0.74      3548\n",
      "          1       0.80      0.57      0.67      2970\n",
      "\n",
      "avg / total       0.70      0.68      0.67      7849\n",
      "\n"
     ]
    },
    {
     "name": "stderr",
     "output_type": "stream",
     "text": [
      "/Library/Frameworks/Python.framework/Versions/3.4/lib/python3.4/site-packages/numpy/core/_methods.py:59: RuntimeWarning: Mean of empty slice.\n",
      "  warnings.warn(\"Mean of empty slice.\", RuntimeWarning)\n"
     ]
    }
   ],
   "source": [
    "from sklearn.feature_extraction.text import TfidfTransformer\n",
    "\n",
    "pipeline = Pipeline([\n",
    "#     ('regex', regExProcesses()),\n",
    "    ('features', FeatureUnion([\n",
    "                    ('bow', Pipeline([\n",
    "                                ('clean',remove_url()),\n",
    "                                ('vect',CountVectorizer(stop_words='english',lowercase=True,ngram_range=(1,4)))\n",
    "                                ])),\n",
    "                    ('tfbow', Pipeline([\n",
    "                                    ('clean',remove_url()),\n",
    "                                    ('tempvect', CountVectorizer()),\n",
    "                                    ('tfvect',TfidfTransformer())\n",
    "                                ])),                    \n",
    "                    ('cow', Pipeline([\n",
    "                                    ('clean',remove_url()),\n",
    "                                    ('cvect',CountVectorizer(analyzer = 'char_wb',lowercase=True,ngram_range=(2,2)))\n",
    "                                ])),\n",
    "                    ('lex',lexiconSent()),\n",
    "                    ('punc',punctuations()),\n",
    "                    ('len',lengths()),\n",
    "                    ('negs',negations()),\n",
    "                    ('emots',emoticons()),\n",
    "                    ('elongs',elongation()),\n",
    "                    ('hashs',Pipeline([\n",
    "                                ('hashs',hash_tag()),\n",
    "                                ('hash_vect',CountVectorizer())\n",
    "                            ])),\n",
    "                    ('urls',urls_flag()),\n",
    "                    ('negativs', negatives()),\n",
    "                    ('counts',otherFeats())\n",
    "\n",
    "                ])\n",
    "    ),\n",
    "    ('svm', LinearSVC())    \n",
    "    ])\n",
    "\n",
    "pipeline.fit(X,y)\n",
    "predictions  = pipeline.predict(Xt)\n",
    "print(accuracy_score(predictions, yt)) \n",
    "print(f1_score(predictions,yt,average='weighted'))\n",
    "print(classification_report(yt,predictions))"
   ]
  },
  {
   "cell_type": "code",
   "execution_count": 367,
   "metadata": {
    "collapsed": false
   },
   "outputs": [
    {
     "data": {
      "text/html": [
       "<div>\n",
       "<table border=\"1\" class=\"dataframe\">\n",
       "  <thead>\n",
       "    <tr style=\"text-align: right;\">\n",
       "      <th>preds</th>\n",
       "      <th>-1</th>\n",
       "      <th>0</th>\n",
       "      <th>1</th>\n",
       "    </tr>\n",
       "    <tr>\n",
       "      <th>yt</th>\n",
       "      <th></th>\n",
       "      <th></th>\n",
       "      <th></th>\n",
       "    </tr>\n",
       "  </thead>\n",
       "  <tbody>\n",
       "    <tr>\n",
       "      <th>-1</th>\n",
       "      <td>566</td>\n",
       "      <td>626</td>\n",
       "      <td>139</td>\n",
       "    </tr>\n",
       "    <tr>\n",
       "      <th>0</th>\n",
       "      <td>157</td>\n",
       "      <td>3097</td>\n",
       "      <td>294</td>\n",
       "    </tr>\n",
       "    <tr>\n",
       "      <th>1</th>\n",
       "      <td>181</td>\n",
       "      <td>1091</td>\n",
       "      <td>1698</td>\n",
       "    </tr>\n",
       "  </tbody>\n",
       "</table>\n",
       "</div>"
      ],
      "text/plain": [
       "preds   -1     0     1\n",
       "yt                    \n",
       "-1     566   626   139\n",
       " 0     157  3097   294\n",
       " 1     181  1091  1698"
      ]
     },
     "execution_count": 367,
     "metadata": {},
     "output_type": "execute_result"
    }
   ],
   "source": [
    "df=  pd.DataFrame({'yt': yt,'preds' : predictions})\n",
    "pd.crosstab(df.yt,df.preds)\n"
   ]
  },
  {
   "cell_type": "code",
   "execution_count": 409,
   "metadata": {
    "collapsed": false
   },
   "outputs": [
    {
     "name": "stdout",
     "output_type": "stream",
     "text": [
      "0.668617251842\n",
      "0.617283050158\n",
      "             precision    recall  f1-score   support\n",
      "\n",
      "         -1       0.61      0.38      0.47       633\n",
      "          0       0.61      0.83      0.70      1930\n",
      "          1       0.78      0.61      0.68      2051\n",
      "\n",
      "avg / total       0.68      0.67      0.66      4614\n",
      "\n",
      "0.573591828758\n"
     ]
    },
    {
     "name": "stderr",
     "output_type": "stream",
     "text": [
      "/Library/Frameworks/Python.framework/Versions/3.4/lib/python3.4/site-packages/numpy/core/_methods.py:59: RuntimeWarning: Mean of empty slice.\n",
      "  warnings.warn(\"Mean of empty slice.\", RuntimeWarning)\n"
     ]
    }
   ],
   "source": [
    "from nltk.tokenize import TreebankWordTokenizer\n",
    "pipeline = Pipeline([\n",
    "#     ('regex', regExProcesses()),\n",
    "    ('features', FeatureUnion([\n",
    "                    ('bow', Pipeline([\n",
    "                                ('clean',remove_url()),\n",
    "                                ('vect',CountVectorizer(stop_words='english',lowercase=True,ngram_range=(1,4),tokenizer=TreebankWordTokenizer().tokenize))\n",
    "                                ])),\n",
    "                    ('tfbow', Pipeline([\n",
    "                                    ('clean',remove_url()),\n",
    "                                    ('tempvect', CountVectorizer()),\n",
    "                                    ('tfvect',TfidfTransformer())\n",
    "                                ])),                    \n",
    "                    ('cow', Pipeline([\n",
    "                                    ('clean',remove_url()),\n",
    "                                    ('cvect',CountVectorizer(analyzer = 'char_wb',lowercase=True,ngram_range=(2,2)))\n",
    "                                ])),\n",
    "                    ('lex',lexiconSent()),\n",
    "                    ('punc',punctuations()),\n",
    "                    ('len',lengths()),\n",
    "                    ('negs',negations()),\n",
    "                    ('emots',emoticons()),\n",
    "                    ('elongs',elongation()),\n",
    "                    ('hashs',Pipeline([\n",
    "                                ('hashs',hash_tag()),\n",
    "                                ('hash_vect',CountVectorizer())\n",
    "                            ])),\n",
    "                    ('urls',urls_flag()),\n",
    "                    ('negativs', negatives()),\n",
    "                    ('counts',otherFeats())\n",
    "\n",
    "                ])\n",
    "    ),\n",
    "    ('svm', LinearSVC())    \n",
    "    ])\n",
    "\n",
    "pipeline.fit(X,y)\n",
    "predictions  = pipeline.predict(Xt)\n",
    "print(accuracy_score(predictions, yt)) \n",
    "print(f1_score(predictions,yt,average='macro'))\n",
    "print(classification_report(yt,predictions))\n",
    "print(f1_score(predictions,yt,average='macro', labels = [1,-1]))"
   ]
  },
  {
   "cell_type": "code",
   "execution_count": 369,
   "metadata": {
    "collapsed": false
   },
   "outputs": [
    {
     "data": {
      "text/html": [
       "<div>\n",
       "<table border=\"1\" class=\"dataframe\">\n",
       "  <thead>\n",
       "    <tr style=\"text-align: right;\">\n",
       "      <th>preds</th>\n",
       "      <th>-1</th>\n",
       "      <th>0</th>\n",
       "      <th>1</th>\n",
       "    </tr>\n",
       "    <tr>\n",
       "      <th>yt</th>\n",
       "      <th></th>\n",
       "      <th></th>\n",
       "      <th></th>\n",
       "    </tr>\n",
       "  </thead>\n",
       "  <tbody>\n",
       "    <tr>\n",
       "      <th>-1</th>\n",
       "      <td>540</td>\n",
       "      <td>635</td>\n",
       "      <td>156</td>\n",
       "    </tr>\n",
       "    <tr>\n",
       "      <th>0</th>\n",
       "      <td>146</td>\n",
       "      <td>3072</td>\n",
       "      <td>330</td>\n",
       "    </tr>\n",
       "    <tr>\n",
       "      <th>1</th>\n",
       "      <td>172</td>\n",
       "      <td>1066</td>\n",
       "      <td>1732</td>\n",
       "    </tr>\n",
       "  </tbody>\n",
       "</table>\n",
       "</div>"
      ],
      "text/plain": [
       "preds   -1     0     1\n",
       "yt                    \n",
       "-1     540   635   156\n",
       " 0     146  3072   330\n",
       " 1     172  1066  1732"
      ]
     },
     "execution_count": 369,
     "metadata": {},
     "output_type": "execute_result"
    }
   ],
   "source": [
    "df=  pd.DataFrame({'yt': yt,'preds' : predictions})\n",
    "pd.crosstab(df.yt,df.preds)"
   ]
  },
  {
   "cell_type": "code",
   "execution_count": 373,
   "metadata": {
    "collapsed": false
   },
   "outputs": [
    {
     "data": {
      "text/plain": [
       "<module 'sklearn.feature_selection.tests' from '/Library/Frameworks/Python.framework/Versions/3.4/lib/python3.4/site-packages/sklearn/feature_selection/tests/__init__.py'>"
      ]
     },
     "execution_count": 373,
     "metadata": {},
     "output_type": "execute_result"
    }
   ],
   "source": [
    "from sklearn.feature_selection import SelectKBest,f_classif\n",
    "\n"
   ]
  },
  {
   "cell_type": "code",
   "execution_count": null,
   "metadata": {
    "collapsed": true
   },
   "outputs": [],
   "source": []
  },
  {
   "cell_type": "code",
   "execution_count": 408,
   "metadata": {
    "collapsed": false
   },
   "outputs": [
    {
     "name": "stdout",
     "output_type": "stream",
     "text": [
      "0.652795838752\n",
      "0.583511220486\n",
      "             precision    recall  f1-score   support\n",
      "\n",
      "         -1       0.70      0.28      0.40       633\n",
      "          0       0.57      0.91      0.70      1930\n",
      "          1       0.83      0.52      0.64      2051\n",
      "\n",
      "avg / total       0.71      0.65      0.64      4614\n",
      "\n",
      "0.523266830729\n"
     ]
    }
   ],
   "source": [
    "from nltk.tokenize import TreebankWordTokenizer\n",
    "pipeline = Pipeline([\n",
    "#     ('regex', regExProcesses()),\n",
    "    ('features', FeatureUnion([\n",
    "                    ('bow', Pipeline([\n",
    "                                ('clean',remove_url()),\n",
    "                                ('vect',CountVectorizer(stop_words='english',lowercase=True,ngram_range=(1,4),tokenizer=TreebankWordTokenizer().tokenize))\n",
    "                                ])),\n",
    "#                     ('tfbow', Pipeline([\n",
    "#                                     ('clean',remove_url()),\n",
    "#                                     ('tempvect', CountVectorizer()),\n",
    "#                                     ('tfvect',TfidfTransformer())\n",
    "#                                 ])),                    \n",
    "#                     ('cow', Pipeline([\n",
    "#                                     ('clean',remove_url()),\n",
    "#                                     ('cvect',CountVectorizer(analyzer = 'char_wb',lowercase=True,ngram_range=(2,2)))\n",
    "#                                 ])),\n",
    "                    ('lex',lexiconSent()),\n",
    "                    ('punc',punctuations()),\n",
    "                    ('len',lengths()),\n",
    "#                     ('negs',negations()),\n",
    "                    ('emots',emoticons()),\n",
    "#                     ('elongs',elongation()),\n",
    "                    ('hashs',Pipeline([\n",
    "                                ('hashs',hash_tag()),\n",
    "                                ('hash_vect',CountVectorizer())\n",
    "                            ])),\n",
    "                    ('urls',urls_flag()),\n",
    "#                     ('negativs', negatives()),\n",
    "#                     ('counts',otherFeats())\n",
    "\n",
    "                ])\n",
    "    ),\n",
    "    ('svm', LinearSVC())    \n",
    "    ])\n",
    "\n",
    "pipeline.fit(X,y)\n",
    "predictions  = pipeline.predict(Xt)\n",
    "print(accuracy_score(predictions, yt)) \n",
    "print(f1_score(predictions,yt,average='macro'))\n",
    "print(classification_report(yt,predictions))\n",
    "print(f1_score(predictions,yt,average='macro', labels = [1,-1]))"
   ]
  },
  {
   "cell_type": "code",
   "execution_count": 404,
   "metadata": {
    "collapsed": false
   },
   "outputs": [
    {
     "name": "stdout",
     "output_type": "stream",
     "text": [
      "0.566671550351\n"
     ]
    }
   ],
   "source": [
    "print(f1_score(predictions,yt,average='macro', labels = [1,-1]))"
   ]
  },
  {
   "cell_type": "code",
   "execution_count": null,
   "metadata": {
    "collapsed": true
   },
   "outputs": [],
   "source": []
  },
  {
   "cell_type": "markdown",
   "metadata": {},
   "source": [
    "## Recursive feature elimination to see which of the features are contributing to the model"
   ]
  },
  {
   "cell_type": "code",
   "execution_count": 219,
   "metadata": {
    "collapsed": false
   },
   "outputs": [
    {
     "name": "stderr",
     "output_type": "stream",
     "text": [
      "/Library/Frameworks/Python.framework/Versions/3.4/lib/python3.4/site-packages/numpy/core/_methods.py:59: RuntimeWarning: Mean of empty slice.\n",
      "  warnings.warn(\"Mean of empty slice.\", RuntimeWarning)\n",
      "/Library/Frameworks/Python.framework/Versions/3.4/lib/python3.4/site-packages/sklearn/utils/__init__.py:93: DeprecationWarning: Function transform is deprecated; Support to use estimators as feature selectors will be removed in version 0.19. Use SelectFromModel instead.\n",
      "  warnings.warn(msg, category=DeprecationWarning)\n"
     ]
    },
    {
     "name": "stdout",
     "output_type": "stream",
     "text": [
      "0.582112371003\n"
     ]
    }
   ],
   "source": [
    "pipeline = Pipeline([\n",
    "    ('regex', regExProcesses()),\n",
    "    ('features', FeatureUnion([\n",
    "#                     ('bow', CountVectorizer(stop_words='english',lowercase=True,ngram_range=(1,4))),\n",
    "                    ('lex',lexiconSent()),\n",
    "                    ('punc',punctuations()),\n",
    "                    ('len',lengths()),\n",
    "                    ('subj',Pipeline([\n",
    "                                ('subj',subjectivityLexicon()),\n",
    "                                ('subj_vect', CountVectorizer())\n",
    "                            ])),\n",
    "                    ('negs',negations()),\n",
    "                    ('emots',emoticons()),\n",
    "                    ('elongs',elongation()),\n",
    "                    ('hashs',Pipeline([\n",
    "                                ('hashs',hash_tag()),\n",
    "                                ('hash_vect',CountVectorizer())\n",
    "                            ]))    \n",
    "\n",
    "                ])\n",
    "    ),\n",
    "    ('svm', LinearSVC())    \n",
    "    ])\n",
    "\n",
    "pipeline.fit(X,y)\n",
    "predictions  = pipeline.predict(Xt)\n",
    "print(accuracy_score(predictions, yt)) \n",
    "\n",
    "Xfeats = pipeline.transform(X)\n",
    "Xfeats = Xfeats.todense()"
   ]
  },
  {
   "cell_type": "code",
   "execution_count": 382,
   "metadata": {
    "collapsed": false
   },
   "outputs": [
    {
     "name": "stderr",
     "output_type": "stream",
     "text": [
      "/Library/Frameworks/Python.framework/Versions/3.4/lib/python3.4/site-packages/sklearn/utils/__init__.py:93: DeprecationWarning: Function transform is deprecated; Support to use estimators as feature selectors will be removed in version 0.19. Use SelectFromModel instead.\n",
      "  warnings.warn(msg, category=DeprecationWarning)\n"
     ]
    }
   ],
   "source": [
    "Xfeats = pipeline.transform(X)\n",
    "Xfeats = Xfeats.todense()"
   ]
  },
  {
   "cell_type": "code",
   "execution_count": 383,
   "metadata": {
    "collapsed": false
   },
   "outputs": [
    {
     "ename": "KeyboardInterrupt",
     "evalue": "",
     "output_type": "error",
     "traceback": [
      "\u001b[0;31m---------------------------------------------------------------------------\u001b[0m",
      "\u001b[0;31mKeyboardInterrupt\u001b[0m                         Traceback (most recent call last)",
      "\u001b[0;32m<ipython-input-383-53ec691d688b>\u001b[0m in \u001b[0;36m<module>\u001b[0;34m()\u001b[0m\n\u001b[1;32m     18\u001b[0m rfecv = RFECV(estimator=svc, step=1, cv=StratifiedKFold(y, 2),\n\u001b[1;32m     19\u001b[0m               scoring='accuracy')\n\u001b[0;32m---> 20\u001b[0;31m \u001b[0mrfecv\u001b[0m\u001b[0;34m.\u001b[0m\u001b[0mfit\u001b[0m\u001b[0;34m(\u001b[0m\u001b[0mXfeats\u001b[0m\u001b[0;34m,\u001b[0m \u001b[0my\u001b[0m\u001b[0;34m)\u001b[0m\u001b[0;34m\u001b[0m\u001b[0m\n\u001b[0m\u001b[1;32m     21\u001b[0m \u001b[0;34m\u001b[0m\u001b[0m\n\u001b[1;32m     22\u001b[0m \u001b[0mprint\u001b[0m\u001b[0;34m(\u001b[0m\u001b[0;34m\"Optimal number of features : %d\"\u001b[0m \u001b[0;34m%\u001b[0m \u001b[0mrfecv\u001b[0m\u001b[0;34m.\u001b[0m\u001b[0mn_features_\u001b[0m\u001b[0;34m)\u001b[0m\u001b[0;34m\u001b[0m\u001b[0m\n",
      "\u001b[0;32m/Library/Frameworks/Python.framework/Versions/3.4/lib/python3.4/site-packages/sklearn/feature_selection/rfe.py\u001b[0m in \u001b[0;36mfit\u001b[0;34m(self, X, y)\u001b[0m\n\u001b[1;32m    422\u001b[0m                       verbose=self.verbose - 1)\n\u001b[1;32m    423\u001b[0m \u001b[0;34m\u001b[0m\u001b[0m\n\u001b[0;32m--> 424\u001b[0;31m             rfe._fit(X_train, y_train, lambda estimator, features:\n\u001b[0m\u001b[1;32m    425\u001b[0m                      _score(estimator, X_test[:, features], y_test, scorer))\n\u001b[1;32m    426\u001b[0m             \u001b[0mscores\u001b[0m\u001b[0;34m.\u001b[0m\u001b[0mappend\u001b[0m\u001b[0;34m(\u001b[0m\u001b[0mnp\u001b[0m\u001b[0;34m.\u001b[0m\u001b[0marray\u001b[0m\u001b[0;34m(\u001b[0m\u001b[0mrfe\u001b[0m\u001b[0;34m.\u001b[0m\u001b[0mscores_\u001b[0m\u001b[0;34m[\u001b[0m\u001b[0;34m:\u001b[0m\u001b[0;34m:\u001b[0m\u001b[0;34m-\u001b[0m\u001b[0;36m1\u001b[0m\u001b[0;34m]\u001b[0m\u001b[0;34m)\u001b[0m\u001b[0;34m.\u001b[0m\u001b[0mreshape\u001b[0m\u001b[0;34m(\u001b[0m\u001b[0;36m1\u001b[0m\u001b[0;34m,\u001b[0m \u001b[0;34m-\u001b[0m\u001b[0;36m1\u001b[0m\u001b[0;34m)\u001b[0m\u001b[0;34m)\u001b[0m\u001b[0;34m\u001b[0m\u001b[0m\n",
      "\u001b[0;32m/Library/Frameworks/Python.framework/Versions/3.4/lib/python3.4/site-packages/sklearn/feature_selection/rfe.py\u001b[0m in \u001b[0;36m_fit\u001b[0;34m(self, X, y, step_score)\u001b[0m\n\u001b[1;32m    172\u001b[0m                 \u001b[0mprint\u001b[0m\u001b[0;34m(\u001b[0m\u001b[0;34m\"Fitting estimator with %d features.\"\u001b[0m \u001b[0;34m%\u001b[0m \u001b[0mnp\u001b[0m\u001b[0;34m.\u001b[0m\u001b[0msum\u001b[0m\u001b[0;34m(\u001b[0m\u001b[0msupport_\u001b[0m\u001b[0;34m)\u001b[0m\u001b[0;34m)\u001b[0m\u001b[0;34m\u001b[0m\u001b[0m\n\u001b[1;32m    173\u001b[0m \u001b[0;34m\u001b[0m\u001b[0m\n\u001b[0;32m--> 174\u001b[0;31m             \u001b[0mestimator\u001b[0m\u001b[0;34m.\u001b[0m\u001b[0mfit\u001b[0m\u001b[0;34m(\u001b[0m\u001b[0mX\u001b[0m\u001b[0;34m[\u001b[0m\u001b[0;34m:\u001b[0m\u001b[0;34m,\u001b[0m \u001b[0mfeatures\u001b[0m\u001b[0;34m]\u001b[0m\u001b[0;34m,\u001b[0m \u001b[0my\u001b[0m\u001b[0;34m)\u001b[0m\u001b[0;34m\u001b[0m\u001b[0m\n\u001b[0m\u001b[1;32m    175\u001b[0m \u001b[0;34m\u001b[0m\u001b[0m\n\u001b[1;32m    176\u001b[0m             \u001b[0;31m# Get coefs\u001b[0m\u001b[0;34m\u001b[0m\u001b[0;34m\u001b[0m\u001b[0m\n",
      "\u001b[0;32m/Library/Frameworks/Python.framework/Versions/3.4/lib/python3.4/site-packages/sklearn/svm/classes.py\u001b[0m in \u001b[0;36mfit\u001b[0;34m(self, X, y)\u001b[0m\n\u001b[1;32m    203\u001b[0m \u001b[0;34m\u001b[0m\u001b[0m\n\u001b[1;32m    204\u001b[0m         X, y = check_X_y(X, y, accept_sparse='csr',\n\u001b[0;32m--> 205\u001b[0;31m                          dtype=np.float64, order=\"C\")\n\u001b[0m\u001b[1;32m    206\u001b[0m         \u001b[0mcheck_classification_targets\u001b[0m\u001b[0;34m(\u001b[0m\u001b[0my\u001b[0m\u001b[0;34m)\u001b[0m\u001b[0;34m\u001b[0m\u001b[0m\n\u001b[1;32m    207\u001b[0m         \u001b[0mself\u001b[0m\u001b[0;34m.\u001b[0m\u001b[0mclasses_\u001b[0m \u001b[0;34m=\u001b[0m \u001b[0mnp\u001b[0m\u001b[0;34m.\u001b[0m\u001b[0munique\u001b[0m\u001b[0;34m(\u001b[0m\u001b[0my\u001b[0m\u001b[0;34m)\u001b[0m\u001b[0;34m\u001b[0m\u001b[0m\n",
      "\u001b[0;32m/Library/Frameworks/Python.framework/Versions/3.4/lib/python3.4/site-packages/sklearn/utils/validation.py\u001b[0m in \u001b[0;36mcheck_X_y\u001b[0;34m(X, y, accept_sparse, dtype, order, copy, force_all_finite, ensure_2d, allow_nd, multi_output, ensure_min_samples, ensure_min_features, y_numeric, warn_on_dtype, estimator)\u001b[0m\n\u001b[1;32m    508\u001b[0m     X = check_array(X, accept_sparse, dtype, order, copy, force_all_finite,\n\u001b[1;32m    509\u001b[0m                     \u001b[0mensure_2d\u001b[0m\u001b[0;34m,\u001b[0m \u001b[0mallow_nd\u001b[0m\u001b[0;34m,\u001b[0m \u001b[0mensure_min_samples\u001b[0m\u001b[0;34m,\u001b[0m\u001b[0;34m\u001b[0m\u001b[0m\n\u001b[0;32m--> 510\u001b[0;31m                     ensure_min_features, warn_on_dtype, estimator)\n\u001b[0m\u001b[1;32m    511\u001b[0m     \u001b[0;32mif\u001b[0m \u001b[0mmulti_output\u001b[0m\u001b[0;34m:\u001b[0m\u001b[0;34m\u001b[0m\u001b[0m\n\u001b[1;32m    512\u001b[0m         y = check_array(y, 'csr', force_all_finite=True, ensure_2d=False,\n",
      "\u001b[0;32m/Library/Frameworks/Python.framework/Versions/3.4/lib/python3.4/site-packages/sklearn/utils/validation.py\u001b[0m in \u001b[0;36mcheck_array\u001b[0;34m(array, accept_sparse, dtype, order, copy, force_all_finite, ensure_2d, allow_nd, ensure_min_samples, ensure_min_features, warn_on_dtype, estimator)\u001b[0m\n\u001b[1;32m    371\u001b[0m                                       force_all_finite)\n\u001b[1;32m    372\u001b[0m     \u001b[0;32melse\u001b[0m\u001b[0;34m:\u001b[0m\u001b[0;34m\u001b[0m\u001b[0m\n\u001b[0;32m--> 373\u001b[0;31m         \u001b[0marray\u001b[0m \u001b[0;34m=\u001b[0m \u001b[0mnp\u001b[0m\u001b[0;34m.\u001b[0m\u001b[0marray\u001b[0m\u001b[0;34m(\u001b[0m\u001b[0marray\u001b[0m\u001b[0;34m,\u001b[0m \u001b[0mdtype\u001b[0m\u001b[0;34m=\u001b[0m\u001b[0mdtype\u001b[0m\u001b[0;34m,\u001b[0m \u001b[0morder\u001b[0m\u001b[0;34m=\u001b[0m\u001b[0morder\u001b[0m\u001b[0;34m,\u001b[0m \u001b[0mcopy\u001b[0m\u001b[0;34m=\u001b[0m\u001b[0mcopy\u001b[0m\u001b[0;34m)\u001b[0m\u001b[0;34m\u001b[0m\u001b[0m\n\u001b[0m\u001b[1;32m    374\u001b[0m \u001b[0;34m\u001b[0m\u001b[0m\n\u001b[1;32m    375\u001b[0m         \u001b[0;32mif\u001b[0m \u001b[0mensure_2d\u001b[0m\u001b[0;34m:\u001b[0m\u001b[0;34m\u001b[0m\u001b[0m\n",
      "\u001b[0;31mKeyboardInterrupt\u001b[0m: "
     ]
    }
   ],
   "source": [
    "#Recursive feature extractionwith cross validation\n",
    "\n",
    "import matplotlib.pyplot as plt\n",
    "from sklearn.svm import SVC\n",
    "from sklearn.cross_validation import StratifiedKFold\n",
    "from sklearn.feature_selection import RFECV\n",
    "from sklearn.datasets import make_classification\n",
    "\n",
    "# Build a classification task using 3 informative features\n",
    "\n",
    "# y = target_training.as_matrix(columns=None)\n",
    "# X = training_set.as_matrix(columns=None)\n",
    "\n",
    "# Create the RFE object and compute a cross-validated score.\n",
    "svc = LinearSVC()\n",
    "# The \"accuracy\" scoring is proportional to the number of correct\n",
    "# classifications\n",
    "rfecv = RFECV(estimator=svc, step=1, cv=StratifiedKFold(y, 2),\n",
    "              scoring='accuracy')\n",
    "rfecv.fit(Xfeats, y)\n",
    "\n",
    "print(\"Optimal number of features : %d\" % rfecv.n_features_)\n",
    "\n",
    "# Plot number of features VS. cross-validation scores\n",
    "plt.figure()\n",
    "plt.xlabel(\"Number of features selected\")\n",
    "plt.ylabel(\"Cross validation score (nb of correct classifications)\")\n",
    "plt.plot(range(1, len(rfecv.grid_scores_) + 1), rfecv.grid_scores_)\n",
    "plt.show()"
   ]
  },
  {
   "cell_type": "code",
   "execution_count": null,
   "metadata": {
    "collapsed": true
   },
   "outputs": [],
   "source": []
  },
  {
   "cell_type": "code",
   "execution_count": null,
   "metadata": {
    "collapsed": true
   },
   "outputs": [],
   "source": []
  },
  {
   "cell_type": "code",
   "execution_count": null,
   "metadata": {
    "collapsed": true
   },
   "outputs": [],
   "source": []
  },
  {
   "cell_type": "code",
   "execution_count": 370,
   "metadata": {
    "collapsed": true
   },
   "outputs": [],
   "source": [
    "semdf_train[semdf_train.Sentiment == 0].Tweet.to_clipboard()"
   ]
  },
  {
   "cell_type": "code",
   "execution_count": 73,
   "metadata": {
    "collapsed": false
   },
   "outputs": [
    {
     "data": {
      "text/plain": [
       "15402"
      ]
     },
     "execution_count": 73,
     "metadata": {},
     "output_type": "execute_result"
    }
   ],
   "source": [
    "semdf_train_2 = pd.concat([semdf_train,semdf_test])\n",
    "len(semdf_train_2)"
   ]
  },
  {
   "cell_type": "code",
   "execution_count": 74,
   "metadata": {
    "collapsed": true
   },
   "outputs": [],
   "source": [
    "semdf_train  = semdf_train_2"
   ]
  },
  {
   "cell_type": "code",
   "execution_count": 104,
   "metadata": {
    "collapsed": false
   },
   "outputs": [
    {
     "name": "stdout",
     "output_type": "stream",
     "text": [
      "9578\n"
     ]
    }
   ],
   "source": [
    "dfBow = getBOWFeatures(semdf_train,1,4)\n",
    "# dfSubj1= getSubjectvityfeatures(semdf_train)\n",
    "# dfPOS1= getPOStagfeatures(semdf_train)\n",
    "# dfTarg1 = getTargetFeatures(semdf_train)\n",
    "# dep_feats21 = getTypeDependencyFeatures(semdf_train)\n",
    "# dep_feats31 = soaTypeDependency(semdf_train)"
   ]
  },
  {
   "cell_type": "code",
   "execution_count": 79,
   "metadata": {
    "collapsed": true
   },
   "outputs": [],
   "source": [
    "semdf_train['POSITVE_LEX'] = [getPositiveWordCount(tweet) for tweet in semdf_train['Tweet']]\n",
    "semdf_train['NEGATIVE_LEX'] = [getNegativeWordCount(tweet) for tweet in semdf_train['Tweet']]\n",
    "semdf_train['PUNC_EXCL'] = [len(re.findall(r'!',tweet)) for tweet in semdf_train['Tweet']]\n",
    "semdf_train['PUNC_QUES'] = [len(re.findall(r'\\?',tweet)) for tweet in semdf_train['Tweet']]\n",
    "semdf_train['EMOT_POS'] = [len(re.findall(r':-D|:D|:-\\)|:\\)|;-\\)|;\\)',tweet)) for tweet in semdf_train['Tweet']]\n",
    "semdf_train['EMOT_NEG'] = [len(re.findall(r':-\\(|:\\(',tweet)) for tweet in semdf_train['Tweet']]\n",
    "semdf_train['POS_EMO'] = [len(re.findall(r'\\U0001F618|\\U0001F61A|\\U0001F63B|\\U0001F63D|\\U0001F602|\\U0001F603|\\U0001F604|\\U0001F605|\\U0001F606|\\U0001F609|\\U0001F60A|\\U0001F60B|\\U0001F60C|\\U0001F60D|\\U0001F60F|\\U0001F612|\\U0001F61C|\\U0001F61D|\\U0001F638|\\U0001F639|\\U0001F63A|\\U0001F63C|\\U0001F44C|\\U0001F44D|\\U0001F44F|\\U0001F450|\\U0001F451|\\U0001F600|\\U0001F607|\\U0001F608|\\U0001F60E|\\U0001F617|\\U0001F619|\\U0001F61B|\\U0001f917|\\U0001f595|\\U0001f389|\\U0001f38a',tweet)) for tweet in semdf_train['Tweet']]\n",
    "semdf_train['NEG_EMO'] = [len(re.findall(r'\\U0001F621|\\U0001F624|\\U0001F63E|\\U0001F449|\\U0001F44A|\\U0001F613|\\U0001F614|\\U0001F616|\\U0001F61E|\\U0001F620|\\U0001F622|\\U0001F623|\\U0001F625|\\U0001F628|\\U0001F629|\\U0001F62A|\\U0001F62B|\\U0001F62D|\\U0001F630|\\U0001F631|\\U0001F632|\\U0001F635|\\U0001F637|\\U0001F63F|\\U0001F640|\\U0001F44E|\\U0001f634|\\U0001F61F|\\U0001F626|\\U0001F627|\\U0001F62E|\\U0001F62F|\\U0001F634',tweet)) for tweet in semdf_train['Tweet']]\n",
    "semdf_train['NEUTRAL_EMO'] = [len(re.findall(r'U0001F601|\\U0001F633|\\U0001F645|\\U0001F646|\\U0001F647|\\U0001F648|\\U0001F649|\\U0001F64A|\\U0001F64B|\\U0001F64C|\\U0001F64D|\\U0001F64E|\\U0001F64F|\\U0001F448|\\U0001F44B|\\U0001F610|\\U0001F611|\\U0001F615|\\U0001F62C|\\U0001F636',tweet)) for tweet in semdf_train['Tweet']]"
   ]
  },
  {
   "cell_type": "code",
   "execution_count": 102,
   "metadata": {
    "collapsed": false
   },
   "outputs": [],
   "source": [
    "import numpy as np\n",
    "semdf_train.index = np.arange(len(semdf_train))# Need to reindex to join properly\n",
    "data = dfBow.copy()\n",
    "data = data.join(semdf_train['POSITVE_LEX'])\n",
    "data = data.join(semdf_train['NEGATIVE_LEX'])\n",
    "data = data.join(semdf_train['PUNC_QUES'])\n",
    "data = data.join(semdf_train['PUNC_EXCL'])\n",
    "data = data.join(semdf_train['EMOT_POS'])\n",
    "data = data.join(semdf_train['EMOT_NEG'])\n",
    "data = data.join(semdf_train['POS_EMO'])\n",
    "data = data.join(semdf_train['NEG_EMO'])\n",
    "data = data.join(semdf_train['NEUTRAL_EMO'])\n",
    "data = data.join(semdf_train['Sentiment'])"
   ]
  },
  {
   "cell_type": "code",
   "execution_count": 96,
   "metadata": {
    "collapsed": true
   },
   "outputs": [],
   "source": [
    "data1 = data[0:7553]\n",
    "data2 = data[7553:]\n"
   ]
  },
  {
   "cell_type": "code",
   "execution_count": null,
   "metadata": {
    "collapsed": true
   },
   "outputs": [],
   "source": [
    "from sklearn.pipeline import FeatureUnion\n",
    "from sklearn.pipeline import Pipeline\n",
    "from sklearn.svm import LinearSVC"
   ]
  },
  {
   "cell_type": "code",
   "execution_count": 97,
   "metadata": {
    "collapsed": false
   },
   "outputs": [
    {
     "name": "stdout",
     "output_type": "stream",
     "text": [
      "<function accuracy_score at 0x1096db8c8>\n"
     ]
    }
   ],
   "source": [
    "classifier = LinearSVC()\n",
    "y = data1['Sentiment']\n",
    "y = [int(lab) for lab in y]\n",
    "X = data1\n",
    "yt = data2['Sentiment']\n",
    "yt = [int(lab) for lab in yt]\n",
    "Xt = data2\n",
    "X.drop('Sentiment',axis = 1,inplace = True)\n",
    "Xt.drop('Sentiment',axis = 1,inplace = True)\n",
    "classifier.fit(X,y)\n",
    "preds = classifier.predict(Xt)\n",
    "accuracy = accuracy_score(yt,preds)\n",
    "print(accuracy)"
   ]
  },
  {
   "cell_type": "code",
   "execution_count": 98,
   "metadata": {
    "collapsed": false
   },
   "outputs": [
    {
     "data": {
      "text/plain": [
       "0.63638680086635235"
      ]
     },
     "execution_count": 98,
     "metadata": {},
     "output_type": "execute_result"
    }
   ],
   "source": [
    "accuracy_score(yt,preds)"
   ]
  },
  {
   "cell_type": "code",
   "execution_count": 71,
   "metadata": {
    "collapsed": false
   },
   "outputs": [
    {
     "name": "stdout",
     "output_type": "stream",
     "text": [
      "Training set size :  4532\n",
      "Testing set size :  3021 \n",
      "\n",
      "Number of features used in training:  3581\n",
      "Cross validation scores :  [ 0.54942288  0.55054319  0.56047988  0.57723991  0.58164765  0.58429032\n",
      "  0.59377918  0.60305168  0.60083981  0.60194502]\n",
      "Cross validation scores :  0.580323953651\n"
     ]
    },
    {
     "data": {
      "image/png": "[encoded data removed]",
      "text/plain": [
       "<matplotlib.figure.Figure at 0x1046fe128>"
      ]
     },
     "metadata": {},
     "output_type": "display_data"
    },
    {
     "data": {
      "image/png": "[encoded data removed]",
      "text/plain": [
       "<matplotlib.figure.Figure at 0x10c8605c0>"
      ]
     },
     "metadata": {},
     "output_type": "display_data"
    },
    {
     "data": {
      "image/png": "[encoded data removed]",
      "text/plain": [
       "<matplotlib.figure.Figure at 0x10c7e7240>"
      ]
     },
     "metadata": {},
     "output_type": "display_data"
    },
    {
     "data": {
      "image/png": "[encoded data removed]",
      "text/plain": [
       "<matplotlib.figure.Figure at 0x10c925eb8>"
      ]
     },
     "metadata": {},
     "output_type": "display_data"
    },
    {
     "name": "stdout",
     "output_type": "stream",
     "text": [
      "Accuracy on the training data :  0.98786407767\n",
      "Accuracy on the testing data :  0.595498179411 \n",
      "\n",
      "Training data Crosstab: \n",
      " col_0       -1     0     1\n",
      "Sentiment                 \n",
      "-1         629    10     4\n",
      " 0           2  2185    13\n",
      " 1           1    25  1663\n",
      "Testing data Crosstab: \n",
      " col_0       -1    0    1\n",
      "Sentiment               \n",
      "-1         119  190  111\n",
      " 0         155  999  322\n",
      " 1          80  364  681 \n",
      "\n"
     ]
    },
    {
     "data": {
      "image/png": "[encoded data removed]",
      "text/plain": [
       "<matplotlib.figure.Figure at 0x10c7d9630>"
      ]
     },
     "metadata": {},
     "output_type": "display_data"
    }
   ],
   "source": [
    "import warnings\n",
    "warnings.filterwarnings('ignore')\n",
    "classifier,target_training,target_testing,predictions_training,predictions_testing,training_set,testing_set= Classify(data, 0.6)"
   ]
  },
  {
   "cell_type": "code",
   "execution_count": null,
   "metadata": {
    "collapsed": true
   },
   "outputs": [],
   "source": [
    "from sklearn.metrics import f1_score\n",
    "f1_score()"
   ]
  },
  {
   "cell_type": "code",
   "execution_count": null,
   "metadata": {
    "collapsed": true
   },
   "outputs": [],
   "source": []
  },
  {
   "cell_type": "code",
   "execution_count": null,
   "metadata": {
    "collapsed": true
   },
   "outputs": [],
   "source": []
  },
  {
   "cell_type": "code",
   "execution_count": null,
   "metadata": {
    "collapsed": true
   },
   "outputs": [],
   "source": [
    "dfBow = getBOWFeatures(semdf_train,1,1)"
   ]
  },
  {
   "cell_type": "code",
   "execution_count": null,
   "metadata": {
    "collapsed": true
   },
   "outputs": [],
   "source": []
  },
  {
   "cell_type": "code",
   "execution_count": 18,
   "metadata": {
    "collapsed": true
   },
   "outputs": [],
   "source": [
    "df = pd.read_csv('/Users/gautamborgohain/Downloads/sanders-twitter-0.2/corpus.csv')"
   ]
  },
  {
   "cell_type": "code",
   "execution_count": 19,
   "metadata": {
    "collapsed": false
   },
   "outputs": [
    {
     "data": {
      "text/html": [
       "<div>\n",
       "<table border=\"1\" class=\"dataframe\">\n",
       "  <thead>\n",
       "    <tr style=\"text-align: right;\">\n",
       "      <th></th>\n",
       "      <th>target</th>\n",
       "      <th>Sentiment</th>\n",
       "      <th>ID</th>\n",
       "    </tr>\n",
       "  </thead>\n",
       "  <tbody>\n",
       "    <tr>\n",
       "      <th>0</th>\n",
       "      <td>apple</td>\n",
       "      <td>positive</td>\n",
       "      <td>126404574230740992</td>\n",
       "    </tr>\n",
       "    <tr>\n",
       "      <th>1</th>\n",
       "      <td>apple</td>\n",
       "      <td>positive</td>\n",
       "      <td>126402758403305474</td>\n",
       "    </tr>\n",
       "    <tr>\n",
       "      <th>2</th>\n",
       "      <td>apple</td>\n",
       "      <td>positive</td>\n",
       "      <td>126397179614068736</td>\n",
       "    </tr>\n",
       "    <tr>\n",
       "      <th>3</th>\n",
       "      <td>apple</td>\n",
       "      <td>positive</td>\n",
       "      <td>126395626979196928</td>\n",
       "    </tr>\n",
       "    <tr>\n",
       "      <th>4</th>\n",
       "      <td>apple</td>\n",
       "      <td>positive</td>\n",
       "      <td>126394830791254016</td>\n",
       "    </tr>\n",
       "  </tbody>\n",
       "</table>\n",
       "</div>"
      ],
      "text/plain": [
       "  target Sentiment                  ID\n",
       "0  apple  positive  126404574230740992\n",
       "1  apple  positive  126402758403305474\n",
       "2  apple  positive  126397179614068736\n",
       "3  apple  positive  126395626979196928\n",
       "4  apple  positive  126394830791254016"
      ]
     },
     "execution_count": 19,
     "metadata": {},
     "output_type": "execute_result"
    }
   ],
   "source": [
    "df.columns = ['target','Sentiment','ID']\n",
    "df.head()"
   ]
  },
  {
   "cell_type": "code",
   "execution_count": 20,
   "metadata": {
    "collapsed": true
   },
   "outputs": [],
   "source": [
    "df['UID'] = 1"
   ]
  },
  {
   "cell_type": "code",
   "execution_count": 22,
   "metadata": {
    "collapsed": false
   },
   "outputs": [
    {
     "data": {
      "text/html": [
       "<div>\n",
       "<table border=\"1\" class=\"dataframe\">\n",
       "  <thead>\n",
       "    <tr style=\"text-align: right;\">\n",
       "      <th></th>\n",
       "      <th>ID</th>\n",
       "      <th>UID</th>\n",
       "      <th>Sentiment</th>\n",
       "      <th>target</th>\n",
       "    </tr>\n",
       "  </thead>\n",
       "  <tbody>\n",
       "    <tr>\n",
       "      <th>0</th>\n",
       "      <td>126404574230740992</td>\n",
       "      <td>1</td>\n",
       "      <td>positive</td>\n",
       "      <td>apple</td>\n",
       "    </tr>\n",
       "    <tr>\n",
       "      <th>1</th>\n",
       "      <td>126402758403305474</td>\n",
       "      <td>1</td>\n",
       "      <td>positive</td>\n",
       "      <td>apple</td>\n",
       "    </tr>\n",
       "    <tr>\n",
       "      <th>2</th>\n",
       "      <td>126397179614068736</td>\n",
       "      <td>1</td>\n",
       "      <td>positive</td>\n",
       "      <td>apple</td>\n",
       "    </tr>\n",
       "    <tr>\n",
       "      <th>3</th>\n",
       "      <td>126395626979196928</td>\n",
       "      <td>1</td>\n",
       "      <td>positive</td>\n",
       "      <td>apple</td>\n",
       "    </tr>\n",
       "    <tr>\n",
       "      <th>4</th>\n",
       "      <td>126394830791254016</td>\n",
       "      <td>1</td>\n",
       "      <td>positive</td>\n",
       "      <td>apple</td>\n",
       "    </tr>\n",
       "  </tbody>\n",
       "</table>\n",
       "</div>"
      ],
      "text/plain": [
       "                   ID  UID Sentiment target\n",
       "0  126404574230740992    1  positive  apple\n",
       "1  126402758403305474    1  positive  apple\n",
       "2  126397179614068736    1  positive  apple\n",
       "3  126395626979196928    1  positive  apple\n",
       "4  126394830791254016    1  positive  apple"
      ]
     },
     "execution_count": 22,
     "metadata": {},
     "output_type": "execute_result"
    }
   ],
   "source": [
    "df = df[['ID','UID','Sentiment','target']]\n",
    "df.head()"
   ]
  },
  {
   "cell_type": "code",
   "execution_count": 25,
   "metadata": {
    "collapsed": false
   },
   "outputs": [],
   "source": [
    "df.to_csv('/Users/gautamborgohain/Downloads/sanders-twitter-0.2/corpus2.csv', index=False)"
   ]
  },
  {
   "cell_type": "code",
   "execution_count": null,
   "metadata": {
    "collapsed": true
   },
   "outputs": [],
   "source": []
  },
  {
   "cell_type": "code",
   "execution_count": 32,
   "metadata": {
    "collapsed": false
   },
   "outputs": [
    {
     "data": {
      "text/plain": [
       "'@TODAYonline: Some SMstaff upset over apparent disregard for workers’ safety https://t.co/7ZDQAwWQHr https://t.co/Nlg2ohMu1E'"
      ]
     },
     "execution_count": 32,
     "metadata": {},
     "output_type": "execute_result"
    }
   ],
   "source": [
    "tweet = 'RT @TODAYonline: Some SMRT staff upset over apparent disregard for workers’ safety https://t.co/7ZDQAwWQHr https://t.co/Nlg2ohMu1E'\n",
    "re.sub('ST \\||CNA \\||TODAY \\||COCONUTS \\||ASIAONE \\||TNP \\||REDWIRE TIMES \\||', '', tweet)"
   ]
  },
  {
   "cell_type": "code",
   "execution_count": 41,
   "metadata": {
    "collapsed": false
   },
   "outputs": [
    {
     "data": {
      "text/html": [
       "<div>\n",
       "<table border=\"1\" class=\"dataframe\">\n",
       "  <thead>\n",
       "    <tr style=\"text-align: right;\">\n",
       "      <th></th>\n",
       "      <th>Tweet</th>\n",
       "      <th>Sentiment</th>\n",
       "    </tr>\n",
       "  </thead>\n",
       "  <tbody>\n",
       "    <tr>\n",
       "      <th>0</th>\n",
       "      <td>So there is no way for me to plug it in here i...</td>\n",
       "      <td>-1</td>\n",
       "    </tr>\n",
       "    <tr>\n",
       "      <th>1</th>\n",
       "      <td>Good case, Excellent value.</td>\n",
       "      <td>1</td>\n",
       "    </tr>\n",
       "    <tr>\n",
       "      <th>2</th>\n",
       "      <td>I thought Motorola made reliable products!.</td>\n",
       "      <td>0</td>\n",
       "    </tr>\n",
       "    <tr>\n",
       "      <th>3</th>\n",
       "      <td>Battery for Motorola Razr.</td>\n",
       "      <td>0</td>\n",
       "    </tr>\n",
       "    <tr>\n",
       "      <th>4</th>\n",
       "      <td>Great for the jawbone.</td>\n",
       "      <td>1</td>\n",
       "    </tr>\n",
       "  </tbody>\n",
       "</table>\n",
       "</div>"
      ],
      "text/plain": [
       "                                               Tweet  Sentiment\n",
       "0  So there is no way for me to plug it in here i...         -1\n",
       "1                        Good case, Excellent value.          1\n",
       "2        I thought Motorola made reliable products!.          0\n",
       "3                         Battery for Motorola Razr.          0\n",
       "4                             Great for the jawbone.          1"
      ]
     },
     "execution_count": 41,
     "metadata": {},
     "output_type": "execute_result"
    }
   ],
   "source": [
    "data_unlab_copy = pd.read_excel('/Users/gautamborgohain/Desktop/amozon_cell_sentiment.xlsx')\n",
    "data_unlab_copy.columns = ['Tweet','Sentiment']\n",
    "data_unlab_copy.head()\n",
    "\n"
   ]
  },
  {
   "cell_type": "code",
   "execution_count": 39,
   "metadata": {
    "collapsed": false
   },
   "outputs": [
    {
     "data": {
      "text/plain": [
       "15003"
      ]
     },
     "execution_count": 39,
     "metadata": {},
     "output_type": "execute_result"
    }
   ],
   "source": [
    "len(df2)"
   ]
  },
  {
   "cell_type": "code",
   "execution_count": null,
   "metadata": {
    "collapsed": true
   },
   "outputs": [],
   "source": [
    "df = pd.read()"
   ]
  },
  {
   "cell_type": "code",
   "execution_count": null,
   "metadata": {
    "collapsed": true
   },
   "outputs": [],
   "source": []
  }
 ],
 "metadata": {
  "kernelspec": {
   "display_name": "Python 3",
   "language": "python",
   "name": "python3"
  },
  "language_info": {
   "codemirror_mode": {
    "name": "ipython",
    "version": 3
   },
   "file_extension": ".py",
   "mimetype": "text/x-python",
   "name": "python",
   "nbconvert_exporter": "python",
   "pygments_lexer": "ipython3",
   "version": "3.4.2"
  }
 },
 "nbformat": 4,
 "nbformat_minor": 0
}
