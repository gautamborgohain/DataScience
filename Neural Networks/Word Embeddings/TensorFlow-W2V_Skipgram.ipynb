{
 "cells": [
  {
   "cell_type": "markdown",
   "metadata": {},
   "source": [
    "# Tensor Flow word2vec skipgram model tutorial"
   ]
  },
  {
   "cell_type": "code",
   "execution_count": 1,
   "metadata": {
    "collapsed": true
   },
   "outputs": [],
   "source": [
    "import tensorflow as tf\n",
    "?tf.placeholder"
   ]
  },
  {
   "cell_type": "markdown",
   "metadata": {},
   "source": [
    "# The data"
   ]
  },
  {
   "cell_type": "code",
   "execution_count": 4,
   "metadata": {
    "collapsed": false
   },
   "outputs": [],
   "source": [
    "import zipfile\n",
    "import collections\n",
    "filename = 'text8.zip'\n",
    "\n",
    "def read_data(filename):\n",
    "    \"\"\"Extract the first file enclosed in a zip file as a list of words\"\"\"\n",
    "    with zipfile.ZipFile(filename) as f:\n",
    "        data = f.read(f.namelist()[0]).split()\n",
    "    return data\n",
    "\n",
    "\n",
    "words = read_data(filename)"
   ]
  },
  {
   "cell_type": "markdown",
   "metadata": {},
   "source": [
    "# Build Vocabulary"
   ]
  },
  {
   "cell_type": "code",
   "execution_count": 101,
   "metadata": {
    "collapsed": false
   },
   "outputs": [
    {
     "name": "stdout",
     "output_type": "stream",
     "text": [
      "Most common words (+UNK) [['UNK', 418391], (b'the', 1061396), (b'of', 593677), (b'and', 416629), (b'one', 411764)]\n",
      "Sample data [5235, 3081, 12, 6, 195, 2, 3136, 46, 59, 156]\n"
     ]
    }
   ],
   "source": [
    "\n",
    "\n",
    "vocabulary_size = 50000\n",
    "def build_dataset(words):\n",
    "    count = [['UNK', -1]]\n",
    "    count.extend(collections.Counter(words).most_common(vocabulary_size - 1))\n",
    "    dictionary = dict()\n",
    "    for word, _ in count:\n",
    "        dictionary[word] = len(dictionary)\n",
    "    data = list()\n",
    "    unk_count = 0\n",
    "    for word in words:\n",
    "        if word in dictionary:\n",
    "            index = dictionary[word]\n",
    "        else:\n",
    "            index = 0  # dictionary['UNK']\n",
    "            unk_count += 1\n",
    "        data.append(index)\n",
    "    count[0][1] = unk_count\n",
    "    reverse_dictionary = dict(zip(dictionary.values(), dictionary.keys()))\n",
    "    return data, count, dictionary, reverse_dictionary\n",
    "\n",
    "\n",
    "data, count, dictionary, reverse_dictionary = build_dataset(words)\n",
    "# del words  # Hint to reduce memory.\n",
    "print('Most common words (+UNK)', count[:5])\n",
    "print('Sample data', data[:10])\n"
   ]
  },
  {
   "cell_type": "code",
   "execution_count": 31,
   "metadata": {
    "collapsed": false
   },
   "outputs": [
    {
     "name": "stdout",
     "output_type": "stream",
     "text": [
      "0 UNK\n",
      "1 b'the'\n",
      "2 b'of'\n",
      "3 b'and'\n",
      "4 b'one'\n",
      "5 b'in'\n",
      "6 b'a'\n",
      "7 b'to'\n",
      "8 b'zero'\n",
      "9 b'nine'\n",
      "10 b'two'\n",
      "11 b'is'\n",
      "12 b'as'\n",
      "13 b'eight'\n",
      "14 b'for'\n",
      "15 b's'\n",
      "16 b'five'\n",
      "17 b'three'\n",
      "18 b'was'\n",
      "19 b'by'\n"
     ]
    }
   ],
   "source": [
    "counts = 0\n",
    "for key,val in reverse_dictionary.items():\n",
    "    counts+=1\n",
    "    print(key,val)\n",
    "    if counts == 20:break"
   ]
  },
  {
   "cell_type": "code",
   "execution_count": 32,
   "metadata": {
    "collapsed": false
   },
   "outputs": [
    {
     "name": "stdout",
     "output_type": "stream",
     "text": [
      "b'recitation' 24400\n",
      "b'hungarians' 16151\n",
      "b'timpani' 47037\n",
      "b'matrimonial' 47882\n",
      "b'madeleine' 22154\n",
      "b'mobilizing' 47136\n",
      "b'plundered' 24742\n",
      "b'emancipated' 36767\n",
      "b'vapor' 10572\n",
      "b'lignite' 30527\n",
      "b'slated' 17679\n",
      "b'discogs' 43957\n",
      "b'grenades' 21248\n",
      "b'distilled' 12118\n",
      "b'this' 33\n",
      "b'trivium' 33558\n",
      "b'homered' 41479\n",
      "b'swam' 36768\n",
      "b'swim' 12801\n",
      "b'detectives' 21083\n"
     ]
    }
   ],
   "source": [
    "counts = 0\n",
    "for key,val in dictionary.items():\n",
    "    counts+=1\n",
    "    print(key,val)\n",
    "    if counts == 20:break"
   ]
  },
  {
   "cell_type": "markdown",
   "metadata": {},
   "source": [
    "# Create the training batches"
   ]
  },
  {
   "cell_type": "code",
   "execution_count": 102,
   "metadata": {
    "collapsed": true
   },
   "outputs": [],
   "source": [
    "import random\n",
    "data_index = 0\n",
    "def generate_batch(batch_size, num_skips, skip_window):\n",
    "    global data_index\n",
    "    assert batch_size % num_skips == 0\n",
    "    assert num_skips <= 2 * skip_window\n",
    "    batch = np.ndarray(shape=(batch_size), dtype=np.int32)\n",
    "    labels = np.ndarray(shape=(batch_size, 1), dtype=np.int32)\n",
    "    span = 2 * skip_window + 1  # [ skip_window target skip_window ]\n",
    "    buffer = collections.deque(maxlen=span)\n",
    "    for _ in range(span):\n",
    "        buffer.append(data[data_index])\n",
    "        data_index = (data_index + 1) % len(data)\n",
    "    for i in range(batch_size // num_skips):\n",
    "        target = skip_window  # target label at the center of the buffer\n",
    "        targets_to_avoid = [skip_window]\n",
    "        for j in range(num_skips):\n",
    "            while target in targets_to_avoid:\n",
    "                target = random.randint(0, span - 1)\n",
    "            targets_to_avoid.append(target)\n",
    "            batch[i * num_skips + j] = buffer[skip_window]\n",
    "            labels[i * num_skips + j, 0] = buffer[target]\n",
    "        buffer.append(data[data_index])\n",
    "        data_index = (data_index + 1) % len(data)\n",
    "    return batch, labels"
   ]
  },
  {
   "cell_type": "code",
   "execution_count": 103,
   "metadata": {
    "collapsed": false
   },
   "outputs": [
    {
     "name": "stdout",
     "output_type": "stream",
     "text": [
      "3081 -> 12\n",
      "b'originated' -> b'as'\n",
      "3081 -> 5235\n",
      "b'originated' -> b'anarchism'\n",
      "12 -> 3081\n",
      "b'as' -> b'originated'\n",
      "12 -> 6\n",
      "b'as' -> b'a'\n",
      "6 -> 12\n",
      "b'a' -> b'as'\n",
      "6 -> 195\n",
      "b'a' -> b'term'\n",
      "195 -> 2\n",
      "b'term' -> b'of'\n",
      "195 -> 6\n",
      "b'term' -> b'a'\n"
     ]
    }
   ],
   "source": [
    "import numpy as np\n",
    "\n",
    "batch, labels = generate_batch(batch_size=8, num_skips=2, skip_window=1)\n",
    "for i in range(8):\n",
    "    print(batch[i], '->', labels[i, 0])\n",
    "    print(reverse_dictionary[batch[i]], '->', reverse_dictionary[labels[i, 0]])"
   ]
  },
  {
   "cell_type": "code",
   "execution_count": 110,
   "metadata": {
    "collapsed": false
   },
   "outputs": [
    {
     "data": {
      "text/plain": [
       "array([   2,    6,   12,  195, 3081, 5235], dtype=int32)"
      ]
     },
     "execution_count": 110,
     "metadata": {},
     "output_type": "execute_result"
    }
   ],
   "source": [
    "np.unique(labels)"
   ]
  },
  {
   "cell_type": "markdown",
   "metadata": {},
   "source": [
    "# Parameters"
   ]
  },
  {
   "cell_type": "code",
   "execution_count": 104,
   "metadata": {
    "collapsed": true
   },
   "outputs": [],
   "source": [
    "batch_size = 128\n",
    "embedding_size = 128  # Dimension of the embedding vector.\n",
    "skip_window = 1  # How many words to consider left and right.\n",
    "num_skips = 2  # How many times to reuse an input to generate a label.\n",
    "\n",
    "# We pick a random validation set to sample nearest neighbors. Here we limit the\n",
    "# validation samples to the words that have a low numeric ID, which by\n",
    "# construction are also the most frequent.\n",
    "\n",
    "valid_size = 16  # Random set of words to evaluate similarity on.\n",
    "valid_window = 100  # Only pick dev samples in the head of the distribution.\n",
    "valid_examples = np.random.choice(valid_window, valid_size, replace=False)\n",
    "num_sampled = 64  # Number of negative examples to sample."
   ]
  },
  {
   "cell_type": "markdown",
   "metadata": {},
   "source": [
    "# The neural netwrok"
   ]
  },
  {
   "cell_type": "code",
   "execution_count": 105,
   "metadata": {
    "collapsed": false
   },
   "outputs": [],
   "source": [
    "import math\n",
    "graph = tf.Graph()\n",
    "\n",
    "with graph.as_default():\n",
    "    # Input data.\n",
    "    train_inputs = tf.placeholder(tf.int32, shape=[batch_size])\n",
    "    train_labels = tf.placeholder(tf.int32, shape=[batch_size, 1])\n",
    "    valid_dataset = tf.constant(valid_examples, dtype=tf.int32)\n",
    "\n",
    "    with tf.device('/cpu:0'):\n",
    "        # Look up embeddings for inputs.\n",
    "        embeddings = tf.Variable(\n",
    "            tf.random_uniform([vocabulary_size, embedding_size], -1.0, 1.0))\n",
    "        embed = tf.nn.embedding_lookup(embeddings, train_inputs)\n",
    "\n",
    "        # Construct the variables for the NCE loss\n",
    "        nce_weights = tf.Variable(\n",
    "            tf.truncated_normal([vocabulary_size, embedding_size],\n",
    "                                stddev=1.0 / math.sqrt(embedding_size)))\n",
    "        nce_biases = tf.Variable(tf.zeros([vocabulary_size]))\n",
    "\n",
    "    # Compute the average NCE loss for the batch.\n",
    "    # tf.nce_loss automatically draws a new sample of the negative labels each\n",
    "    # time we evaluate the loss.\n",
    "    loss = tf.reduce_mean(\n",
    "        tf.nn.nce_loss(nce_weights, nce_biases, embed, train_labels,\n",
    "                       num_sampled, vocabulary_size))\n",
    "\n",
    "    # Construct the SGD optimizer using a learning rate of 1.0.\n",
    "    optimizer = tf.train.GradientDescentOptimizer(1.0).minimize(loss)\n",
    "\n",
    "    # Compute the cosine similarity between minibatch examples and all embeddings.\n",
    "    norm = tf.sqrt(tf.reduce_sum(tf.square(embeddings), 1, keep_dims=True))\n",
    "    normalized_embeddings = embeddings / norm\n",
    "    valid_embeddings = tf.nn.embedding_lookup(\n",
    "        normalized_embeddings, valid_dataset)\n",
    "    similarity = tf.matmul(\n",
    "        valid_embeddings, normalized_embeddings, transpose_b=True)\n"
   ]
  },
  {
   "cell_type": "markdown",
   "metadata": {},
   "source": [
    "# Start training"
   ]
  },
  {
   "cell_type": "code",
   "execution_count": 106,
   "metadata": {
    "collapsed": false
   },
   "outputs": [
    {
     "name": "stdout",
     "output_type": "stream",
     "text": [
      "Initialized\n",
      "Average loss at step  0 :  279.873657227\n",
      "Nearest to b'would': b'goya', b'arrest', b'unvoiced', b'beget', b'canaries', b'communicated', b'fgth', b'soares',\n",
      "Nearest to b'united': b'basics', b'plebeian', b'keane', b'sunny', b'autocad', b'repel', b'penetrative', b'proclaims',\n",
      "Nearest to b'world': b'caso', b'descended', b'ostracism', b'aoraki', b'trianon', b'storey', b'edifice', b'focusing',\n",
      "Nearest to b'state': b'unclean', b'grievances', b'entertainer', b'calamity', b'determinative', b'footprints', b'pairwise', b'sucre',\n",
      "Nearest to UNK: b'diem', b'atop', b'steiner', b'synaptic', b'pyroxene', b'sit', b'horner', b'accommodates',\n",
      "Nearest to b'been': b'exactly', b'almonds', b'chicxulub', b'transnational', b'sent', b'cheng', b'martial', b'madness',\n",
      "Nearest to b'such': b'tritone', b'work', b'bucks', b'granger', b'collectors', b'belizean', b'pakistan', b'cerebellum',\n",
      "Nearest to b'used': b'knowing', b'wishes', b'refrains', b'schwann', b'overlooks', b'boulders', b'destination', b'malatesta',\n",
      "Nearest to b'may': b'sabo', b'vishnu', b'diuretic', b'vesuvius', b'musashi', b'chancellors', b'b', b'alternately',\n",
      "Nearest to b'between': b'rwanda', b'uttering', b'maine', b'sassanian', b'hokkaido', b'kronos', b'maligned', b'neu',\n",
      "Nearest to b'as': b'oyly', b'designers', b'honecker', b'worn', b'sultanates', b'supplied', b'meiosis', b'centering',\n",
      "Nearest to b'no': b'malraux', b'teaching', b'chapterhouse', b'postal', b'naaman', b'undiscovered', b'compelling', b'buoyed',\n",
      "Nearest to b'nine': b'cathay', b'adjective', b'stuffed', b'credible', b'deficiencies', b'dressing', b'religiosity', b'resulting',\n",
      "Nearest to b'into': b'lucent', b'tempore', b'ordnance', b'visicalc', b'reemergence', b'symphonie', b'erroneously', b'spokesman',\n",
      "Nearest to b'called': b'esse', b'void', b'divination', b'cryptography', b'subsection', b'pidgin', b'aris', b'chuan',\n",
      "Nearest to b'most': b'memo', b'thuringia', b'sectional', b'colossians', b'lillard', b'disciple', b'tallest', b'downloadable',\n",
      "Average loss at step  2000 :  113.822657618\n",
      "Average loss at step  4000 :  52.7570677946\n",
      "Average loss at step  6000 :  33.3520997934\n",
      "Average loss at step  8000 :  23.2158146764\n",
      "Average loss at step  10000 :  18.2682299081\n",
      "Nearest to b'would': b'victoriae', b'arrest', b'gland', b'seek', b'kennedy', b'penguins', b'council', b'reginae',\n",
      "Nearest to b'united': b'zar', b'repel', b'principles', b'victoriae', b'currently', b'philo', b'factory', b'f',\n",
      "Nearest to b'world': b'descended', b'altenberg', b'vs', b'exaggerated', b'conquest', b'legislatures', b'focusing', b'prisoner',\n",
      "Nearest to b'state': b'agave', b'austin', b'entertainer', b'knowing', b'wells', b'victoriae', b'layout', b'woman',\n",
      "Nearest to UNK: b'gland', b'and', b'one', b'vs', b'victoriae', b'reginae', b'mathbf', b'austin',\n",
      "Nearest to b'been': b'exactly', b'rhazes', b'nine', b'sent', b'and', b'gland', b'almonds', b'madness',\n",
      "Nearest to b'such': b'vs', b'burgess', b'gollancz', b'work', b'prophet', b'bucks', b'tarleton', b'shia',\n",
      "Nearest to b'used': b'vs', b'reginae', b'wishes', b'switch', b'populous', b'knowing', b'indian', b'guilty',\n",
      "Nearest to b'may': b'b', b'cc', b'expedition', b'stories', b'peripheral', b'divisions', b'alif', b'covalent',\n",
      "Nearest to b'between': b'rwanda', b'maine', b'frank', b'vs', b'six', b'austin', b'understand', b'collecting',\n",
      "Nearest to b'as': b'designers', b'supplied', b'and', b'in', b'reginae', b'clarke', b'with', b'atlantic',\n",
      "Nearest to b'no': b'postal', b'sigma', b'teaching', b'extreme', b'eichmann', b'violent', b'engineering', b'integers',\n",
      "Nearest to b'nine': b'zero', b'gland', b'austin', b'vs', b'victoriae', b'phi', b'eight', b'cc',\n",
      "Nearest to b'into': b'portuguese', b'in', b'tissue', b'wasting', b'two', b'for', b'joy', b'biggest',\n",
      "Nearest to b'called': b'victoriae', b'austin', b'gland', b'waters', b'gollancz', b'artistic', b'turning', b'vs',\n",
      "Nearest to b'most': b'allies', b'reginae', b'fell', b'institute', b'sectional', b'european', b'vs', b'whole',\n"
     ]
    }
   ],
   "source": [
    "from six.moves import xrange\n",
    "num_steps = 10001\n",
    "\n",
    "with tf.Session(graph=graph) as session:\n",
    "    # We must initialize all variables before we use them.\n",
    "    tf.initialize_all_variables().run()\n",
    "    print(\"Initialized\")\n",
    "\n",
    "    average_loss = 0\n",
    "    for step in xrange(num_steps):\n",
    "        batch_inputs, batch_labels = generate_batch(\n",
    "            batch_size, num_skips, skip_window)\n",
    "        feed_dict = {train_inputs: batch_inputs, train_labels: batch_labels}\n",
    "\n",
    "        # We perform one update step by evaluating the optimizer op (including it\n",
    "        # in the list of returned values for session.run()\n",
    "        _, loss_val = session.run([optimizer, loss], feed_dict=feed_dict)\n",
    "        average_loss += loss_val\n",
    "\n",
    "        if step % 2000 == 0:\n",
    "            if step > 0:\n",
    "                average_loss /= 2000\n",
    "            # The average loss is an estimate of the loss over the last 2000 batches.\n",
    "            print(\"Average loss at step \", step, \": \", average_loss)\n",
    "            average_loss = 0\n",
    "\n",
    "        # Note that this is expensive (~20% slowdown if computed every 500 steps)\n",
    "        if step % 10000 == 0:\n",
    "            sim = similarity.eval()\n",
    "            for i in xrange(valid_size):\n",
    "                valid_word = reverse_dictionary[valid_examples[i]]\n",
    "                top_k = 8  # number of nearest neighbors\n",
    "                nearest = (-sim[i, :]).argsort()[1:top_k + 1]\n",
    "                log_str = \"Nearest to %s:\" % valid_word\n",
    "                for k in xrange(top_k):\n",
    "                    close_word = reverse_dictionary[nearest[k]]\n",
    "                    log_str = \"%s %s,\" % (log_str, close_word)\n",
    "                print(log_str)\n",
    "    final_embeddings = normalized_embeddings.eval()\n",
    "\n"
   ]
  },
  {
   "cell_type": "code",
   "execution_count": 112,
   "metadata": {
    "collapsed": false
   },
   "outputs": [
    {
     "data": {
      "text/plain": [
       "array([ 0.10907257,  0.03734688,  0.00060537, -0.02426756,  0.06078653,\n",
       "       -0.02148508,  0.02069261,  0.01886133, -0.25833702, -0.01175279,\n",
       "        0.00349099, -0.00745373,  0.09060957, -0.10150829,  0.02241914,\n",
       "        0.02863487,  0.04062018,  0.04342534, -0.01792149,  0.08217603,\n",
       "        0.05108473,  0.12532884,  0.065133  , -0.07115991, -0.03451871,\n",
       "        0.07948707,  0.06223791,  0.22644682, -0.12640584,  0.04837745,\n",
       "       -0.04203285, -0.18494421,  0.10877381,  0.14104903,  0.05339127,\n",
       "        0.01725111,  0.03982851, -0.07162225,  0.06400462, -0.0505368 ,\n",
       "        0.03836646, -0.12199939, -0.11222667, -0.11943715,  0.01042285,\n",
       "       -0.06808503,  0.12355681, -0.0086215 ,  0.05091517, -0.11755998,\n",
       "       -0.13493635, -0.07338495, -0.08532739,  0.03783849, -0.04994537,\n",
       "        0.01420888,  0.19505773,  0.25991973,  0.13823561,  0.09248477,\n",
       "       -0.16074032,  0.10206009, -0.12440103,  0.03316716, -0.06354502,\n",
       "        0.02777245, -0.07848439, -0.03084324,  0.06095168, -0.09035571,\n",
       "        0.04883236, -0.03942849, -0.0251281 , -0.07017675, -0.11670015,\n",
       "        0.11768546,  0.02829995,  0.00633361, -0.05695065, -0.05150551,\n",
       "        0.04112934, -0.1069665 ,  0.04623919,  0.08371813,  0.00832749,\n",
       "       -0.00246508, -0.08136781, -0.03492194,  0.00738277, -0.12560941,\n",
       "        0.05294151, -0.01496821, -0.10552877, -0.02070116,  0.00344258,\n",
       "        0.03552512, -0.00423886,  0.0593169 , -0.11899319,  0.01251487,\n",
       "        0.03986893, -0.12499911,  0.0310339 , -0.11072852, -0.02269551,\n",
       "        0.14456359, -0.07877964,  0.11555708,  0.14841203,  0.09461688,\n",
       "       -0.04059695, -0.0681109 ,  0.10948703,  0.08127473,  0.00289311,\n",
       "       -0.17234506, -0.12847924,  0.04298259, -0.1339791 ,  0.04412446,\n",
       "       -0.04819779, -0.15429564, -0.09980348, -0.0012845 ,  0.0002666 ,\n",
       "        0.08037914,  0.0047418 ,  0.07143483], dtype=float32)"
      ]
     },
     "execution_count": 112,
     "metadata": {},
     "output_type": "execute_result"
    }
   ],
   "source": [
    "final_embeddings[0][:]"
   ]
  },
  {
   "cell_type": "code",
   "execution_count": 120,
   "metadata": {
    "collapsed": false
   },
   "outputs": [
    {
     "data": {
      "text/plain": [
       "array([-0.19808948, -0.30545813, -0.37229383, ...,  0.00951003,\n",
       "        0.05122453, -0.23305655], dtype=float32)"
      ]
     },
     "execution_count": 120,
     "metadata": {},
     "output_type": "execute_result"
    }
   ],
   "source": [
    "(-sim[0, :])"
   ]
  },
  {
   "cell_type": "code",
   "execution_count": 125,
   "metadata": {
    "collapsed": false
   },
   "outputs": [
    {
     "data": {
      "text/plain": [
       "array([   74, 49145,  4753, ..., 49803, 32074, 27924])"
      ]
     },
     "execution_count": 125,
     "metadata": {},
     "output_type": "execute_result"
    }
   ],
   "source": [
    "(-sim[0, :]).argsort()"
   ]
  },
  {
   "cell_type": "code",
   "execution_count": 95,
   "metadata": {
    "collapsed": false
   },
   "outputs": [
    {
     "data": {
      "text/plain": [
       "b'medians'"
      ]
     },
     "execution_count": 95,
     "metadata": {},
     "output_type": "execute_result"
    }
   ],
   "source": [
    "reverse_dictionary[nearest[0]]"
   ]
  },
  {
   "cell_type": "code",
   "execution_count": 123,
   "metadata": {
    "collapsed": false
   },
   "outputs": [
    {
     "data": {
      "text/plain": [
       "array([74, 86, 71, 94,  0, 54, 55, 59, 69, 78, 12, 76,  9, 63, 89, 52])"
      ]
     },
     "execution_count": 123,
     "metadata": {},
     "output_type": "execute_result"
    }
   ],
   "source": [
    "valid_examples"
   ]
  },
  {
   "cell_type": "code",
   "execution_count": 117,
   "metadata": {
    "collapsed": false
   },
   "outputs": [
    {
     "data": {
      "text/plain": [
       "[b'would',\n",
       " b'united',\n",
       " b'world',\n",
       " b'state',\n",
       " 'UNK',\n",
       " b'been',\n",
       " b'such',\n",
       " b'used',\n",
       " b'may',\n",
       " b'between',\n",
       " b'as',\n",
       " b'no',\n",
       " b'nine',\n",
       " b'into',\n",
       " b'called',\n",
       " b'most']"
      ]
     },
     "execution_count": 117,
     "metadata": {},
     "output_type": "execute_result"
    }
   ],
   "source": [
    "[reverse_dictionary[i] for i in valid_examples]"
   ]
  },
  {
   "cell_type": "code",
   "execution_count": 133,
   "metadata": {
    "collapsed": false
   },
   "outputs": [],
   "source": [
    "sim2 = final_embeddings.dot(final_embeddings.T)"
   ]
  },
  {
   "cell_type": "code",
   "execution_count": 135,
   "metadata": {
    "collapsed": false
   },
   "outputs": [
    {
     "data": {
      "text/plain": [
       "b'would'"
      ]
     },
     "execution_count": 135,
     "metadata": {},
     "output_type": "execute_result"
    }
   ],
   "source": [
    "i = 74\n",
    "valid_word2 = reverse_dictionary[i]\n",
    "valid_word2"
   ]
  },
  {
   "cell_type": "code",
   "execution_count": 136,
   "metadata": {
    "collapsed": true
   },
   "outputs": [],
   "source": [
    "nearest = (-sim2[i, :]).argsort()[1:top_k + 1]"
   ]
  },
  {
   "cell_type": "code",
   "execution_count": 141,
   "metadata": {
    "collapsed": false
   },
   "outputs": [
    {
     "name": "stdout",
     "output_type": "stream",
     "text": [
      "Nearest to b'would': b'victoriae', b'arrest', b'gland', b'seek', b'kennedy', b'penguins', b'council', b'reginae',\n"
     ]
    }
   ],
   "source": [
    "log_str = \"Nearest to %s:\" % valid_word2\n",
    "for k in xrange(top_k):\n",
    "    close_word = reverse_dictionary[nearest[k]]\n",
    "    log_str = \"%s %s,\" % (log_str, close_word)\n",
    "print(log_str)"
   ]
  }
 ],
 "metadata": {
  "kernelspec": {
   "display_name": "Python 3",
   "language": "python",
   "name": "python3"
  },
  "language_info": {
   "codemirror_mode": {
    "name": "ipython",
    "version": 3
   },
   "file_extension": ".py",
   "mimetype": "text/x-python",
   "name": "python",
   "nbconvert_exporter": "python",
   "pygments_lexer": "ipython3",
   "version": "3.4.2"
  }
 },
 "nbformat": 4,
 "nbformat_minor": 0
}
