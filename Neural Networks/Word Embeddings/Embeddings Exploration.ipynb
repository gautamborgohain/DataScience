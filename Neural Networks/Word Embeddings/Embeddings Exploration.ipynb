{
 "cells": [
  {
   "cell_type": "markdown",
   "metadata": {},
   "source": [
    "# Checking the quality of the word embeddings"
   ]
  },
  {
   "cell_type": "markdown",
   "metadata": {},
   "source": [
    "# Word2vec model on the twitter dataset"
   ]
  },
  {
   "cell_type": "code",
   "execution_count": 1,
   "metadata": {
    "collapsed": true
   },
   "outputs": [],
   "source": [
    "import gensim\n",
    "model = gensim.models.Word2Vec.load('/Users/gautamborgohain/Desktop/semeval_embeds.model')\n",
    "import re\n",
    "vocab = [key for key, val in model.vocab.items() if not re.search(r'[#$@:-_!/]',key)]"
   ]
  },
  {
   "cell_type": "code",
   "execution_count": 7,
   "metadata": {
    "collapsed": false
   },
   "outputs": [
    {
     "data": {
      "text/plain": [
       "[('#InterestingGilfriend', 0.5857598781585693),\n",
       " ('#InterestingFactOfTheDay', 0.5651795864105225),\n",
       " ('Britian?', 0.5541267991065979),\n",
       " ('pointy,', 0.5281923413276672),\n",
       " ('yeah\"', 0.522371768951416),\n",
       " ('multicoloured,', 0.5210442543029785),\n",
       " ('polling', 0.5173830986022949),\n",
       " ('Kapoor,', 0.5122642517089844),\n",
       " ('VALOR', 0.5097692608833313),\n",
       " ('Scariest', 0.509625256061554),\n",
       " ('snake', 0.505642294883728),\n",
       " ('summoned', 0.49541521072387695),\n",
       " ('Shammi', 0.4930364787578583),\n",
       " ('#spidersense', 0.47192898392677307),\n",
       " ('drizzle', 0.47063571214675903),\n",
       " ('goin', 0.4684743285179138),\n",
       " ('@pastorshaemun!!', 0.4639101028442383),\n",
       " ('serve', 0.4613737463951111),\n",
       " ('jj', 0.46131354570388794),\n",
       " ('affectionate', 0.45729318261146545)]"
      ]
     },
     "execution_count": 7,
     "metadata": {},
     "output_type": "execute_result"
    }
   ],
   "source": [
    "model.most_similar('man',topn=20)"
   ]
  },
  {
   "cell_type": "code",
   "execution_count": 4,
   "metadata": {
    "collapsed": false
   },
   "outputs": [
    {
     "data": {
      "text/plain": [
       "'breakfast'"
      ]
     },
     "execution_count": 4,
     "metadata": {},
     "output_type": "execute_result"
    }
   ],
   "source": [
    "model.doesnt_match(\"breakfast cereal dinner lunch\".split())"
   ]
  },
  {
   "cell_type": "code",
   "execution_count": 8,
   "metadata": {
    "collapsed": false
   },
   "outputs": [
    {
     "data": {
      "text/plain": [
       "[('crash:', 0.5068987607955933),\n",
       " ('witnessed', 0.4988432228565216),\n",
       " ('http://t.co/LZlgb1NW', 0.4947810173034668),\n",
       " ('Durham', 0.4797368347644806),\n",
       " ('tomorrow...or', 0.4779929518699646),\n",
       " ('trib...', 0.46766406297683716),\n",
       " ('Debts', 0.4592498540878296),\n",
       " ('City\"', 0.4577803313732147),\n",
       " ('Knox,', 0.457350492477417),\n",
       " ('TIME!', 0.45558005571365356)]"
      ]
     },
     "execution_count": 8,
     "metadata": {},
     "output_type": "execute_result"
    }
   ],
   "source": [
    "model.most_similar(positive=['woman', 'king'], negative=['man'], topn=10)"
   ]
  },
  {
   "cell_type": "code",
   "execution_count": 9,
   "metadata": {
    "collapsed": false
   },
   "outputs": [
    {
     "data": {
      "text/plain": [
       "[('http://t.co/LZlgb1NW', 0.748852014541626),\n",
       " ('trib...', 0.7483984231948853),\n",
       " ('crash:', 0.7348214983940125),\n",
       " ('Durham', 0.6996755599975586),\n",
       " ('Knox,', 0.6553661823272705),\n",
       " ('northeast', 0.6371088624000549),\n",
       " ('coolest', 0.6270188689231873),\n",
       " ('Condemning', 0.6135033369064331),\n",
       " ('convicted', 0.6029877662658691),\n",
       " ('Story:', 0.5937447547912598),\n",
       " ('was=&gt;@WhoopiGoldberg!', 0.5919743776321411),\n",
       " ('ass,', 0.5632733106613159),\n",
       " ('arrest', 0.5572549104690552),\n",
       " ('hooper', 0.5528825521469116),\n",
       " ('Norfolk', 0.5487034320831299),\n",
       " (\"'one\", 0.5425329208374023),\n",
       " ('#Fact', 0.540423572063446),\n",
       " ('Tongan', 0.5376744270324707),\n",
       " ('STORY:', 0.5365579128265381),\n",
       " ('(1', 0.5349703431129456)]"
      ]
     },
     "execution_count": 9,
     "metadata": {},
     "output_type": "execute_result"
    }
   ],
   "source": [
    "model.most_similar('woman', topn= 20)"
   ]
  },
  {
   "cell_type": "code",
   "execution_count": 36,
   "metadata": {
    "collapsed": false
   },
   "outputs": [
    {
     "data": {
      "text/plain": [
       "[('nickelodeon', 0.600136935710907),\n",
       " ('slimefest', 0.5883245468139648),\n",
       " ('woop', 0.5781363248825073),\n",
       " ('there:(((((', 0.5440770387649536),\n",
       " ('dahlia', 0.5354093313217163),\n",
       " ('CalState', 0.5325660705566406),\n",
       " ('Power106', 0.5248687863349915),\n",
       " ('@xxrighteouss__', 0.5233010053634644),\n",
       " ('kitchen.', 0.5225999355316162),\n",
       " ('chili', 0.52241450548172),\n",
       " ('@shoutheyband', 0.5123739242553711),\n",
       " ('pls!!', 0.51158207654953),\n",
       " ('unloading', 0.5112248063087463),\n",
       " ('BOLDER.', 0.5067836046218872),\n",
       " ('hermosa', 0.5018188953399658),\n",
       " ('hammond', 0.49911054968833923),\n",
       " ('furniture', 0.49880722165107727),\n",
       " ('@ufc', 0.49865424633026123),\n",
       " ('lexington', 0.4949803352355957),\n",
       " ('gigs', 0.49472084641456604)]"
      ]
     },
     "execution_count": 36,
     "metadata": {},
     "output_type": "execute_result"
    }
   ],
   "source": [
    "model.most_similar('saturday', topn= 20)"
   ]
  },
  {
   "cell_type": "markdown",
   "metadata": {},
   "source": [
    "# Wikipedia Embeddings"
   ]
  },
  {
   "cell_type": "code",
   "execution_count": 12,
   "metadata": {
    "collapsed": false
   },
   "outputs": [],
   "source": [
    "import pickle\n",
    "model2 = pickle.load(open('/Users/gautamborgohain/Desktop/semeval_embeds_wiki.pck','rb'))"
   ]
  },
  {
   "cell_type": "code",
   "execution_count": 30,
   "metadata": {
    "collapsed": false
   },
   "outputs": [],
   "source": [
    "from scipy.spatial.distance import euclidean\n",
    "\n",
    "def most_similar(word,topn = 10):\n",
    "    u = model2.get(word,0)\n",
    "    if u == 0: return 'Word not in Model'\n",
    "    return sorted([[word,euclidean(u,vec)] for word,vec in model2.items()], key = lambda dist : dist[1])[:10]\n"
   ]
  },
  {
   "cell_type": "code",
   "execution_count": 31,
   "metadata": {
    "collapsed": false
   },
   "outputs": [
    {
     "data": {
      "text/plain": [
       "[['woman', 0.0],\n",
       " ['girl', 2.4311145188040775],\n",
       " ['man', 2.602623583218169],\n",
       " ['mother', 2.7886035127748854],\n",
       " ['boy', 2.883771467833951],\n",
       " ['her', 3.07692590293783],\n",
       " ['she', 3.143570487229111],\n",
       " ['herself', 3.173397584918562],\n",
       " ['victim', 3.378240594779149],\n",
       " ['child', 3.3834398658891485]]"
      ]
     },
     "execution_count": 31,
     "metadata": {},
     "output_type": "execute_result"
    }
   ],
   "source": [
    "most_similar('woman')"
   ]
  },
  {
   "cell_type": "code",
   "execution_count": 32,
   "metadata": {
    "collapsed": false
   },
   "outputs": [
    {
     "data": {
      "text/plain": [
       "[['saturday', 0.0],\n",
       " ['sunday', 0.7601089836846359],\n",
       " ['friday', 2.141657990911045],\n",
       " ['wednesday', 2.2339839268433983],\n",
       " ['thursday', 2.2941591542587556],\n",
       " ['monday', 2.3298002954166295],\n",
       " ['tuesday', 2.338645357980361],\n",
       " ['weekend', 2.457368301197041],\n",
       " ['week', 2.79395180640309],\n",
       " ['night', 2.960717027330133]]"
      ]
     },
     "execution_count": 32,
     "metadata": {},
     "output_type": "execute_result"
    }
   ],
   "source": [
    "most_similar('saturday')"
   ]
  },
  {
   "cell_type": "markdown",
   "metadata": {},
   "source": [
    "# Sentiment specific word embeddings - 10 Epoch "
   ]
  },
  {
   "cell_type": "code",
   "execution_count": 33,
   "metadata": {
    "collapsed": true
   },
   "outputs": [],
   "source": [
    "import pickle\n",
    "model3 = pickle.load(open(\"/Users/gautamborgohain/Desktop/semeval_embeds_DL.pck\",'rb'))\n",
    "\n",
    "from scipy.spatial.distance import euclidean\n",
    "\n",
    "def most_similar(word,topn = 10):\n",
    "    u = model3.get(word,0)\n",
    "    if u == 0: return 'Word not in Model'\n",
    "    return sorted([[word,euclidean(u,vec)] for word,vec in model3.items()], key = lambda dist : dist[1])[:10]"
   ]
  },
  {
   "cell_type": "code",
   "execution_count": 34,
   "metadata": {
    "collapsed": false
   },
   "outputs": [
    {
     "data": {
      "text/plain": [
       "[['woman', 0.0],\n",
       " ['angry.', 0.6424688512161504],\n",
       " ['tell', 0.6471913271923535],\n",
       " ['bed.', 0.6490032777760063],\n",
       " [\"'12th\", 0.652419612761603],\n",
       " ['rainfall', 0.6525066684517484],\n",
       " ['lose', 0.6585833452434096],\n",
       " ['allderdice', 0.6597335771491397],\n",
       " ['#16', 0.6608265011415628],\n",
       " ['tying', 0.6611028546081161]]"
      ]
     },
     "execution_count": 34,
     "metadata": {},
     "output_type": "execute_result"
    }
   ],
   "source": [
    "most_similar('woman')"
   ]
  },
  {
   "cell_type": "code",
   "execution_count": 35,
   "metadata": {
    "collapsed": false
   },
   "outputs": [
    {
     "data": {
      "text/plain": [
       "[['saturday', 0.0],\n",
       " ['28,', 0.6089522353411637],\n",
       " ['Friends', 0.6147406565511997],\n",
       " ['Gun', 0.6153784374236718],\n",
       " ['interviewed', 0.6207492693294129],\n",
       " ['#justsayin', 0.6233109043631437],\n",
       " ['endings', 0.6241341607747488],\n",
       " ['shooting...', 0.6277240318730836],\n",
       " ['value.', 0.6343259690561313],\n",
       " ['tonight', 0.6352822620764726]]"
      ]
     },
     "execution_count": 35,
     "metadata": {},
     "output_type": "execute_result"
    }
   ],
   "source": [
    "most_similar('saturday')"
   ]
  }
 ],
 "metadata": {
  "kernelspec": {
   "display_name": "Python 3",
   "language": "python",
   "name": "python3"
  },
  "language_info": {
   "codemirror_mode": {
    "name": "ipython",
    "version": 3
   },
   "file_extension": ".py",
   "mimetype": "text/x-python",
   "name": "python",
   "nbconvert_exporter": "python",
   "pygments_lexer": "ipython3",
   "version": "3.4.2"
  }
 },
 "nbformat": 4,
 "nbformat_minor": 0
}
