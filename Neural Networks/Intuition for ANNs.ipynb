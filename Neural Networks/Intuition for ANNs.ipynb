{
 "cells": [
  {
   "cell_type": "markdown",
   "metadata": {},
   "source": [
    "# Artificial Neural networks  - Intuition"
   ]
  },
  {
   "cell_type": "markdown",
   "metadata": {},
   "source": [
    "Artificial neural network are algorithms that are essentially like the neural network nervous systems.The idea is that a lot of the problems in nature are not all that linear and involve complex interactions. ANNs try to solve this problem by having 'neurons' do some required computations and then connect the neurons in layers to model the human nervous system and solve the interaction problem. \n",
    "The main components/steps of ANN are:\n",
    "- Preactivation\n",
    "- Activations functions\n",
    "- Feedforward\n",
    "- Backpropogations\n",
    "- Gradient descent\n",
    "\n",
    "The steps below were learnt from this blogpost:\n",
    "http://www.wildml.com/2015/09/implementing-a-neural-network-from-scratch/\n",
    "\n",
    "So here we will go over the steps and create a 3 layer neural network impolementation."
   ]
  },
  {
   "cell_type": "code",
   "execution_count": 3,
   "metadata": {
    "collapsed": false
   },
   "outputs": [
    {
     "data": {
      "image/png": "[encoded data removed]",
      "text/plain": [
       "<matplotlib.figure.Figure at 0x103fbd518>"
      ]
     },
     "metadata": {},
     "output_type": "display_data"
    }
   ],
   "source": [
    "import sklearn.datasets\n",
    "import numpy as np\n",
    "import pandas as pd\n",
    "import matplotlib.pyplot as plt\n",
    "\n",
    "%matplotlib inline\n",
    "np.random.seed(1)\n",
    "\n",
    "X,y = sklearn.datasets.make_moons(50)\n",
    "plt.figure(figsize=(10,10))\n",
    "plt.scatter(x = X[:,0],y = X[:,1], c=y,s=60)\n",
    "plt.set_cmap('Spectral')\n",
    "plt.show()"
   ]
  },
  {
   "cell_type": "code",
   "execution_count": 46,
   "metadata": {
    "collapsed": false
   },
   "outputs": [
    {
     "data": {
      "text/plain": [
       "LogisticRegression(C=1.0, class_weight=None, dual=False, fit_intercept=True,\n",
       "          intercept_scaling=1, max_iter=100, multi_class='ovr', n_jobs=1,\n",
       "          penalty='l2', random_state=None, solver='liblinear', tol=0.0001,\n",
       "          verbose=0, warm_start=False)"
      ]
     },
     "execution_count": 46,
     "metadata": {},
     "output_type": "execute_result"
    }
   ],
   "source": [
    "import sklearn.linear_model\n",
    "clf = sklearn.linear_model.LogisticRegression()\n",
    "clf.fit(X,y)"
   ]
  },
  {
   "cell_type": "code",
   "execution_count": 47,
   "metadata": {
    "collapsed": false
   },
   "outputs": [
    {
     "name": "stdout",
     "output_type": "stream",
     "text": [
      "0.84\n"
     ]
    },
    {
     "data": {
      "text/html": [
       "<div>\n",
       "<table border=\"1\" class=\"dataframe\">\n",
       "  <thead>\n",
       "    <tr style=\"text-align: right;\">\n",
       "      <th>col_0</th>\n",
       "      <th>0</th>\n",
       "      <th>1</th>\n",
       "    </tr>\n",
       "    <tr>\n",
       "      <th>row_0</th>\n",
       "      <th></th>\n",
       "      <th></th>\n",
       "    </tr>\n",
       "  </thead>\n",
       "  <tbody>\n",
       "    <tr>\n",
       "      <th>0</th>\n",
       "      <td>21</td>\n",
       "      <td>4</td>\n",
       "    </tr>\n",
       "    <tr>\n",
       "      <th>1</th>\n",
       "      <td>4</td>\n",
       "      <td>21</td>\n",
       "    </tr>\n",
       "  </tbody>\n",
       "</table>\n",
       "</div>"
      ],
      "text/plain": [
       "col_0   0   1\n",
       "row_0        \n",
       "0      21   4\n",
       "1       4  21"
      ]
     },
     "execution_count": 47,
     "metadata": {},
     "output_type": "execute_result"
    }
   ],
   "source": [
    "y1 = clf.predict(X)\n",
    "from sklearn import metrics\n",
    "\n",
    "print(metrics.accuracy_score(y,y1))\n",
    "pd.crosstab(y,y1)"
   ]
  },
  {
   "cell_type": "markdown",
   "metadata": {},
   "source": [
    "Now to implement an ANN:\n",
    "- Step 1: Inititalize the random weights and the biases - W1,W2 and b1,b2\n",
    "- Step 2: use forward propogation to try to predict 'y'. This is done by passing the input through preactivation and then a non linear activation function(here-tanh) and then caluculating the probability.\n",
    "- Step 3: After the prediction made in 1st step, use backpropogation to correct the weights and the biases by coparing with the actual values and propogating it back to th first layer.\n",
    "- Step 4: Apply the adjustment of learning rate and gradient descent and repeat"
   ]
  },
  {
   "cell_type": "code",
   "execution_count": 48,
   "metadata": {
    "collapsed": false
   },
   "outputs": [],
   "source": [
    "nhdl = 3\n",
    "num_examples = len(X)\n",
    "input_dim = 2\n",
    "output_dim  = 2\n",
    "epsilon = 0.01\n",
    "lamda = 0.01\n",
    "np.random.seed(0)\n",
    "\n",
    "#Initialize the weights\n",
    "W1 = np.random.rand(input_dim,nhdl)\n",
    "b1 = np.zeros((1,nhdl))\n",
    "W2 = np.random.rand(nhdl,output_dim)\n",
    "b2 = np.zeros((1,output_dim))\n",
    "\n",
    "model = {}\n",
    "\n",
    "for i in range(0,1000):\n",
    "    \n",
    "    #Forward propogation\n",
    "    #Layer 1\n",
    "    #preactivation\n",
    "    z1 = X.dot(W1)+b1\n",
    "    #Activation\n",
    "    a1 = np.tanh(z1)\n",
    "    #Layer2\n",
    "    z2 = a1.dot(W2)+b2\n",
    "    a2 = np.tanh(z2)\n",
    "    exp_s = np.exp(z2)\n",
    "    probs = exp_s/np.sum(exp_s,axis = 1,keepdims=True)\n",
    "       \n",
    "    #backpropogation\n",
    "    delta3 = probs\n",
    "    delta3[range(num_examples),y] -=1#get Error\n",
    "    dW2 = (a1.T).dot(delta3)\n",
    "    db2 = np.sum(delta3,axis = 0,keepdims=True)\n",
    "    delta2 = delta3.dot(W2.T) * (1 - np.power(a1, 2))\n",
    "    dW1 = np.dot(X.T, delta2)\n",
    "    db1 = np.sum(delta2, axis=0)\n",
    "    # Add regularization terms\n",
    "    dW2 += lamda * W2\n",
    "    dW1 += lamda * W1\n",
    "\n",
    "    # Gradient descent \n",
    "    W1 += -epsilon * dW1\n",
    "    b1 += -epsilon * db1\n",
    "    W2 += -epsilon * dW2\n",
    "    b2 += -epsilon * db2\n",
    "        \n",
    "    # Assign new parameters to the model\n",
    "    model = { 'W1': W1, 'b1': b1, 'W2': W2, 'b2': b2}\n",
    "        \n",
    "\n",
    "    "
   ]
  },
  {
   "cell_type": "code",
   "execution_count": 49,
   "metadata": {
    "collapsed": false
   },
   "outputs": [],
   "source": [
    "# prediction\n",
    "\n",
    "W1, b1, W2, b2 = model['W1'], model['b1'], model['W2'], model['b2']\n",
    "# Forward propagation\n",
    "z1 = X.dot(W1) + b1\n",
    "a1 = np.tanh(z1)\n",
    "z2 = a1.dot(W2) + b2\n",
    "exp_scores = np.exp(z2)\n",
    "probs = exp_scores / np.sum(exp_scores, axis=1, keepdims=True)\n",
    "results = np.argmax(probs, axis=1)"
   ]
  },
  {
   "cell_type": "code",
   "execution_count": 51,
   "metadata": {
    "collapsed": false
   },
   "outputs": [
    {
     "name": "stdout",
     "output_type": "stream",
     "text": [
      "0.88\n"
     ]
    },
    {
     "data": {
      "text/html": [
       "<div>\n",
       "<table border=\"1\" class=\"dataframe\">\n",
       "  <thead>\n",
       "    <tr style=\"text-align: right;\">\n",
       "      <th>col_0</th>\n",
       "      <th>0</th>\n",
       "      <th>1</th>\n",
       "    </tr>\n",
       "    <tr>\n",
       "      <th>row_0</th>\n",
       "      <th></th>\n",
       "      <th></th>\n",
       "    </tr>\n",
       "  </thead>\n",
       "  <tbody>\n",
       "    <tr>\n",
       "      <th>0</th>\n",
       "      <td>22</td>\n",
       "      <td>3</td>\n",
       "    </tr>\n",
       "    <tr>\n",
       "      <th>1</th>\n",
       "      <td>3</td>\n",
       "      <td>22</td>\n",
       "    </tr>\n",
       "  </tbody>\n",
       "</table>\n",
       "</div>"
      ],
      "text/plain": [
       "col_0   0   1\n",
       "row_0        \n",
       "0      22   3\n",
       "1       3  22"
      ]
     },
     "execution_count": 51,
     "metadata": {},
     "output_type": "execute_result"
    }
   ],
   "source": [
    "print(metrics.accuracy_score(y,results))\n",
    "pd.crosstab(y,results)"
   ]
  },
  {
   "cell_type": "markdown",
   "metadata": {},
   "source": [
    "Increased accuracy of the model from 84 to 88% :)"
   ]
  },
  {
   "cell_type": "markdown",
   "metadata": {},
   "source": [
    "## Alternate, simpler, 2-layer ANN without the bias, learning rate\n",
    "\n",
    "\n",
    "Learnt from http://iamtrask.github.io/2015/07/12/basic-python-network/"
   ]
  },
  {
   "cell_type": "code",
   "execution_count": 20,
   "metadata": {
    "collapsed": false
   },
   "outputs": [],
   "source": [
    "# Sigmoid function:\n",
    "def nonlin(x,deriv= False):\n",
    "    if(deriv == True):\n",
    "        return x*(1-x)\n",
    "    else:\n",
    "        return 1/ (1+np.exp(-x))\n",
    "    \n",
    "y = y.reshape((50,1))\n",
    "weights_1 = 2*np.random.random((2,50))-1 \n",
    "weights_2 = 2*np.random.random((50,1)) #This will be same shape as the result\n",
    "output = np.zeros((50,50))\n",
    "for i in range(10000):\n",
    "    layer_0 = X\n",
    "    layer_1 = nonlin(layer_0.dot(weights_1)) # First layer multiplying data with weights and passigng throught the tanh function same shape as target \n",
    "    layer_2 = nonlin(layer_1.dot(weights_2))\n",
    "    layer_2_error = y - layer_2\n",
    "    layer_2_delta = layer_2_error*nonlin(layer_2,True) # Error weighted derivative \n",
    "    layer_1_error = np.dot(layer_2_error,weights_2.T)\n",
    "    layer_1_delta = layer_1_error*nonlin(layer_1,True) # Error weighted derivative \n",
    "    weights_1 += np.dot(layer_0.T,layer_1_delta)\n",
    "    weights_2 += np.dot(layer_1.T,layer_2_delta)\n",
    "    output = layer_2\n",
    "\n"
   ]
  },
  {
   "cell_type": "code",
   "execution_count": 17,
   "metadata": {
    "collapsed": false
   },
   "outputs": [],
   "source": [
    "# Do the classification to 1 and 0\n",
    "output[output>0.5] = 1\n",
    "output[output<0.5] = 0"
   ]
  },
  {
   "cell_type": "code",
   "execution_count": 18,
   "metadata": {
    "collapsed": false
   },
   "outputs": [
    {
     "name": "stdout",
     "output_type": "stream",
     "text": [
      "0.96\n"
     ]
    },
    {
     "data": {
      "text/plain": [
       "array([[23,  2],\n",
       "       [ 0, 25]])"
      ]
     },
     "execution_count": 18,
     "metadata": {},
     "output_type": "execute_result"
    }
   ],
   "source": [
    "from sklearn import metrics\n",
    "from sklearn.metrics import confusion_matrix\n",
    "print(metrics.accuracy_score(y,output))\n",
    "confusion_matrix(y,output)"
   ]
  },
  {
   "cell_type": "markdown",
   "metadata": {},
   "source": [
    "This is quite high"
   ]
  },
  {
   "cell_type": "code",
   "execution_count": 19,
   "metadata": {
    "collapsed": false
   },
   "outputs": [
    {
     "name": "stdout",
     "output_type": "stream",
     "text": [
      "1.0\n"
     ]
    },
    {
     "data": {
      "text/plain": [
       "array([[25,  0],\n",
       "       [ 0, 25]])"
      ]
     },
     "execution_count": 19,
     "metadata": {},
     "output_type": "execute_result"
    }
   ],
   "source": [
    "y = y.reshape((50,1))\n",
    "weights_1 = 2*np.random.random((2,50))-1 \n",
    "weights_2 = np.random.random((50,1)) #This will be same shape as the result\n",
    "output = np.zeros((50,50))\n",
    "for i in range(10000):\n",
    "    layer_0 = X\n",
    "    layer_1 = nonlin(layer_0.dot(weights_1)) # First layer multiplying data with weights and passigng throught the tanh function same shape as target \n",
    "    layer_2 = nonlin(layer_1.dot(weights_2))\n",
    "    layer_2_error = y - layer_2\n",
    "    layer_2_delta = layer_2_error*nonlin(layer_2,True) # Error weighted derivative \n",
    "    layer_1_error = np.dot(layer_2_error,weights_2.T)\n",
    "    layer_1_delta = layer_1_error*nonlin(layer_1,True) # Error weighted derivative \n",
    "    weights_1 += np.dot(layer_0.T,layer_1_delta)\n",
    "    weights_2 += np.dot(layer_1.T,layer_2_delta)\n",
    "    output = layer_2\n",
    "output[output>0.5] = 1\n",
    "output[output<0.5] = 0\n",
    "print(metrics.accuracy_score(y,output))\n",
    "confusion_matrix(y,output)"
   ]
  },
  {
   "cell_type": "markdown",
   "metadata": {},
   "source": [
    "Just by initializing the weight_2, we are able to get 100% accuracy!!"
   ]
  }
 ],
 "metadata": {
  "kernelspec": {
   "display_name": "Python 3",
   "language": "python",
   "name": "python3"
  },
  "language_info": {
   "codemirror_mode": {
    "name": "ipython",
    "version": 3
   },
   "file_extension": ".py",
   "mimetype": "text/x-python",
   "name": "python",
   "nbconvert_exporter": "python",
   "pygments_lexer": "ipython3",
   "version": "3.4.2"
  }
 },
 "nbformat": 4,
 "nbformat_minor": 0
}
