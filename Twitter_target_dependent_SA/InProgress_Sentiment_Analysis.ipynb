{
 "cells": [
  {
   "cell_type": "markdown",
   "metadata": {},
   "source": [
    "### CI Project notebook for demostration\n",
    "\n",
    "#### Gautam Borgohain"
   ]
  },
  {
   "cell_type": "code",
   "execution_count": 70,
   "metadata": {
    "collapsed": true
   },
   "outputs": [],
   "source": [
    "import pandas as pd\n",
    "import matplotlib\n",
    "%matplotlib inline\n",
    "import matplotlib.pyplot as plt\n",
    "pd.options.display.max_rows = 10\n",
    "pd.options.display.notebook_repr_html = True\n",
    "pd.options.display.max_columns = None\n"
   ]
  },
  {
   "cell_type": "code",
   "execution_count": 89,
   "metadata": {
    "collapsed": false
   },
   "outputs": [
    {
     "data": {
      "text/html": [
       "<div>\n",
       "<table border=\"1\" class=\"dataframe\">\n",
       "  <thead>\n",
       "    <tr style=\"text-align: right;\">\n",
       "      <th></th>\n",
       "      <th>Created At</th>\n",
       "      <th>ID</th>\n",
       "      <th>In Reply To</th>\n",
       "      <th>Language</th>\n",
       "      <th>Place</th>\n",
       "      <th>ReTweet Count</th>\n",
       "      <th>Sentiment</th>\n",
       "      <th>Tweet</th>\n",
       "      <th>Unnamed: 2</th>\n",
       "      <th>User Handle</th>\n",
       "      <th>DayWeek</th>\n",
       "      <th>Hour</th>\n",
       "      <th>DayYear</th>\n",
       "      <th>isSwarm</th>\n",
       "    </tr>\n",
       "  </thead>\n",
       "  <tbody>\n",
       "    <tr>\n",
       "      <th>14</th>\n",
       "      <td>2016-02-11 06:49:04</td>\n",
       "      <td>697552893537357056</td>\n",
       "      <td>NaN</td>\n",
       "      <td>en</td>\n",
       "      <td>North Region, Singapore</td>\n",
       "      <td>0</td>\n",
       "      <td>0</td>\n",
       "      <td>Inside bus 900A.. (@ SMRT Buses: Bus 900A in Singapore) https://t.co/5IUtDIbFr7</td>\n",
       "      <td>0</td>\n",
       "      <td>nurlynnyati</td>\n",
       "      <td>3</td>\n",
       "      <td>6</td>\n",
       "      <td>42</td>\n",
       "      <td>False</td>\n",
       "    </tr>\n",
       "    <tr>\n",
       "      <th>18</th>\n",
       "      <td>2016-02-12 07:48:23</td>\n",
       "      <td>697930209606000000</td>\n",
       "      <td>NaN</td>\n",
       "      <td>en</td>\n",
       "      <td>Central Region, Singapore</td>\n",
       "      <td>0</td>\n",
       "      <td>0</td>\n",
       "      <td>Last day here, just wait for a few minutes 😢😫🚄 (at @smrt_singapore) — https://t.co/St2XwBWr8C</td>\n",
       "      <td>0</td>\n",
       "      <td>chanichaaaaa</td>\n",
       "      <td>4</td>\n",
       "      <td>7</td>\n",
       "      <td>43</td>\n",
       "      <td>False</td>\n",
       "    </tr>\n",
       "    <tr>\n",
       "      <th>22</th>\n",
       "      <td>2016-02-12 07:33:39</td>\n",
       "      <td>697926502139047040</td>\n",
       "      <td>syfqhntsh</td>\n",
       "      <td>en</td>\n",
       "      <td>NaN</td>\n",
       "      <td>0</td>\n",
       "      <td>1</td>\n",
       "      <td>@syfqhntsh @SMRT_Singapore @swarmapp u today v early :\")</td>\n",
       "      <td>1</td>\n",
       "      <td>glynisyingting</td>\n",
       "      <td>4</td>\n",
       "      <td>7</td>\n",
       "      <td>43</td>\n",
       "      <td>False</td>\n",
       "    </tr>\n",
       "    <tr>\n",
       "      <th>23</th>\n",
       "      <td>2016-02-12 07:33:15</td>\n",
       "      <td>697926400658029056</td>\n",
       "      <td>NaN</td>\n",
       "      <td>en</td>\n",
       "      <td>East Region, Singapore</td>\n",
       "      <td>0</td>\n",
       "      <td>0</td>\n",
       "      <td>Otw for exam... Hope I don't flunk it lol (@ Pasir Ris MRT Station (EW1) - @smrt_singapore in Singapore) https://t.co/dGnlHstYZS</td>\n",
       "      <td>0</td>\n",
       "      <td>unknownguy95</td>\n",
       "      <td>4</td>\n",
       "      <td>7</td>\n",
       "      <td>43</td>\n",
       "      <td>False</td>\n",
       "    </tr>\n",
       "    <tr>\n",
       "      <th>36</th>\n",
       "      <td>2016-02-12 06:34:44</td>\n",
       "      <td>697911676558012032</td>\n",
       "      <td>NaN</td>\n",
       "      <td>en</td>\n",
       "      <td>Central Region, Singapore</td>\n",
       "      <td>5</td>\n",
       "      <td>1</td>\n",
       "      <td>RT @AdobeDocCloud: #eSign services reduced @SMRT_Singapore contract cycles from 3 weeks to as fast as 7 mins: https://t.co/s5rhtJGnPG https…</td>\n",
       "      <td>1</td>\n",
       "      <td>MisaLan15</td>\n",
       "      <td>4</td>\n",
       "      <td>6</td>\n",
       "      <td>43</td>\n",
       "      <td>False</td>\n",
       "    </tr>\n",
       "  </tbody>\n",
       "</table>\n",
       "</div>"
      ],
      "text/plain": [
       "            Created At                  ID In Reply To Language  \\\n",
       "14 2016-02-11 06:49:04  697552893537357056         NaN       en   \n",
       "18 2016-02-12 07:48:23  697930209606000000         NaN       en   \n",
       "22 2016-02-12 07:33:39  697926502139047040   syfqhntsh       en   \n",
       "23 2016-02-12 07:33:15  697926400658029056         NaN       en   \n",
       "36 2016-02-12 06:34:44  697911676558012032         NaN       en   \n",
       "\n",
       "                        Place  ReTweet Count  Sentiment  \\\n",
       "14    North Region, Singapore              0          0   \n",
       "18  Central Region, Singapore              0          0   \n",
       "22                        NaN              0          1   \n",
       "23     East Region, Singapore              0          0   \n",
       "36  Central Region, Singapore              5          1   \n",
       "\n",
       "                                                                                                                                           Tweet  \\\n",
       "14                                                               Inside bus 900A.. (@ SMRT Buses: Bus 900A in Singapore) https://t.co/5IUtDIbFr7   \n",
       "18                                                 Last day here, just wait for a few minutes 😢😫🚄 (at @smrt_singapore) — https://t.co/St2XwBWr8C   \n",
       "22                                                                                      @syfqhntsh @SMRT_Singapore @swarmapp u today v early :\")   \n",
       "23              Otw for exam... Hope I don't flunk it lol (@ Pasir Ris MRT Station (EW1) - @smrt_singapore in Singapore) https://t.co/dGnlHstYZS   \n",
       "36  RT @AdobeDocCloud: #eSign services reduced @SMRT_Singapore contract cycles from 3 weeks to as fast as 7 mins: https://t.co/s5rhtJGnPG https…   \n",
       "\n",
       "   Unnamed: 2     User Handle  DayWeek  Hour  DayYear isSwarm  \n",
       "14          0     nurlynnyati        3     6       42   False  \n",
       "18          0    chanichaaaaa        4     7       43   False  \n",
       "22          1  glynisyingting        4     7       43   False  \n",
       "23          0    unknownguy95        4     7       43   False  \n",
       "36          1       MisaLan15        4     6       43   False  "
      ]
     },
     "execution_count": 89,
     "metadata": {},
     "output_type": "execute_result"
    }
   ],
   "source": [
    "data_unlab = pd.read_excel('/Users/gautamborgohain/Desktop/DATA/Tweets_labeled.xls')\n",
    "data_unlab.head()"
   ]
  },
  {
   "cell_type": "markdown",
   "metadata": {},
   "source": [
    "### Clean the tweets\n",
    "\n",
    "Replace some of the emoticons, urls and @ symbols with more processable words"
   ]
  },
  {
   "cell_type": "code",
   "execution_count": 76,
   "metadata": {
    "collapsed": false
   },
   "outputs": [],
   "source": [
    "import re\n",
    "def regexStuff(tweet):\n",
    "    tweet = re.sub(r'@SMRT_singapore|@smrt_singapore|@smrt','TARGET',tweet)\n",
    "    tweet = re.sub(r'@[^ ]*','NOT_TARGET',tweet)\n",
    "#     tweet = re.sub('((www\\.[^ ]+)|(https?://[^ ]+))', '_URL_', tweet)\n",
    "#     tweet = re.sub(r'@[^ ]*','',tweet)\n",
    "    tweet = re.sub('((www\\.[^ ]+)|(https?://[^ ]+))', '', tweet)\n",
    "    tweet = re.sub(r'[\\n]','',tweet)\n",
    "    tweet = re.sub('[\\s]+', ' ', tweet)\n",
    "    tweet = re.sub('[\\.]+', '.', tweet)\n",
    "    tweet = re.sub(r':-D|:D',' HAPPY',tweet)\n",
    "    tweet = re.sub(r':-\\)|:\\)',' HAPPY',tweet)\n",
    "    tweet = re.sub(r':-\\(|:\\(',' SAD',tweet)\n",
    "    tweet = re.sub(r';-\\)|;\\)',' WINK',tweet)\n",
    "    tweet = re.sub(r'#','HASH_',tweet)\n",
    "    return tweet\n",
    "\n"
   ]
  },
  {
   "cell_type": "code",
   "execution_count": 90,
   "metadata": {
    "collapsed": false
   },
   "outputs": [
    {
     "data": {
      "text/plain": [
       "['Inside bus 900A. (NOT_TARGET SMRT Buses: Bus 900A in Singapore) ',\n",
       " 'Last day here, just wait for a few minutes 😢😫🚄 (at TARGET) — ',\n",
       " 'NOT_TARGET NOT_TARGET NOT_TARGET u today v early :\")',\n",
       " \"Otw for exam. Hope I don't flunk it lol (NOT_TARGET Pasir Ris MRT Station (EW1) - TARGET in Singapore) \",\n",
       " 'RT NOT_TARGET HASH_eSign services reduced NOT_TARGET contract cycles from 3 weeks to as fast as 7 mins: https…',\n",
       " 'To those mother fuckers so call good singapore citizen or so called the good guys and to the fucking SMRT MRTI. ',\n",
       " 'Report SMRT defects via WhatsApp - DKSG HASH_whatsapp ',\n",
       " 'finally ended (NOT_TARGET Bayfront MRT Interchange (CE1/DT16) - TARGET in Singapore) ',\n",
       " 'NOT_TARGET NOT_TARGET NOT_TARGET report to the mrt whatsapp. Chairs stolen',\n",
       " 'RT NOT_TARGET NOT_TARGET NOT_TARGET coz we pay to stand.',\n",
       " 'RT NOT_TARGET If there are seats here we will all be seating. I dont understand why u do this NOT_TARGET ',\n",
       " \"RT NOT_TARGET Singapore footballer hopes HASH_SLeague-SMRT partnership will create more 'media attention' https:…\",\n",
       " 'CNA | S.League announces media partnership with SMRT ',\n",
       " 'CNA | S.League announces media partnership with SMRT HASH_sgnews ',\n",
       " 'CNA | S.League announces media partnership with SMRT ',\n",
       " 'RT NOT_TARGET JUST IN: NOT_TARGET announces media partnership with NOT_TARGET ',\n",
       " 'RT NOT_TARGET Football training: NOT_TARGET and NOT_TARGET show off the HASH_SLeague train ',\n",
       " 'RT NOT_TARGET HASH_SLeague - NOT_TARGET partnership will include concept trains, screens showing goals and highlights, and club ads in…',\n",
       " \"RT NOT_TARGET 'Big boost for HASH_SLeague, with NOT_TARGET fetching millions of commuters everyday' - league CEO Lim Chin \",\n",
       " 'RT NOT_TARGET HASH_Football: NOT_TARGET NOT_TARGET in tie-up to promote HASH_SLeague for 3 years HASH_SMRT ']"
      ]
     },
     "execution_count": 90,
     "metadata": {},
     "output_type": "execute_result"
    }
   ],
   "source": [
    "cleanedtweets = [regexStuff(tweet) for tweet in data_unlab['Tweet']]\n",
    "cleanedtweets[:20]"
   ]
  },
  {
   "cell_type": "code",
   "execution_count": 145,
   "metadata": {
    "collapsed": true
   },
   "outputs": [],
   "source": [
    "data_unlab_copy = data_unlab.copy()\n",
    "data_unlab_copy['Tweet'] = cleanedtweets"
   ]
  },
  {
   "cell_type": "markdown",
   "metadata": {},
   "source": [
    "### Remove the tweets which are automatically generated by the Swarm app\n",
    "\n",
    "They start with 'I'm at' or have it in content along with an mrt station name"
   ]
  },
  {
   "cell_type": "code",
   "execution_count": 146,
   "metadata": {
    "collapsed": false
   },
   "outputs": [
    {
     "name": "stdout",
     "output_type": "stream",
     "text": [
      "1276\n"
     ]
    }
   ],
   "source": [
    "def swarmTweet(tweet):\n",
    "    tweet = tweet.lower()\n",
    "    if re.search(r'i\\'m at [a-z ]* mrt ', tweet) or tweet.startswith('i\\'m at'):\n",
    "        return True\n",
    "    else:\n",
    "        return False\n",
    "    \n",
    "data_unlab_copy['isSwarm'] = [swarmTweet(tweet) for tweet in data_unlab_copy['Tweet']]\n",
    "data_unlab_copy = data_unlab_copy[data_unlab_copy.isSwarm == False]\n",
    "print(len(data_unlab_copy))"
   ]
  },
  {
   "cell_type": "markdown",
   "metadata": {},
   "source": [
    "### Some exploration on the dataset\n",
    "\n",
    "Plot the most frequent words in the dataset"
   ]
  },
  {
   "cell_type": "code",
   "execution_count": 8,
   "metadata": {
    "collapsed": false
   },
   "outputs": [
    {
     "data": {
      "text/plain": [
       "<matplotlib.axes._subplots.AxesSubplot at 0x1088782e8>"
      ]
     },
     "execution_count": 8,
     "metadata": {},
     "output_type": "execute_result"
    },
    {
     "data": {
      "image/png": "[encoded data removed]",
      "text/plain": [
       "<matplotlib.figure.Figure at 0x108722cc0>"
      ]
     },
     "metadata": {},
     "output_type": "display_data"
    }
   ],
   "source": [
    "from sklearn.feature_extraction.text import CountVectorizer\n",
    "\n",
    "vectorizer = CountVectorizer(min_df=1,max_df=1.0,stop_words='english',lowercase=True,ngram_range=(1,2))\n",
    "documentmatrix = vectorizer.fit_transform(data_unlab_copy['Tweet']).toarray()\n",
    "columns = vectorizer.get_feature_names()\n",
    "vectordf = pd.DataFrame(data=documentmatrix, columns=columns)\n",
    "words = vectordf.sum(axis = 0)\n",
    "words.sort_values(ascending=False)[:30].plot(kind = 'barh',title = 'Most Frequent Words',figsize = (10,10))"
   ]
  },
  {
   "cell_type": "markdown",
   "metadata": {},
   "source": [
    "### Stanford Core NLP dependency tree features\n",
    "\n",
    "cd stanford-corenlp-full-2015-12-09/\n",
    "\n",
    "export CLASSPATH=\"`find . -name '*.jar'`\" \n",
    "\n",
    "java -mx4g -cp \"*\" edu.stanford.nlp.pipeline.StanfordCoreNLPServer"
   ]
  },
  {
   "cell_type": "code",
   "execution_count": 11,
   "metadata": {
    "collapsed": true
   },
   "outputs": [],
   "source": [
    "from pycorenlp import StanfordCoreNLP\n",
    "nlp = StanfordCoreNLP('http://localhost:9000')"
   ]
  },
  {
   "cell_type": "code",
   "execution_count": 12,
   "metadata": {
    "collapsed": false,
    "scrolled": true
   },
   "outputs": [
    {
     "name": "stdout",
     "output_type": "stream",
     "text": [
      "{'sentences': [{'collapsed-ccprocessed-dependencies': [{'dependentGloss': 'guys', 'governorGloss': 'ROOT', 'dependent': 2, 'dep': 'ROOT', 'governor': 0}, {'dependentGloss': 'U', 'governorGloss': 'guys', 'dependent': 1, 'dep': 'compound', 'governor': 2}, {'dependentGloss': 'better', 'governorGloss': 'wake', 'dependent': 3, 'dep': 'amod', 'governor': 4}, {'dependentGloss': 'wake', 'governorGloss': 'guys', 'dependent': 4, 'dep': 'dep', 'governor': 2}, {'dependentGloss': 'up', 'governorGloss': 'idea', 'dependent': 5, 'dep': 'case', 'governor': 7}, {'dependentGloss': 'ur', 'governorGloss': 'idea', 'dependent': 6, 'dep': 'compound', 'governor': 7}, {'dependentGloss': 'idea', 'governorGloss': 'wake', 'dependent': 7, 'dep': 'nmod:up', 'governor': 4}, {'dependentGloss': '!', 'governorGloss': 'guys', 'dependent': 8, 'dep': 'punct', 'governor': 2}], 'parse': '(ROOT\\n  (NP\\n    (NP (NNP U) (NNS guys))\\n    (NP\\n      (NP (JJR better) (NN wake))\\n      (PP (IN up)\\n        (NP (NN ur) (NN idea))))\\n    (. !)))', 'tokens': [{'pos': 'NNP', 'originalText': 'U', 'word': 'U', 'characterOffsetEnd': 1, 'before': '', 'lemma': 'U', 'ner': 'O', 'index': 1, 'after': ' ', 'characterOffsetBegin': 0}, {'pos': 'NNS', 'originalText': 'guys', 'word': 'guys', 'characterOffsetEnd': 6, 'before': ' ', 'lemma': 'guy', 'ner': 'O', 'index': 2, 'after': ' ', 'characterOffsetBegin': 2}, {'pos': 'JJR', 'originalText': 'better', 'word': 'better', 'characterOffsetEnd': 13, 'before': ' ', 'lemma': 'better', 'ner': 'O', 'index': 3, 'after': ' ', 'characterOffsetBegin': 7}, {'pos': 'NN', 'originalText': 'wake', 'word': 'wake', 'characterOffsetEnd': 18, 'before': ' ', 'lemma': 'wake', 'ner': 'O', 'index': 4, 'after': ' ', 'characterOffsetBegin': 14}, {'pos': 'IN', 'originalText': 'up', 'word': 'up', 'characterOffsetEnd': 21, 'before': ' ', 'lemma': 'up', 'ner': 'O', 'index': 5, 'after': ' ', 'characterOffsetBegin': 19}, {'pos': 'NN', 'originalText': 'ur', 'word': 'ur', 'characterOffsetEnd': 24, 'before': ' ', 'lemma': 'ur', 'ner': 'O', 'index': 6, 'after': ' ', 'characterOffsetBegin': 22}, {'pos': 'NN', 'originalText': 'idea', 'word': 'idea', 'characterOffsetEnd': 29, 'before': ' ', 'lemma': 'idea', 'ner': 'O', 'index': 7, 'after': '', 'characterOffsetBegin': 25}, {'pos': '.', 'originalText': '!', 'word': '!', 'characterOffsetEnd': 30, 'before': '', 'lemma': '!', 'ner': 'O', 'index': 8, 'after': ' ', 'characterOffsetBegin': 29}], 'index': 0, 'basic-dependencies': [{'dependentGloss': 'guys', 'governorGloss': 'ROOT', 'dependent': 2, 'dep': 'ROOT', 'governor': 0}, {'dependentGloss': 'U', 'governorGloss': 'guys', 'dependent': 1, 'dep': 'compound', 'governor': 2}, {'dependentGloss': 'better', 'governorGloss': 'wake', 'dependent': 3, 'dep': 'amod', 'governor': 4}, {'dependentGloss': 'wake', 'governorGloss': 'guys', 'dependent': 4, 'dep': 'dep', 'governor': 2}, {'dependentGloss': 'up', 'governorGloss': 'idea', 'dependent': 5, 'dep': 'case', 'governor': 7}, {'dependentGloss': 'ur', 'governorGloss': 'idea', 'dependent': 6, 'dep': 'compound', 'governor': 7}, {'dependentGloss': 'idea', 'governorGloss': 'wake', 'dependent': 7, 'dep': 'nmod', 'governor': 4}, {'dependentGloss': '!', 'governorGloss': 'guys', 'dependent': 8, 'dep': 'punct', 'governor': 2}], 'collapsed-dependencies': [{'dependentGloss': 'guys', 'governorGloss': 'ROOT', 'dependent': 2, 'dep': 'ROOT', 'governor': 0}, {'dependentGloss': 'U', 'governorGloss': 'guys', 'dependent': 1, 'dep': 'compound', 'governor': 2}, {'dependentGloss': 'better', 'governorGloss': 'wake', 'dependent': 3, 'dep': 'amod', 'governor': 4}, {'dependentGloss': 'wake', 'governorGloss': 'guys', 'dependent': 4, 'dep': 'dep', 'governor': 2}, {'dependentGloss': 'up', 'governorGloss': 'idea', 'dependent': 5, 'dep': 'case', 'governor': 7}, {'dependentGloss': 'ur', 'governorGloss': 'idea', 'dependent': 6, 'dep': 'compound', 'governor': 7}, {'dependentGloss': 'idea', 'governorGloss': 'wake', 'dependent': 7, 'dep': 'nmod:up', 'governor': 4}, {'dependentGloss': '!', 'governorGloss': 'guys', 'dependent': 8, 'dep': 'punct', 'governor': 2}]}, {'collapsed-ccprocessed-dependencies': [{'dependentGloss': 'pay', 'governorGloss': 'ROOT', 'dependent': 2, 'dep': 'ROOT', 'governor': 0}, {'dependentGloss': 'People', 'governorGloss': 'pay', 'dependent': 1, 'dep': 'nsubj', 'governor': 2}, {'dependentGloss': 'so', 'governorGloss': 'much', 'dependent': 3, 'dep': 'advmod', 'governor': 4}, {'dependentGloss': 'much', 'governorGloss': 'pay', 'dependent': 4, 'dep': 'xcomp', 'governor': 2}, {'dependentGloss': 'for', 'governorGloss': 'service', 'dependent': 5, 'dep': 'case', 'governor': 8}, {'dependentGloss': 'ur', 'governorGloss': 'service', 'dependent': 6, 'dep': 'compound', 'governor': 8}, {'dependentGloss': 'crappy', 'governorGloss': 'service', 'dependent': 7, 'dep': 'amod', 'governor': 8}, {'dependentGloss': 'service', 'governorGloss': 'pay', 'dependent': 8, 'dep': 'nmod:for', 'governor': 2}, {'dependentGloss': '.', 'governorGloss': 'pay', 'dependent': 9, 'dep': 'punct', 'governor': 2}], 'parse': '(ROOT\\n  (S\\n    (NP (NNS People))\\n    (VP (VBP pay)\\n      (ADJP (RB so) (JJ much))\\n      (PP (IN for)\\n        (NP (NN ur) (JJ crappy) (NN service))))\\n    (. .)))', 'tokens': [{'pos': 'NNS', 'originalText': 'People', 'word': 'People', 'characterOffsetEnd': 37, 'before': ' ', 'lemma': 'people', 'ner': 'O', 'index': 1, 'after': ' ', 'characterOffsetBegin': 31}, {'pos': 'VBP', 'originalText': 'pay', 'word': 'pay', 'characterOffsetEnd': 41, 'before': ' ', 'lemma': 'pay', 'ner': 'O', 'index': 2, 'after': ' ', 'characterOffsetBegin': 38}, {'pos': 'RB', 'originalText': 'so', 'word': 'so', 'characterOffsetEnd': 44, 'before': ' ', 'lemma': 'so', 'ner': 'O', 'index': 3, 'after': ' ', 'characterOffsetBegin': 42}, {'pos': 'JJ', 'originalText': 'much', 'word': 'much', 'characterOffsetEnd': 49, 'before': ' ', 'lemma': 'much', 'ner': 'O', 'index': 4, 'after': ' ', 'characterOffsetBegin': 45}, {'pos': 'IN', 'originalText': 'for', 'word': 'for', 'characterOffsetEnd': 53, 'before': ' ', 'lemma': 'for', 'ner': 'O', 'index': 5, 'after': ' ', 'characterOffsetBegin': 50}, {'pos': 'NN', 'originalText': 'ur', 'word': 'ur', 'characterOffsetEnd': 56, 'before': ' ', 'lemma': 'ur', 'ner': 'O', 'index': 6, 'after': ' ', 'characterOffsetBegin': 54}, {'pos': 'JJ', 'originalText': 'crappy', 'word': 'crappy', 'characterOffsetEnd': 63, 'before': ' ', 'lemma': 'crappy', 'ner': 'O', 'index': 7, 'after': ' ', 'characterOffsetBegin': 57}, {'pos': 'NN', 'originalText': 'service', 'word': 'service', 'characterOffsetEnd': 71, 'before': ' ', 'lemma': 'service', 'ner': 'O', 'index': 8, 'after': '', 'characterOffsetBegin': 64}, {'pos': '.', 'originalText': '.', 'word': '.', 'characterOffsetEnd': 72, 'before': '', 'lemma': '.', 'ner': 'O', 'index': 9, 'after': ' ', 'characterOffsetBegin': 71}], 'index': 1, 'basic-dependencies': [{'dependentGloss': 'pay', 'governorGloss': 'ROOT', 'dependent': 2, 'dep': 'ROOT', 'governor': 0}, {'dependentGloss': 'People', 'governorGloss': 'pay', 'dependent': 1, 'dep': 'nsubj', 'governor': 2}, {'dependentGloss': 'so', 'governorGloss': 'much', 'dependent': 3, 'dep': 'advmod', 'governor': 4}, {'dependentGloss': 'much', 'governorGloss': 'pay', 'dependent': 4, 'dep': 'xcomp', 'governor': 2}, {'dependentGloss': 'for', 'governorGloss': 'service', 'dependent': 5, 'dep': 'case', 'governor': 8}, {'dependentGloss': 'ur', 'governorGloss': 'service', 'dependent': 6, 'dep': 'compound', 'governor': 8}, {'dependentGloss': 'crappy', 'governorGloss': 'service', 'dependent': 7, 'dep': 'amod', 'governor': 8}, {'dependentGloss': 'service', 'governorGloss': 'pay', 'dependent': 8, 'dep': 'nmod', 'governor': 2}, {'dependentGloss': '.', 'governorGloss': 'pay', 'dependent': 9, 'dep': 'punct', 'governor': 2}], 'collapsed-dependencies': [{'dependentGloss': 'pay', 'governorGloss': 'ROOT', 'dependent': 2, 'dep': 'ROOT', 'governor': 0}, {'dependentGloss': 'People', 'governorGloss': 'pay', 'dependent': 1, 'dep': 'nsubj', 'governor': 2}, {'dependentGloss': 'so', 'governorGloss': 'much', 'dependent': 3, 'dep': 'advmod', 'governor': 4}, {'dependentGloss': 'much', 'governorGloss': 'pay', 'dependent': 4, 'dep': 'xcomp', 'governor': 2}, {'dependentGloss': 'for', 'governorGloss': 'service', 'dependent': 5, 'dep': 'case', 'governor': 8}, {'dependentGloss': 'ur', 'governorGloss': 'service', 'dependent': 6, 'dep': 'compound', 'governor': 8}, {'dependentGloss': 'crappy', 'governorGloss': 'service', 'dependent': 7, 'dep': 'amod', 'governor': 8}, {'dependentGloss': 'service', 'governorGloss': 'pay', 'dependent': 8, 'dep': 'nmod:for', 'governor': 2}, {'dependentGloss': '.', 'governorGloss': 'pay', 'dependent': 9, 'dep': 'punct', 'governor': 2}]}, {'collapsed-ccprocessed-dependencies': [{'dependentGloss': 'People', 'governorGloss': 'ROOT', 'dependent': 1, 'dep': 'ROOT', 'governor': 0}, {'dependentGloss': 'late', 'governorGloss': 'work', 'dependent': 2, 'dep': 'advmod', 'governor': 4}, {'dependentGloss': 'for', 'governorGloss': 'work', 'dependent': 3, 'dep': 'case', 'governor': 4}, {'dependentGloss': 'work', 'governorGloss': 'People', 'dependent': 4, 'dep': 'nmod:for', 'governor': 1}, {'dependentGloss': 'now', 'governorGloss': 'People', 'dependent': 5, 'dep': 'advmod', 'governor': 1}, {'dependentGloss': '.', 'governorGloss': 'People', 'dependent': 6, 'dep': 'punct', 'governor': 1}], 'parse': '(ROOT\\n  (NP\\n    (NP (NNS People))\\n    (PP\\n      (ADVP (RB late))\\n      (IN for)\\n      (NP (NN work)))\\n    (ADVP (RB now))\\n    (. .)))', 'tokens': [{'pos': 'NNS', 'originalText': 'People', 'word': 'People', 'characterOffsetEnd': 79, 'before': ' ', 'lemma': 'people', 'ner': 'O', 'index': 1, 'after': ' ', 'characterOffsetBegin': 73}, {'pos': 'RB', 'originalText': 'late', 'word': 'late', 'characterOffsetEnd': 84, 'before': ' ', 'lemma': 'late', 'ner': 'O', 'index': 2, 'after': ' ', 'characterOffsetBegin': 80}, {'pos': 'IN', 'originalText': 'for', 'word': 'for', 'characterOffsetEnd': 88, 'before': ' ', 'lemma': 'for', 'ner': 'O', 'index': 3, 'after': ' ', 'characterOffsetBegin': 85}, {'pos': 'NN', 'originalText': 'work', 'word': 'work', 'characterOffsetEnd': 93, 'before': ' ', 'lemma': 'work', 'ner': 'O', 'index': 4, 'after': ' ', 'characterOffsetBegin': 89}, {'ner': 'DATE', 'word': 'now', 'characterOffsetEnd': 97, 'before': ' ', 'normalizedNER': 'PRESENT_REF', 'characterOffsetBegin': 94, 'pos': 'RB', 'originalText': 'now', 'lemma': 'now', 'after': '', 'index': 5, 'timex': {'tid': 't1', 'type': 'DATE', 'value': 'PRESENT_REF'}}, {'pos': '.', 'originalText': '.', 'word': '.', 'characterOffsetEnd': 98, 'before': '', 'lemma': '.', 'ner': 'O', 'index': 6, 'after': ' ', 'characterOffsetBegin': 97}], 'index': 2, 'basic-dependencies': [{'dependentGloss': 'People', 'governorGloss': 'ROOT', 'dependent': 1, 'dep': 'ROOT', 'governor': 0}, {'dependentGloss': 'late', 'governorGloss': 'work', 'dependent': 2, 'dep': 'advmod', 'governor': 4}, {'dependentGloss': 'for', 'governorGloss': 'work', 'dependent': 3, 'dep': 'case', 'governor': 4}, {'dependentGloss': 'work', 'governorGloss': 'People', 'dependent': 4, 'dep': 'nmod', 'governor': 1}, {'dependentGloss': 'now', 'governorGloss': 'People', 'dependent': 5, 'dep': 'advmod', 'governor': 1}, {'dependentGloss': '.', 'governorGloss': 'People', 'dependent': 6, 'dep': 'punct', 'governor': 1}], 'collapsed-dependencies': [{'dependentGloss': 'People', 'governorGloss': 'ROOT', 'dependent': 1, 'dep': 'ROOT', 'governor': 0}, {'dependentGloss': 'late', 'governorGloss': 'work', 'dependent': 2, 'dep': 'advmod', 'governor': 4}, {'dependentGloss': 'for', 'governorGloss': 'work', 'dependent': 3, 'dep': 'case', 'governor': 4}, {'dependentGloss': 'work', 'governorGloss': 'People', 'dependent': 4, 'dep': 'nmod:for', 'governor': 1}, {'dependentGloss': 'now', 'governorGloss': 'People', 'dependent': 5, 'dep': 'advmod', 'governor': 1}, {'dependentGloss': '.', 'governorGloss': 'People', 'dependent': 6, 'dep': 'punct', 'governor': 1}]}, {'collapsed-ccprocessed-dependencies': [{'dependentGloss': 'ATSMRT', 'governorGloss': 'ROOT', 'dependent': 1, 'dep': 'ROOT', 'governor': 0}], 'parse': '(ROOT\\n  (NP (NN ATSMRT)))', 'tokens': [{'pos': 'NN', 'originalText': 'ATSMRT', 'word': 'ATSMRT', 'characterOffsetEnd': 105, 'before': ' ', 'lemma': 'atsmrt', 'ner': 'PERSON', 'index': 1, 'after': '', 'characterOffsetBegin': 99}], 'index': 3, 'basic-dependencies': [{'dependentGloss': 'ATSMRT', 'governorGloss': 'ROOT', 'dependent': 1, 'dep': 'ROOT', 'governor': 0}], 'collapsed-dependencies': [{'dependentGloss': 'ATSMRT', 'governorGloss': 'ROOT', 'dependent': 1, 'dep': 'ROOT', 'governor': 0}]}]}\n"
     ]
    }
   ],
   "source": [
    "# Sample output from the Stanford dependency parser\n",
    "\n",
    "text = (\"U guys better wake up ur idea! People pay so much for ur crappy service. People late for work now. ATSMRT\")\n",
    "output = nlp.annotate(text, properties={\n",
    "        'annotators': 'parse,relation',\n",
    "        'outputFormat': 'json'\n",
    "    })\n",
    "print(output)\n",
    "# print(output['sentences'][0]['basic-dependencies'])"
   ]
  },
  {
   "cell_type": "markdown",
   "metadata": {},
   "source": [
    "## BOW features"
   ]
  },
  {
   "cell_type": "code",
   "execution_count": 100,
   "metadata": {
    "collapsed": true
   },
   "outputs": [],
   "source": [
    "from sklearn.feature_extraction.text import CountVectorizer\n",
    "\n",
    "def getBOWFeatures(frame):\n",
    "    vectorizer = CountVectorizer(min_df=4,max_df = 500,stop_words='english',lowercase=True,ngram_range=(1,1))\n",
    "    documentmatrix = vectorizer.fit_transform(frame['Tweet']).toarray()\n",
    "    columns = vectorizer.get_feature_names()\n",
    "    bowdf = pd.DataFrame(data=documentmatrix, columns=columns)\n",
    "    print(len(bowdf.columns))\n",
    "    return(bowdf)"
   ]
  },
  {
   "cell_type": "markdown",
   "metadata": {},
   "source": [
    "## Generate target dependent features\n",
    "\n",
    "\n",
    "\"wi is a transitive verb and T (or any of the extended target) is its object; we generate a feature wi _arg2. \"\n",
    "\"wi is a transitive verb and T (or any of the extended target) is its subject; we generate a feature wi_arg1 \"\n",
    "\"wi is a intransitive verb and T (or any of the extended target) is its subject; we generate a feature wi_it_arg1\"\n",
    "\n",
    "Commented out the lines for checking target as the dependent \n"
   ]
  },
  {
   "cell_type": "markdown",
   "metadata": {
    "collapsed": false
   },
   "source": [
    "Very messy code to get related data from two dictionaries- posdict(POS tags) and depdict(type dependency dict). Will optimize it later "
   ]
  },
  {
   "cell_type": "code",
   "execution_count": 93,
   "metadata": {
    "collapsed": false
   },
   "outputs": [
    {
     "data": {
      "text/plain": [
       "1276"
      ]
     },
     "execution_count": 93,
     "metadata": {},
     "output_type": "execute_result"
    }
   ],
   "source": [
    "len(data_unlab_copy)"
   ]
  },
  {
   "cell_type": "code",
   "execution_count": 20,
   "metadata": {
    "collapsed": false
   },
   "outputs": [
    {
     "name": "stdout",
     "output_type": "stream",
     "text": [
      "6 6\n"
     ]
    }
   ],
   "source": [
    "targets = ['SMRT','smrt','smrt_singapore','SMRT_SINGAPORE','train','mrt','TARGET','people','iPhone']\n",
    "dependency_feats = []\n",
    "for tweet in data_unlab_copy['Tweet'][5:11]:\n",
    "    output = nlp.annotate(tweet, properties={\n",
    "        'annotators': 'parse,relation',\n",
    "        'outputFormat': 'json'\n",
    "    })\n",
    "    for i in range(len(output['sentences'])):\n",
    "        features = []\n",
    "        posdicts = output['sentences'][i]['tokens']\n",
    "        depdicts = output['sentences'][i]['basic-dependencies']\n",
    "        for posdict in posdicts:\n",
    "            for k in posdict:# Iterate through the POS tag dict and search for a verb \n",
    "                if(k == 'pos' and posdict[k] in ['VBG','VB','VBD','VBN','VBP','VBZ']):\n",
    "                    verb = posdict['word'] #If found a verb then get the word \n",
    "                    for depdict in depdicts:\n",
    "                        if depdict['governorGloss'] == verb: #Iterate through the depdict and look for dependent\n",
    "        #                     if depdict['dependentGloss'] in targets:# If the verb is targeting the list of targets specified\n",
    "                                if depdict['dep'] in ['obj','pobj','dobj','iobj','nmod']: #If the dependecy type is that of an object\n",
    "                                    features.append(verb+'_OBJ')\n",
    "                                elif depdict['dep'] in ['nsubj','dep']:# If dependency relation is a subject\n",
    "                                    features.append(verb+'_SUBJ')\n",
    "                        elif depdict['dependentGloss'] == verb: #Iterate through the depdict and look for governer\n",
    "        #                     if depdict['governorGloss'] in targets:# If the verb is targeting the list of targets specified\n",
    "                                if depdict['dep'] in ['obj','pobj','dobj','iobj','nmod']: #If the dependecy type is that of an object\n",
    "                                    features.append('OBJ_'+verb)\n",
    "                                elif depdict['dep'] in ['nsubj','dep']:# If dependency relation is a subject\n",
    "                                    features.append('SUBJ_'+verb)\n",
    "                            \n",
    "                if(k == 'pos' and posdict[k] in ['JJ','JJR','JJS','NN','NNS','NNP','NNPS']):\n",
    "                    adjn = posdict['word'] #If found a adjective or noun then get the word \n",
    "                    for depdict in depdicts:\n",
    "                        if depdict['governorGloss'] in targets and depdict['dependentGloss'] == adjn: #Iterate through the depdict and look for dependent\n",
    "                                    features.append(adjn+'_SUBJ')\n",
    "                if(k == 'pos' and posdict[k] in ['RB','RBR','RBS']):\n",
    "                    adverb = posdict['word']\n",
    "                    for depdict in depdicts:\n",
    "                        if(depdict['dependentGloss'] == adverb):\n",
    "                            verb = depdict['governorGloss']\n",
    "                            for depdict in depdicts:\n",
    "                                if((depdict['governorGloss'] == verb or depdict['dependentGloss'] == verb) and (depdict['governorGloss'] in targets or depdict['dependentGloss'] in targets)):\n",
    "                                    features.append('SUBJ_v_'+adverb)\n",
    "                                    \n",
    "                                \n",
    "                              \n",
    "    \n",
    "    dependency_feats.append(' '.join(features))\n",
    "print(len(dependency_feats), len(data_unlab_copy[5:11]))\n"
   ]
  },
  {
   "cell_type": "markdown",
   "metadata": {},
   "source": [
    "Now that we have the features, we will just use the CountVectorizer to add the features to our training data - Easier this way."
   ]
  },
  {
   "cell_type": "code",
   "execution_count": 26,
   "metadata": {
    "collapsed": false
   },
   "outputs": [
    {
     "data": {
      "text/html": [
       "<div>\n",
       "<table border=\"1\" class=\"dataframe\">\n",
       "  <thead>\n",
       "    <tr style=\"text-align: right;\">\n",
       "      <th></th>\n",
       "      <th>CALLED_OBJ</th>\n",
       "      <th>DEFECTS_OBJ</th>\n",
       "      <th>DEFECTS_SUBJ</th>\n",
       "      <th>DO_OBJ</th>\n",
       "      <th>DO_SUBJ</th>\n",
       "      <th>DONT_OBJ</th>\n",
       "      <th>DONT_SUBJ</th>\n",
       "      <th>ENDED_SUBJ</th>\n",
       "      <th>FUCKERS_SUBJ</th>\n",
       "      <th>OBJ_UNDERSTAND</th>\n",
       "      <th>PAY_SUBJ</th>\n",
       "      <th>REPORT_SUBJ</th>\n",
       "      <th>SINGAPORE_SUBJ</th>\n",
       "    </tr>\n",
       "  </thead>\n",
       "  <tbody>\n",
       "    <tr>\n",
       "      <th>0</th>\n",
       "      <td>1</td>\n",
       "      <td>0</td>\n",
       "      <td>0</td>\n",
       "      <td>0</td>\n",
       "      <td>0</td>\n",
       "      <td>0</td>\n",
       "      <td>0</td>\n",
       "      <td>0</td>\n",
       "      <td>1</td>\n",
       "      <td>0</td>\n",
       "      <td>0</td>\n",
       "      <td>0</td>\n",
       "      <td>0</td>\n",
       "    </tr>\n",
       "    <tr>\n",
       "      <th>1</th>\n",
       "      <td>0</td>\n",
       "      <td>1</td>\n",
       "      <td>1</td>\n",
       "      <td>0</td>\n",
       "      <td>0</td>\n",
       "      <td>0</td>\n",
       "      <td>0</td>\n",
       "      <td>0</td>\n",
       "      <td>0</td>\n",
       "      <td>0</td>\n",
       "      <td>0</td>\n",
       "      <td>1</td>\n",
       "      <td>0</td>\n",
       "    </tr>\n",
       "    <tr>\n",
       "      <th>2</th>\n",
       "      <td>0</td>\n",
       "      <td>0</td>\n",
       "      <td>0</td>\n",
       "      <td>0</td>\n",
       "      <td>0</td>\n",
       "      <td>0</td>\n",
       "      <td>0</td>\n",
       "      <td>1</td>\n",
       "      <td>0</td>\n",
       "      <td>0</td>\n",
       "      <td>0</td>\n",
       "      <td>0</td>\n",
       "      <td>1</td>\n",
       "    </tr>\n",
       "    <tr>\n",
       "      <th>3</th>\n",
       "      <td>0</td>\n",
       "      <td>0</td>\n",
       "      <td>0</td>\n",
       "      <td>0</td>\n",
       "      <td>0</td>\n",
       "      <td>0</td>\n",
       "      <td>0</td>\n",
       "      <td>0</td>\n",
       "      <td>0</td>\n",
       "      <td>0</td>\n",
       "      <td>0</td>\n",
       "      <td>0</td>\n",
       "      <td>0</td>\n",
       "    </tr>\n",
       "    <tr>\n",
       "      <th>4</th>\n",
       "      <td>0</td>\n",
       "      <td>0</td>\n",
       "      <td>0</td>\n",
       "      <td>0</td>\n",
       "      <td>0</td>\n",
       "      <td>0</td>\n",
       "      <td>0</td>\n",
       "      <td>0</td>\n",
       "      <td>0</td>\n",
       "      <td>0</td>\n",
       "      <td>1</td>\n",
       "      <td>0</td>\n",
       "      <td>0</td>\n",
       "    </tr>\n",
       "  </tbody>\n",
       "</table>\n",
       "</div>"
      ],
      "text/plain": [
       "   CALLED_OBJ  DEFECTS_OBJ  DEFECTS_SUBJ  DO_OBJ  DO_SUBJ  DONT_OBJ  \\\n",
       "0           1            0             0       0        0         0   \n",
       "1           0            1             1       0        0         0   \n",
       "2           0            0             0       0        0         0   \n",
       "3           0            0             0       0        0         0   \n",
       "4           0            0             0       0        0         0   \n",
       "\n",
       "   DONT_SUBJ  ENDED_SUBJ  FUCKERS_SUBJ  OBJ_UNDERSTAND  PAY_SUBJ  REPORT_SUBJ  \\\n",
       "0          0           0             1               0         0            0   \n",
       "1          0           0             0               0         0            1   \n",
       "2          0           1             0               0         0            0   \n",
       "3          0           0             0               0         0            0   \n",
       "4          0           0             0               0         1            0   \n",
       "\n",
       "   SINGAPORE_SUBJ  \n",
       "0               0  \n",
       "1               0  \n",
       "2               1  \n",
       "3               0  \n",
       "4               0  "
      ]
     },
     "execution_count": 26,
     "metadata": {},
     "output_type": "execute_result"
    }
   ],
   "source": [
    "def getFeatureDF(feature_list):\n",
    "    vectorizer = CountVectorizer()\n",
    "    docmatrix = vectorizer.fit_transform(feature_list).toarray()\n",
    "    columns = vectorizer.get_feature_names()\n",
    "    columns = [word.upper() for word in columns]  # uppercasing to avoid conflict of in and other words\n",
    "    df = pd.DataFrame(data=docmatrix, columns=columns)\n",
    "    return df\n",
    "df = getFeatureDF(dependency_feats)\n",
    "df.head()"
   ]
  },
  {
   "cell_type": "markdown",
   "metadata": {},
   "source": [
    "## POS Tag features\n",
    "\n",
    "Function to get the postags for the tweets. Takes the training data frame and returns a data frame with the POS features added"
   ]
  },
  {
   "cell_type": "code",
   "execution_count": 149,
   "metadata": {
    "collapsed": true
   },
   "outputs": [],
   "source": [
    "from nltk import pos_tag\n",
    "from nltk import word_tokenize\n",
    "\n",
    "def getPOStagfeatures(frame):\n",
    "    tagsoftweet = []\n",
    "    reg = re.compile(r'at_user|rt|TARGET,')\n",
    "    count = 1\n",
    "    for tweet in frame['Tweet']:\n",
    "        tweet = re.sub(reg, '', tweet)  # stripping it off stuff\n",
    "#         print('POS Tagging tweet', count)\n",
    "        postaggedtweet = pos_tag(word_tokenize(tweet))  # this one is pos atgged..list inside list : token[1] for tag\n",
    "        tags = []\n",
    "        for token in postaggedtweet:\n",
    "            tags.append(token[1])\n",
    "        tagsoftweet.append(' '.join(tags))\n",
    "        count += 1\n",
    "    df = getFeatureDF(tagsoftweet)\n",
    "    print('Completed POS tagging')\n",
    "    return df"
   ]
  },
  {
   "cell_type": "markdown",
   "metadata": {},
   "source": [
    "# To do :  Subjectivity and Hashtags"
   ]
  },
  {
   "cell_type": "markdown",
   "metadata": {},
   "source": [
    "Here we use the subjectivity lexicon and get the prior polarity and the type of the words for each word in the tweet.\n",
    "\n",
    "Thing to watch out for here is that words can have different polarity based on what part of speech it is. This function takes in the tweets data frame and returns the subjectivity features."
   ]
  },
  {
   "cell_type": "code",
   "execution_count": 150,
   "metadata": {
    "collapsed": true
   },
   "outputs": [],
   "source": [
    "def cleantweet(tweet):\n",
    "    tweet = re.sub('url|at_user|rt|\\.', '', tweet)  ## removing these from the tweets\n",
    "    return tweet\n",
    "\n",
    "def getSubjectvityfeatures(frame):\n",
    "\n",
    "    lexicon = pd.read_csv('/Users/gautamborgohain/PycharmProjects/DataScience/Twitter_target_dependent_SA/subjectivity.csv')\n",
    "    tweet_tags = []\n",
    "    count_tweet = 1\n",
    "    for tweet in frame['Tweet']:\n",
    "        tweet = cleantweet(tweet)\n",
    "        typeList = []\n",
    "        priorpolarityList = []\n",
    "        count_word = 0  # this counter is for the pos tagging. traces the words in the tweet so that the idrect index of the tag can be accesses\n",
    "#         print('Performing subjectivity analysis of Tweet ', count_tweet)\n",
    "        count_tweet += 1\n",
    "        for word in word_tokenize(tweet):\n",
    "            result = lexicon[lexicon.word1 == word]\n",
    "            if len(result) != 0:  # word is there in the lexicon\n",
    "                if len(result) == 1:  # this case is handling the ones where the there is only one record of the word\n",
    "                    typeList.append(result.iloc[0][0])\n",
    "                    priorpolarityList.append(result.iloc[0][5])\n",
    "                if len(result) > 1:  # this is if there are more than one instances of the word in the lexicon then the pos tag is checked\n",
    "#                     print('Have to tag POS, Hold On!')\n",
    "                    poslist = pos_tag(word_tokenize(tweet))#Tag the tweet\n",
    "                    postag = poslist[count_word][1]#Using the position of the word, find the POS tag\n",
    "                    if postag in ['NN', 'NNP', 'NNS',\n",
    "                                  'NNPS']:  # make the POS tags to the format used by the MPQA lexicon\n",
    "                        postag = 'noun'\n",
    "                    elif postag in ['VB', 'VBD', 'VBG', 'VBN', 'VBP', 'VBZ']:\n",
    "                        postag = 'verb'\n",
    "                    elif postag in ['RB', 'RBR', 'RBS']:\n",
    "                        postag = 'adverb'\n",
    "                    elif postag in ['JJ', 'JJR', 'JJS']:\n",
    "                        postag = 'adj'\n",
    "                    second_result = result[result.pos1 == postag]#get the word-postag combination from the lexicon\n",
    "                    if len(second_result) != 0:  # this is to check if the pos tag that the word was tagged is there in the lexicon for that word\n",
    "                        typeList.append(second_result.iloc[0][0])\n",
    "                        priorpolarityList.append(second_result.iloc[0][5])\n",
    "\n",
    "            count_word += 1\n",
    "\n",
    "        tweet_tags.append(' '.join(typeList) + ' ' + ' '.join(priorpolarityList))\n",
    "\n",
    "    isListEmpty = True\n",
    "    for data in tweet_tags:\n",
    "        if (data != \" \"):\n",
    "            isListEmpty = False\n",
    "\n",
    "    if(not isListEmpty):\n",
    "        df = getFeatureDF(tweet_tags)\n",
    "        print('Completed Subjective Analysis')\n",
    "        return df\n",
    "\n",
    "    else:\n",
    "         return \"No Subjectivity data found\"\n"
   ]
  },
  {
   "cell_type": "markdown",
   "metadata": {},
   "source": [
    "Some more feature (State of art)? \n",
    "\n",
    "- Get the hash tags in the tweets and add them as features - Polarity hash tags is usually consistent across tweets\n",
    "- Get the adjectives in the tweet which has the target keywords and add them as features"
   ]
  },
  {
   "cell_type": "code",
   "execution_count": 151,
   "metadata": {
    "collapsed": true
   },
   "outputs": [],
   "source": [
    "def get_hastags(tweet):\n",
    "    hash_tags = re.findall('HASH_([^ ]*)', tweet)\n",
    "    return hash_tags\n",
    "\n",
    "def getAdjectives(tweet):\n",
    "    poslist = pos_tag(word_tokenize(tweet))\n",
    "    adjectives = []\n",
    "    for pos in poslist:\n",
    "        if pos[1] in ['JJ', 'JJR', 'JJS']:\n",
    "            adjectives.append(pos[0])\n",
    "            \n",
    "    return adjectives\n",
    "            \n",
    "\n",
    "def getTargetFeatures(frame):\n",
    "    tweet_target_features = []\n",
    "    for tweet in frame['Tweet']:\n",
    "        tweet = cleantweet(tweet)\n",
    "#         tweet = re.sub('')\n",
    "        tags = get_hastags(tweet)\n",
    "        keywords = ['SMRT', 'mrt', 'MRT', 'smrt', 'Singapore_MRT',\"TARGET\"]\n",
    "        tokens = word_tokenize(tweet)\n",
    "        \n",
    "        targets_feature = []\n",
    "        for keyword in keywords:\n",
    "            if keyword in tags:  \n",
    "                feature = keyword + '_hash'\n",
    "                targets_feature.append(feature)\n",
    "            elif keyword in tokens:\n",
    "                adjectives = getAdjectives(tweet)  # This will get all the adjectives, not just one\n",
    "                features = []\n",
    "                for adjective in adjectives:\n",
    "                    adjective = re.sub('-', '_',\n",
    "                                       adjective)  # this to take care of probelesm for - like east-west/ north-south.. now east_west\n",
    "                    features.append(keyword + '_' + adjective)\n",
    "                feature = ' '.join(features)\n",
    "                targets_feature.append(feature)\n",
    "\n",
    "        tweet_target_features.append(' '.join(targets_feature))\n",
    "#     print('features:',tweet_target_features)\n",
    "\n",
    "    isListEmpty = True\n",
    "    for data in tweet_target_features:\n",
    "        if (data != ''):\n",
    "            isListEmpty = False\n",
    "\n",
    "    if(not isListEmpty):\n",
    "        df = getFeatureDF(tweet_target_features)\n",
    "        print(\"Complete target features\")\n",
    "        return df\n",
    "    else:\n",
    "         return \"No Target dependant data found\"\n",
    "\n",
    "\n"
   ]
  },
  {
   "cell_type": "code",
   "execution_count": 142,
   "metadata": {
    "collapsed": true
   },
   "outputs": [],
   "source": [
    "data_unlab_copy = data_backup.copy()"
   ]
  },
  {
   "cell_type": "code",
   "execution_count": 99,
   "metadata": {
    "collapsed": true
   },
   "outputs": [],
   "source": [
    "data_backup = data_unlab_copy.copy()\n",
    "data_unlab_copy = data_unlab_copy[0:50]"
   ]
  },
  {
   "cell_type": "code",
   "execution_count": 148,
   "metadata": {
    "collapsed": false
   },
   "outputs": [
    {
     "data": {
      "text/plain": [
       "1276"
      ]
     },
     "execution_count": 148,
     "metadata": {},
     "output_type": "execute_result"
    }
   ],
   "source": [
    "len(data_unlab_copy)"
   ]
  },
  {
   "cell_type": "code",
   "execution_count": 147,
   "metadata": {
    "collapsed": false
   },
   "outputs": [
    {
     "name": "stdout",
     "output_type": "stream",
     "text": [
      "484\n"
     ]
    }
   ],
   "source": [
    "dfBow = getBOWFeatures(data_unlab_copy)"
   ]
  },
  {
   "cell_type": "code",
   "execution_count": 152,
   "metadata": {
    "collapsed": false
   },
   "outputs": [
    {
     "name": "stdout",
     "output_type": "stream",
     "text": [
      "Completed Subjective Analysis\n",
      "Completed POS tagging\n",
      "Complete target features\n"
     ]
    }
   ],
   "source": [
    "dfSubj= getSubjectvityfeatures(data_unlab_copy)\n",
    "dfPOS= getPOStagfeatures(data_unlab_copy)\n",
    "dfTarg = getTargetFeatures(data_unlab_copy)"
   ]
  },
  {
   "cell_type": "code",
   "execution_count": 154,
   "metadata": {
    "collapsed": true
   },
   "outputs": [],
   "source": [
    "data.to_excel('/Users/gautamborgohain/Desktop/backup.xlsx')"
   ]
  },
  {
   "cell_type": "code",
   "execution_count": 153,
   "metadata": {
    "collapsed": false
   },
   "outputs": [],
   "source": [
    "data = dfBow.join(dfSubj).join(dfPOS).join(dfTarg)\n",
    "import numpy as np\n",
    "data_unlab_copy.index = np.arange(len(data_unlab_copy))# Need to reindex to join properly\n",
    "data = data.join(data_unlab_copy['Sentiment'])"
   ]
  },
  {
   "cell_type": "markdown",
   "metadata": {},
   "source": [
    "# SVM classifier for sentiment detection\n",
    "\n",
    "The default detting of the SVM classifier is used to enable comparision with other work"
   ]
  },
  {
   "cell_type": "code",
   "execution_count": 227,
   "metadata": {
    "collapsed": false
   },
   "outputs": [],
   "source": [
    "from sklearn.svm import LinearSVC\n",
    "from sklearn.metrics import accuracy_score, confusion_matrix, f1_score, precision_recall_curve, classification_report\n",
    "\n",
    "def Classify(data):\n",
    "    classifier = LinearSVC()\n",
    "    # Seperate data to training and test set\n",
    "    training_set = data.sample(frac = 0.8, random_state=1)\n",
    "    print(\"Training set size : \", len(training_set))\n",
    "    testing_set = data.loc[~data.index.isin(training_set.index)]\n",
    "    print(\"Testing set size : \", len(testing_set),\"\\n\")\n",
    "    # Seperate the target from the df which will be used for training and testing\n",
    "    target_training = training_set['Sentiment']\n",
    "    target_testing = testing_set['Sentiment']\n",
    "    training_set  = training_set[training_set.columns[0:(len(training_set.columns)-1)]]\n",
    "    testing_set  = testing_set[testing_set.columns[0:(len(testing_set.columns)-1)]]\n",
    "    \n",
    "    #Train classifier\n",
    "    classifier.fit(training_set, target_training)  # cross_validation.cross_val_score(classifier,training_set,training_set[config.get['target']],scoring = 'f1')\n",
    "    #Predict on the training data\n",
    "    predictions_training = classifier.predict(training_set)\n",
    "#     training_set['Predictions'] = predictions_training\n",
    "    #Predict on the testing data\n",
    "    predictions_testing = classifier.predict(testing_set)\n",
    "#     testing_set['Predictions'] = predictions_testing\n",
    "\n",
    "    # Calculate the accuracy\n",
    "    accuracy_training = accuracy_score(target_training, predictions_training)\n",
    "    accuracy_testing = accuracy_score(target_testing, predictions_testing)\n",
    "    #Print the accuracy and the crosstab of the predictions\n",
    "    print(\"Accuracy on the training data : \", accuracy_training)\n",
    "    print(\"Accuracy on the testing data : \", accuracy_testing, \"\\n\")\n",
    "    print(\"Training data Crosstab: \\n\", pd.crosstab(target_training, predictions_training))\n",
    "    print(\"Testing data Crosstab: \\n\", pd.crosstab(target_testing, predictions_testing), \"\\n\")\n",
    "    \n",
    "    #Plot the most informative features\n",
    "    Negative = pd.DataFrame({'Scores':classifier.coef_[0],'Variables':training_set.columns})\n",
    "    Negative.sort(columns='Scores',ascending=False)[0:10].plot(x = 'Variables', y = 'Scores',kind = \"barh\", legend = False,title = \"Negative words\")\n",
    "    Positive = pd.DataFrame({'Scores':classifier.coef_[2],'Variables':training_set.columns})\n",
    "    Positive.sort(columns='Scores',ascending=False)[0:10].plot(x = 'Variables', y = 'Scores',kind = \"barh\", legend = False, title = \"Positive words\")\n",
    "    Neutral = pd.DataFrame({'Scores':classifier.coef_[1],'Variables':training_set.columns})\n",
    "    Neutral.sort(columns='Scores',ascending=False)[0:10].plot(x = 'Variables', y = 'Scores',kind = \"barh\", legend = False, title = \"Neutral words\")\n",
    "\n",
    "    return classifier,target_training,target_testing,predictions_training,predictions_testing"
   ]
  },
  {
   "cell_type": "code",
   "execution_count": 229,
   "metadata": {
    "collapsed": false
   },
   "outputs": [
    {
     "name": "stdout",
     "output_type": "stream",
     "text": [
      "Training set size :  1021\n",
      "Testing set size :  255 \n",
      "\n",
      "Accuracy on the training data : "
     ]
    },
    {
     "name": "stderr",
     "output_type": "stream",
     "text": [
      "/Library/Frameworks/Python.framework/Versions/3.4/lib/python3.4/site-packages/ipykernel/__main__.py:37: FutureWarning: sort(columns=....) is deprecated, use sort_values(by=.....)\n",
      "/Library/Frameworks/Python.framework/Versions/3.4/lib/python3.4/site-packages/ipykernel/__main__.py:39: FutureWarning: sort(columns=....) is deprecated, use sort_values(by=.....)\n"
     ]
    },
    {
     "name": "stdout",
     "output_type": "stream",
     "text": [
      " 0.946131243879\n",
      "Accuracy on the testing data :  0.764705882353 \n",
      "\n",
      "Training data Crosstab: \n",
      " col_0       -1    0    1\n",
      "Sentiment               \n",
      "-1         447   24    2\n",
      " 0           9  337    2\n",
      " 1           2   16  182\n",
      "Testing data Crosstab: \n",
      " col_0      -1   0   1\n",
      "Sentiment            \n",
      "-1         86  19   6\n",
      " 0         11  74   7\n",
      " 1          6  11  35 \n",
      "\n"
     ]
    },
    {
     "name": "stderr",
     "output_type": "stream",
     "text": [
      "/Library/Frameworks/Python.framework/Versions/3.4/lib/python3.4/site-packages/ipykernel/__main__.py:41: FutureWarning: sort(columns=....) is deprecated, use sort_values(by=.....)\n"
     ]
    },
    {
     "data": {
      "image/png": "[encoded data removed]",
      "text/plain": [
       "<matplotlib.figure.Figure at 0x111327128>"
      ]
     },
     "metadata": {},
     "output_type": "display_data"
    },
    {
     "data": {
      "image/png": "[encoded data removed]",
      "text/plain": [
       "<matplotlib.figure.Figure at 0x111e00a58>"
      ]
     },
     "metadata": {},
     "output_type": "display_data"
    },
    {
     "data": {
      "image/png": "[encoded data removed]",
      "text/plain": [
       "<matplotlib.figure.Figure at 0x129059898>"
      ]
     },
     "metadata": {},
     "output_type": "display_data"
    }
   ],
   "source": [
    "classifier,target_training,target_testing,predictions_training,predictions_testing = Classify(data)"
   ]
  }
 ],
 "metadata": {
  "kernelspec": {
   "display_name": "Python 3",
   "language": "python",
   "name": "python3"
  },
  "language_info": {
   "codemirror_mode": {
    "name": "ipython",
    "version": 3
   },
   "file_extension": ".py",
   "mimetype": "text/x-python",
   "name": "python",
   "nbconvert_exporter": "python",
   "pygments_lexer": "ipython3",
   "version": "3.4.2"
  }
 },
 "nbformat": 4,
 "nbformat_minor": 0
}
