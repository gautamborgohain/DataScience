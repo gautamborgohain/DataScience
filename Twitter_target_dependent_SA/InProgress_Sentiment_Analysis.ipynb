{
 "cells": [
  {
   "cell_type": "markdown",
   "metadata": {},
   "source": [
    "# \n",
    "\n",
    "#### Gautam Borgohain"
   ]
  },
  {
   "cell_type": "code",
   "execution_count": 1,
   "metadata": {
    "collapsed": true
   },
   "outputs": [],
   "source": [
    "import pandas as pd\n",
    "import matplotlib\n",
    "%matplotlib inline\n",
    "import matplotlib.pyplot as plt\n",
    "pd.options.display.max_rows = 10\n",
    "pd.options.display.notebook_repr_html = True\n",
    "pd.options.display.max_columns = None"
   ]
  },
  {
   "cell_type": "code",
   "execution_count": 2,
   "metadata": {
    "collapsed": false
   },
   "outputs": [
    {
     "data": {
      "text/html": [
       "<div>\n",
       "<table border=\"1\" class=\"dataframe\">\n",
       "  <thead>\n",
       "    <tr style=\"text-align: right;\">\n",
       "      <th></th>\n",
       "      <th>Created At</th>\n",
       "      <th>DayWeek</th>\n",
       "      <th>DayYear</th>\n",
       "      <th>Hour</th>\n",
       "      <th>ID</th>\n",
       "      <th>In Reply To</th>\n",
       "      <th>Language</th>\n",
       "      <th>Place</th>\n",
       "      <th>ReTweet Count</th>\n",
       "      <th>Sentiment</th>\n",
       "      <th>Tweet</th>\n",
       "      <th>Unnamed: 2</th>\n",
       "      <th>User Handle</th>\n",
       "      <th>isSwarm</th>\n",
       "    </tr>\n",
       "  </thead>\n",
       "  <tbody>\n",
       "    <tr>\n",
       "      <th>0</th>\n",
       "      <td>2016-03-23 07:58:09</td>\n",
       "      <td>2</td>\n",
       "      <td>83</td>\n",
       "      <td>7</td>\n",
       "      <td>712428180989042048</td>\n",
       "      <td>NaN</td>\n",
       "      <td>en</td>\n",
       "      <td>NaN</td>\n",
       "      <td>11</td>\n",
       "      <td>-1</td>\n",
       "      <td>RT @TODAYonline: TODAY'S TOP STORY: #MRT train...</td>\n",
       "      <td>NaN</td>\n",
       "      <td>vxnnnn</td>\n",
       "      <td>False</td>\n",
       "    </tr>\n",
       "    <tr>\n",
       "      <th>2</th>\n",
       "      <td>2016-03-23 07:55:48</td>\n",
       "      <td>2</td>\n",
       "      <td>83</td>\n",
       "      <td>7</td>\n",
       "      <td>712427591685136000</td>\n",
       "      <td>NaN</td>\n",
       "      <td>en</td>\n",
       "      <td>NaN</td>\n",
       "      <td>0</td>\n",
       "      <td>0</td>\n",
       "      <td>On Facebook, condolences pour forth for 2 SMRT...</td>\n",
       "      <td>NaN</td>\n",
       "      <td>ThinaeshS</td>\n",
       "      <td>False</td>\n",
       "    </tr>\n",
       "    <tr>\n",
       "      <th>3</th>\n",
       "      <td>2016-03-23 07:53:36</td>\n",
       "      <td>2</td>\n",
       "      <td>83</td>\n",
       "      <td>7</td>\n",
       "      <td>712427035713404032</td>\n",
       "      <td>NaN</td>\n",
       "      <td>en</td>\n",
       "      <td>NaN</td>\n",
       "      <td>289</td>\n",
       "      <td>-1</td>\n",
       "      <td>RT @ChannelNewsAsia: SMRT's fatal accident nea...</td>\n",
       "      <td>NaN</td>\n",
       "      <td>LforLana</td>\n",
       "      <td>False</td>\n",
       "    </tr>\n",
       "    <tr>\n",
       "      <th>6</th>\n",
       "      <td>2016-03-23 07:46:04</td>\n",
       "      <td>2</td>\n",
       "      <td>83</td>\n",
       "      <td>7</td>\n",
       "      <td>712425139594328960</td>\n",
       "      <td>NaN</td>\n",
       "      <td>en</td>\n",
       "      <td>NaN</td>\n",
       "      <td>181</td>\n",
       "      <td>0</td>\n",
       "      <td>RT @TODAYonline: JUST IN: SMRT releases 2 phot...</td>\n",
       "      <td>NaN</td>\n",
       "      <td>vlxhh</td>\n",
       "      <td>False</td>\n",
       "    </tr>\n",
       "    <tr>\n",
       "      <th>8</th>\n",
       "      <td>2016-03-23 07:45:34</td>\n",
       "      <td>2</td>\n",
       "      <td>83</td>\n",
       "      <td>7</td>\n",
       "      <td>712425016323778944</td>\n",
       "      <td>NaN</td>\n",
       "      <td>en</td>\n",
       "      <td>NaN</td>\n",
       "      <td>10</td>\n",
       "      <td>-1</td>\n",
       "      <td>RT @TODAYonline: HAPPENING TODAY: #LKY’s 1st d...</td>\n",
       "      <td>NaN</td>\n",
       "      <td>adorenew</td>\n",
       "      <td>False</td>\n",
       "    </tr>\n",
       "  </tbody>\n",
       "</table>\n",
       "</div>"
      ],
      "text/plain": [
       "           Created At  DayWeek  DayYear  Hour                  ID In Reply To  \\\n",
       "0 2016-03-23 07:58:09        2       83     7  712428180989042048         NaN   \n",
       "2 2016-03-23 07:55:48        2       83     7  712427591685136000         NaN   \n",
       "3 2016-03-23 07:53:36        2       83     7  712427035713404032         NaN   \n",
       "6 2016-03-23 07:46:04        2       83     7  712425139594328960         NaN   \n",
       "8 2016-03-23 07:45:34        2       83     7  712425016323778944         NaN   \n",
       "\n",
       "  Language Place  ReTweet Count  Sentiment  \\\n",
       "0       en   NaN             11         -1   \n",
       "2       en   NaN              0          0   \n",
       "3       en   NaN            289         -1   \n",
       "6       en   NaN            181          0   \n",
       "8       en   NaN             10         -1   \n",
       "\n",
       "                                               Tweet Unnamed: 2 User Handle  \\\n",
       "0  RT @TODAYonline: TODAY'S TOP STORY: #MRT train...        NaN      vxnnnn   \n",
       "2  On Facebook, condolences pour forth for 2 SMRT...        NaN   ThinaeshS   \n",
       "3  RT @ChannelNewsAsia: SMRT's fatal accident nea...        NaN    LforLana   \n",
       "6  RT @TODAYonline: JUST IN: SMRT releases 2 phot...        NaN       vlxhh   \n",
       "8  RT @TODAYonline: HAPPENING TODAY: #LKY’s 1st d...        NaN    adorenew   \n",
       "\n",
       "  isSwarm  \n",
       "0   False  \n",
       "2   False  \n",
       "3   False  \n",
       "6   False  \n",
       "8   False  "
      ]
     },
     "execution_count": 2,
     "metadata": {},
     "output_type": "execute_result"
    }
   ],
   "source": [
    "data_unlab = pd.read_excel('/Users/gautamborgohain/Desktop/Tweets_labeled_325.xlsx')\n",
    "data_unlab.head()"
   ]
  },
  {
   "cell_type": "markdown",
   "metadata": {},
   "source": [
    "### Clean the tweets and classify some of the common shorthands used\n",
    "\n",
    "Replace some of the shorthands, urls and @ symbols with more processable words"
   ]
  },
  {
   "cell_type": "code",
   "execution_count": 3,
   "metadata": {
    "collapsed": true
   },
   "outputs": [],
   "source": [
    "import re\n",
    "def regexStuff(tweet):\n",
    "    tweet = re.sub(r'@SMRT_singapore|@smrt_singapore|@smrt|@SMRT_Singapore','TARGET',tweet)\n",
    "    tweet = re.sub(r'@[^ ]*','NOT_TARGET',tweet)\n",
    "    #Clear the http and other characters that are causing problems\n",
    "    tweet = re.sub('((www\\.[^ ]+)|(https?://[^ ]+))', '', tweet)\n",
    "    tweet = re.sub(r'http?[^ ]+','',tweet)\n",
    "    tweet = re.sub(r'[\\n]','',tweet)\n",
    "    tweet = re.sub('[\\s]+', ' ', tweet)\n",
    "    tweet = re.sub('[\\.]+', '.', tweet)\n",
    "    tweet = re.sub('…','',tweet)\n",
    "    tweet = re.sub('[-—]','',tweet)\n",
    "    tweet = re.sub(r'&gt;|&amp;|&lt;','',tweet)\n",
    "    #Substitue common shorthands with the appropriate words for POS tagging and type dependecy to work\n",
    "    tweet = re.sub(r' u ',' you ',tweet)\n",
    "    tweet = re.sub(r' n ',' no ',tweet)\n",
    "    tweet = re.sub(r' y ',' why ',tweet)\n",
    "    tweet = re.sub(r' nt ',' not ',tweet)\n",
    "    tweet = re.sub(r' dwn ',' down ',tweet)\n",
    "    tweet = re.sub(r' frver ',' forever ',tweet)\n",
    "    tweet = re.sub(r' bc ',' because ',tweet)\n",
    "    tweet = re.sub(r' bcoz ',' because ',tweet)\n",
    "    tweet = re.sub(r' cuz ',' because ',tweet)\n",
    "    tweet = re.sub(r' im ',' I am ',tweet)\n",
    "    tweet = re.sub(r' zzz ',' sleep ',tweet)\n",
    "    tweet = re.sub(r' y\\'all ',' you all ',tweet)\n",
    "    #Set the hash tags\n",
    "    tweet = re.sub(r'#','HASH_',tweet)\n",
    "    return tweet"
   ]
  },
  {
   "cell_type": "code",
   "execution_count": 487,
   "metadata": {
    "collapsed": false
   },
   "outputs": [
    {
     "name": "stdout",
     "output_type": "stream",
     "text": [
      "['#SLeague-SMRT']\n"
     ]
    }
   ],
   "source": [
    "## Cell to try out the emoticons and other regex stuff\n",
    "\n",
    "tweet = 'Our new collaboration with the @SMRT_Singapore Institute: https://t.co/81n93wkoMe @bcrre @eps_unibham @adamtickell https://t.co/nJ2zMsbv2f'\n",
    "tweet = \"RT @ChannelNewsAsia: Singapore footballer hopes #SLeague-SMRT partnership will create more 'media attention' https://t.co/bpKn3i6Hf4 https:…\"\n",
    "# tweet = \"ChannelNewsAsia: Football training: FootballSLEAGUE and SMRT_Singapore show off the HASH_SLeague train … \"\n",
    "# tweet = \"RT NOT_TARGET🎊.TARGET upping basic salaries of bus captains to be “at least on par with market”\"\n",
    "# tweet = \"Hell yeahhh!! (with Emil at TARGET) [pic]  \"\n",
    "# tweet = tweet.encode('ascii')\n",
    "# print(regexStuff(tweet))\n",
    "# tweet = re.sub('((www\\.[^ ]+)|(https?://[^ ]+))', '', tweet)\n",
    "tweet = re.findall(r'#[^ ]+',tweet)\n",
    "print(tweet)"
   ]
  },
  {
   "cell_type": "code",
   "execution_count": 4,
   "metadata": {
    "collapsed": false
   },
   "outputs": [
    {
     "data": {
      "text/plain": [
       "[\"RT NOT_TARGET TODAY'S TOP STORY: HASH_MRT train near HASH_PasirRis station kills 2 staff checking on signal alarm \",\n",
       " 'On Facebook, condolences pour forth for 2 SMRT staff killed in accident ',\n",
       " \"RT NOT_TARGET SMRT's fatal accident near HASH_PasirRis MRT station: What we know \",\n",
       " 'RT NOT_TARGET JUST IN: SMRT releases 2 photos illustrating the fatal accident near HASH_PasirRis MRT station ',\n",
       " 'RT NOT_TARGET HAPPENING TODAY: HASH_LKY’s 1st death anniversary, burial of HASH_SMRT staff killed in accident  more. ',\n",
       " 'RT NOT_TARGET Some SMRT staff upset over apparent disregard for workers’ safety ',\n",
       " 'RT NOT_TARGET SMRT FATAL ACCIDENT: Safety protocols under review after 2 staff hit by oncoming train ',\n",
       " '2 SMRT staff dead in accident near Pasir Ris station ',\n",
       " '\"He was the light of any party”: Cousin of one of the victims in SMRT accident ',\n",
       " 'RT NOT_TARGET Walkway maintenance staff were walking on is 0.5m wide: SMRT ',\n",
       " 'Some SMRT staff upset over apparent disregard for workers’ safety ',\n",
       " 'The Singapore subway system is called the SMRT: clearly named by Homer Simpson.',\n",
       " 'SMRT FATAL ACCIDENT: Safety protocols under review after 2 staff hit by oncoming train ',\n",
       " 'HASH_MRT train near HASH_PasirRis station kills 2 staff checking on signal alarm ',\n",
       " \"TODAY'S TOP STORY: HASH_MRT train near HASH_PasirRis station kills 2 staff checking on signal alarm \",\n",
       " 'RT NOT_TARGET ST | Train runs into 2 SMRT staff: Victims were wellliked by friends and peers HASH_sgnews ',\n",
       " 'Some SMRT staff upset over apparent disregard for workers’ safety ',\n",
       " 'RT NOT_TARGET SMRT trainee killed in accident had planned to go to Kuala Lumpur with his friends this week ',\n",
       " \"CNA | 'He was the light of any party': Cousin of victim in SMRT accident \",\n",
       " \"CNA | 'He was the light of any party': Cousin of victim in SMRT accident HASH_sgnews \"]"
      ]
     },
     "execution_count": 4,
     "metadata": {},
     "output_type": "execute_result"
    }
   ],
   "source": [
    "cleanedtweets = [regexStuff(tweet) for tweet in data_unlab['Tweet']]\n",
    "cleanedtweets[:20] ## Show preview of the cleaned tweets"
   ]
  },
  {
   "cell_type": "code",
   "execution_count": 5,
   "metadata": {
    "collapsed": true
   },
   "outputs": [],
   "source": [
    "# Put the cleaned tweets to the dataset\n",
    "data_unlab_copy = data_unlab.copy()\n",
    "data_unlab_copy['Tweet'] = cleanedtweets"
   ]
  },
  {
   "cell_type": "code",
   "execution_count": 38,
   "metadata": {
    "collapsed": true
   },
   "outputs": [],
   "source": [
    "backup = data_unlab_copy.copy()"
   ]
  },
  {
   "cell_type": "code",
   "execution_count": 39,
   "metadata": {
    "collapsed": false
   },
   "outputs": [],
   "source": [
    "data_unlab_copy = data_unlab_copy.drop_duplicates(subset = 'Tweet')"
   ]
  },
  {
   "cell_type": "code",
   "execution_count": 61,
   "metadata": {
    "collapsed": true
   },
   "outputs": [],
   "source": [
    "data_unlab_copy.to_clipboard()"
   ]
  },
  {
   "cell_type": "markdown",
   "metadata": {},
   "source": [
    "### Remove the tweets which are automatically generated by the Swarm app\n",
    "\n",
    "They start with 'I'm at' or have it in content along with an mrt station name"
   ]
  },
  {
   "cell_type": "code",
   "execution_count": 40,
   "metadata": {
    "collapsed": false
   },
   "outputs": [
    {
     "name": "stdout",
     "output_type": "stream",
     "text": [
      "2849\n"
     ]
    }
   ],
   "source": [
    "def swarmTweet(tweet):\n",
    "    tweet = tweet.lower()\n",
    "    if re.search(r'i\\'m at [a-z ]* mrt ', tweet) or tweet.startswith('i\\'m at'):\n",
    "        return True\n",
    "    else:\n",
    "        return False\n",
    "    \n",
    "data_unlab_copy['isSwarm'] = [swarmTweet(tweet) for tweet in data_unlab_copy['Tweet']]\n",
    "data_unlab_copy = data_unlab_copy[data_unlab_copy.isSwarm == False]\n",
    "print(len(data_unlab_copy))"
   ]
  },
  {
   "cell_type": "markdown",
   "metadata": {},
   "source": [
    "Positive - negative - neutral distribution in the data\n"
   ]
  },
  {
   "cell_type": "code",
   "execution_count": 41,
   "metadata": {
    "collapsed": false
   },
   "outputs": [
    {
     "data": {
      "text/plain": [
       "<matplotlib.axes._subplots.AxesSubplot at 0x103b5a898>"
      ]
     },
     "execution_count": 41,
     "metadata": {},
     "output_type": "execute_result"
    },
    {
     "data": {
      "image/png": "[encoded data removed]",
      "text/plain": [
       "<matplotlib.figure.Figure at 0x103b5a3c8>"
      ]
     },
     "metadata": {},
     "output_type": "display_data"
    }
   ],
   "source": [
    "data_unlab_copy.Sentiment.value_counts().plot(kind = \"pie\",title = \"Positive - negative - neutral distribution in the data\")"
   ]
  },
  {
   "cell_type": "markdown",
   "metadata": {},
   "source": [
    "### Some exploration on the dataset\n",
    "\n",
    "Plot the most frequent words in the dataset"
   ]
  },
  {
   "cell_type": "code",
   "execution_count": 8,
   "metadata": {
    "collapsed": false
   },
   "outputs": [
    {
     "data": {
      "text/plain": [
       "<matplotlib.axes._subplots.AxesSubplot at 0x106d0b630>"
      ]
     },
     "execution_count": 8,
     "metadata": {},
     "output_type": "execute_result"
    },
    {
     "data": {
      "image/png": "[encoded data removed]",
      "text/plain": [
       "<matplotlib.figure.Figure at 0x10820c080>"
      ]
     },
     "metadata": {},
     "output_type": "display_data"
    }
   ],
   "source": [
    "from sklearn.feature_extraction.text import CountVectorizer\n",
    "\n",
    "vectorizer = CountVectorizer(min_df=1,max_df=1.0,stop_words='english',lowercase=True,ngram_range=(1,2))\n",
    "documentmatrix = vectorizer.fit_transform(data_unlab_copy['Tweet']).toarray()\n",
    "columns = vectorizer.get_feature_names()\n",
    "vectordf = pd.DataFrame(data=documentmatrix, columns=columns)\n",
    "words = vectordf.sum(axis = 0)\n",
    "words.sort_values(ascending=False)[:30].plot(kind = 'barh',title = 'Most Frequent Words',figsize = (10,10))"
   ]
  },
  {
   "cell_type": "markdown",
   "metadata": {},
   "source": [
    "### Stanford Core NLP dependency tree features\n",
    "\n",
    "cd stanford-corenlp-full-2015-12-09/\n",
    "\n",
    "export CLASSPATH=\"`find . -name '*.jar'`\" \n",
    "\n",
    "java -mx4g -cp \"*\" edu.stanford.nlp.pipeline.StanfordCoreNLPServer"
   ]
  },
  {
   "cell_type": "code",
   "execution_count": 9,
   "metadata": {
    "collapsed": true
   },
   "outputs": [],
   "source": [
    "from pycorenlp import StanfordCoreNLP\n",
    "nlp = StanfordCoreNLP('http://localhost:9000')"
   ]
  },
  {
   "cell_type": "code",
   "execution_count": 10,
   "metadata": {
    "collapsed": true
   },
   "outputs": [],
   "source": [
    "# Sample output from the Stanford dependency parser\n",
    "\n",
    "text = (\"U guys better wake up ur idea! People pay so much for ur crappy service. People late for work now. ATSMRT\")\n",
    "output = nlp.annotate(text, properties={\n",
    "        'annotators': 'parse,relation',\n",
    "        'outputFormat': 'json'\n",
    "    })\n",
    "# print(output)\n",
    "# print(output['sentences'][0]['basic-dependencies'])"
   ]
  },
  {
   "cell_type": "markdown",
   "metadata": {},
   "source": [
    "Count vectorizer to add feature list to a data frame"
   ]
  },
  {
   "cell_type": "code",
   "execution_count": 11,
   "metadata": {
    "collapsed": true
   },
   "outputs": [],
   "source": [
    "def getFeatureDF(feature_list):\n",
    "    vectorizer = CountVectorizer()\n",
    "    docmatrix = vectorizer.fit_transform(feature_list).toarray()\n",
    "    columns = vectorizer.get_feature_names()\n",
    "    columns = [word.upper() for word in columns]  # uppercasing to avoid conflict of in and other words\n",
    "    df = pd.DataFrame(data=docmatrix, columns=columns)\n",
    "    return df"
   ]
  },
  {
   "cell_type": "markdown",
   "metadata": {},
   "source": [
    "## BOW features"
   ]
  },
  {
   "cell_type": "code",
   "execution_count": 12,
   "metadata": {
    "collapsed": true
   },
   "outputs": [],
   "source": [
    "from sklearn.feature_extraction.text import CountVectorizer\n",
    "\n",
    "def getBOWFeatures(frame,n_min,n_max):\n",
    "    vectorizer = CountVectorizer(min_df=4,max_df = 500,stop_words='english',lowercase=True,ngram_range=(n_min,n_max))\n",
    "    documentmatrix = vectorizer.fit_transform(frame['Tweet']).toarray()\n",
    "    columns = vectorizer.get_feature_names()\n",
    "    bowdf = pd.DataFrame(data=documentmatrix, columns=columns)\n",
    "    print(len(bowdf.columns))\n",
    "    return(bowdf)"
   ]
  },
  {
   "cell_type": "markdown",
   "metadata": {},
   "source": [
    "## Generate target dependent features\n",
    "\n",
    "------- OLD FUNCTION - to be removed\n",
    "\n",
    "Commented out the lines for checking target as the dependent \n"
   ]
  },
  {
   "cell_type": "markdown",
   "metadata": {},
   "source": [
    "Very messy code to get related data from two dictionaries- posdict(POS tags) and depdict(type dependency dict). Will optimize it later "
   ]
  },
  {
   "cell_type": "code",
   "execution_count": null,
   "metadata": {
    "collapsed": false
   },
   "outputs": [],
   "source": [
    "targets = ['SMRT','smrt','smrt_singapore','SMRT_SINGAPORE','train','mrt','TARGET','people','iPhone']\n",
    "dependency_feats = []\n",
    "for tweet in data_unlab_copy['Tweet']:\n",
    "    tweet = tweet.encode('utf-8')\n",
    "    output = nlp.annotate(tweet, properties={\n",
    "        'annotators': 'parse,relation',\n",
    "        'outputFormat': 'json'\n",
    "    })\n",
    "    for i in range(len(output['sentences'])):\n",
    "        features = []\n",
    "        posdicts = output['sentences'][i]['tokens']\n",
    "        depdicts = output['sentences'][i]['basic-dependencies']\n",
    "        for posdict in posdicts:\n",
    "            for k in posdict:# Iterate through the POS tag dict and search for a verb \n",
    "                if(k == 'pos' and posdict[k] in ['VBG','VB','VBD','VBN','VBP','VBZ']):\n",
    "                    verb = posdict['word'] #If found a verb then get the word \n",
    "                    for depdict in depdicts:\n",
    "                        if depdict['governorGloss'] == verb: #Iterate through the depdict and look for dependent\n",
    "        #                     if depdict['dependentGloss'] in targets:# If the verb is targeting the list of targets specified\n",
    "                                if depdict['dep'] in ['obj','pobj','dobj','iobj','nmod']: #If the dependecy type is that of an object\n",
    "                                    features.append(verb+'_arg2')\n",
    "                                elif depdict['dep'] in ['nsubj','dep']:# If dependency relation is a subject\n",
    "                                    features.append(verb+'_arg1')\n",
    "                        elif depdict['dependentGloss'] == verb: #Iterate through the depdict and look for governer\n",
    "        #                     if depdict['governorGloss'] in targets:# If the verb is targeting the list of targets specified\n",
    "                                if depdict['dep'] in ['obj','pobj','dobj','iobj','nmod']: #If the dependecy type is that of an object\n",
    "                                    features.append('arg2'+verb)\n",
    "                                elif depdict['dep'] in ['nsubj','dep']:# If dependency relation is a subject\n",
    "                                    features.append('arg1_'+verb)\n",
    "                            \n",
    "                if(k == 'pos' and posdict[k] in ['JJ','JJR','JJS','NN','NNS','NNP','NNPS']):\n",
    "                    adjn = posdict['word'] #If found a adjective or noun then get the word \n",
    "                    for depdict in depdicts:\n",
    "                        if depdict['governorGloss'] in targets and depdict['dependentGloss'] == adjn: #Iterate through the depdict and look for dependent\n",
    "                                    features.append(adjn+'arg1')\n",
    "                if(k == 'pos' and posdict[k] in ['RB','RBR','RBS']):\n",
    "                    adverb = posdict['word']\n",
    "                    for depdict in depdicts:\n",
    "                        if(depdict['dependentGloss'] == adverb):\n",
    "                            verb = depdict['governorGloss']\n",
    "                            for depdict in depdicts:\n",
    "                                if((depdict['governorGloss'] == verb or depdict['dependentGloss'] == verb) and (depdict['governorGloss'] in targets or depdict['dependentGloss'] in targets)):\n",
    "                                    features.append('arg_v_'+adverb)\n",
    "                                    \n",
    "                                \n",
    "                                  \n",
    "                                    \n",
    "    dependency_feats.append(' '.join(features))\n",
    "print(len(dependency_feats), len(data_unlab_copy))"
   ]
  },
  {
   "cell_type": "code",
   "execution_count": null,
   "metadata": {
    "collapsed": false
   },
   "outputs": [],
   "source": [
    "dep_feats = getFeatureDF(dependency_feats)\n",
    "dep_feats.head()"
   ]
  },
  {
   "cell_type": "markdown",
   "metadata": {},
   "source": [
    "## Type Dependecy features\n",
    "\n",
    "- \"wi is a transitive verb and T (or any of the extended target) is its object; we generate a feature wi _arg2. \"\n",
    "- \"wi is a transitive verb and T (or any of the extended target) is its subject; we generate a feature wi_arg1 \"\n",
    "- \"wi is a intransitive verb and T (or any of the extended target) is its subject; we generate a feature wi_it_arg1\"\n",
    "- wi is an adjective or noun and T  is its head; we generate a feature wi_arg1.\n",
    "- wi is an adjective or noun and it is connected by a copula with T we generate a feature wi_cp_arg1.\n",
    "- wi is an adjective or intransitive verb ap- pearing alone as a sentence and T appears in the pre- vious sentence; we generate a feature wi_arg. For example, in “John did that. Great!”, “Great” appears alone as a sen- tence, so we generate “great_arg” for the target “John”.\n",
    "- wi is an adverb, and the verb it modifies has T as its subject; we generate a feature arg1_v_wi. For example, for the target iPhone in the tweet “iPhone works better with the Cell- Band”, we will generate the feature “arg1_v_well”.\n",
    "\n",
    "(Jiang et al, 2011)\n"
   ]
  },
  {
   "cell_type": "code",
   "execution_count": 13,
   "metadata": {
    "collapsed": false
   },
   "outputs": [
    {
     "name": "stdout",
     "output_type": "stream",
     "text": [
      "2006 4783\n"
     ]
    }
   ],
   "source": [
    "#\n",
    "# Get the positive- negative word lexicon\n",
    "#\n",
    "\n",
    "poshand = open('/Users/gautamborgohain/PycharmProjects/DT_Labs/PLayground/Gautam_Borg/HuLiuLexicon/positive-words.txt')\n",
    "neghand = open('/Users/gautamborgohain/PycharmProjects/DT_Labs/PLayground/Gautam_Borg/HuLiuLexicon/negative-words.txt')\n",
    "poslist = []\n",
    "neglist = []\n",
    "for line in poshand:\n",
    "    poslist.append(re.sub(r'\\n','',line))\n",
    "for line in neghand:\n",
    "    neglist.append(re.sub(r'\\n','',line))\n",
    "print(len(poslist),len(neglist))\n",
    "\n",
    "poshand.close()\n",
    "neghand.close()"
   ]
  },
  {
   "cell_type": "code",
   "execution_count": 14,
   "metadata": {
    "collapsed": false
   },
   "outputs": [],
   "source": [
    "def posorneg(word):\n",
    "    if(len(poslist)>0 and len(neglist)>0):\n",
    "        word = word.lower()\n",
    "        if word in poslist:\n",
    "            return 'POSITIVE'\n",
    "        elif word in neglist:\n",
    "            return 'NEGATIVE'\n",
    "        else: return word"
   ]
  },
  {
   "cell_type": "code",
   "execution_count": 15,
   "metadata": {
    "collapsed": false
   },
   "outputs": [],
   "source": [
    "targets = ['SMRT','smrt','smrt_singapore','SMRT_SINGAPORE','train','mrt','TARGET','people','LRT','lrt']\n",
    "verbs = ['VBG','VB','VBD','VBN','VBP','VBZ']\n",
    "adjnon = ['JJ','JJR','JJS','NN','NNS','NNP','NNPS']\n",
    "objects = ['obj','pobj','dobj','iobj','nmod']\n",
    "adverbs = ['RB','RBR','RBS']\n",
    "subjs = ['nsubj','dep']\n",
    "\n",
    "#helper functions\n",
    "def getDependentGloss(dep,word, depToSearch):\n",
    "    return dep.get('dependentGloss') if dep.get('governorGloss') == word and dep.get('dep') in depToSearch else ''\n",
    "\n",
    "def getDependentGloss_WithTargets(dep,word):\n",
    "    return dep.get('dependentGloss') if dep.get('governorGloss') == word and dep.get('dependentGloss') in targets else ''\n",
    "\n",
    "def isTransitive(verb,depdicts):\n",
    "    for dep in depdicts:\n",
    "        if dep.get('governorGloss')  == verb and dep.get('dep') in objects:\n",
    "            return True        \n",
    "    return False\n",
    "\n",
    "# tweet = 'I love iPhone'\n",
    "# tweet = 'SMRT broke down again. Great!'\n",
    "# tweet = 'SMRT works better with the Cell- Band'\n",
    "\n",
    "def getTypeDependencyFeatures(frame):\n",
    "    dependecyfeatures = []\n",
    "    for tweet in frame['Tweet']:\n",
    "        tweet = tweet.encode('utf-8')\n",
    "        output = nlp.annotate(tweet, properties={\n",
    "                'annotators': 'parse,relation',\n",
    "                'outputFormat': 'json'\n",
    "            })\n",
    "\n",
    "        features = []\n",
    "        for i in range(len(output['sentences'])):\n",
    "            posdicts = output['sentences'][i]['tokens']\n",
    "            depdicts = output['sentences'][i]['basic-dependencies']\n",
    "            count = 0\n",
    "            for pos in posdicts:\n",
    "                verb = pos.get('word') if pos.get('pos') in verbs else '' # Get Verbs\n",
    "                if verb != '':\n",
    "                    if(isTransitive(verb, depdicts)):\n",
    "                        for dep in depdicts:                  \n",
    "                            #Rule 1\n",
    "                            dependent = getDependentGloss(dep,verb,objects)\n",
    "                            if dependent != '' and dependent in targets:\n",
    "                                features.append(posorneg(verb)+'_arg2')\n",
    "                            #Rule 2\n",
    "                            dependent = getDependentGloss(dep,verb,subjs)\n",
    "                            if (dependent != '' and dependent in targets):\n",
    "                                features.append(posorneg(verb)+'_arg1')\n",
    "                    else:\n",
    "                        #Rule 3\n",
    "                        for dep in depdicts:\n",
    "                            dependent = getDependentGloss(dep,verb,subjs)\n",
    "                            if dependent != '' and dependent in targets:\n",
    "                                features.append(posorneg(verb)+'_it_arg1')\n",
    "                #Rule 4            \n",
    "                adj_noun = pos.get('word') if pos.get('pos') in adjnon else '' # Get Adjectives and Nouns\n",
    "                if adj_noun != '':\n",
    "                    for dep in depdicts:\n",
    "                        dependent = getDependentGloss_WithTargets(dep,adj_noun)\n",
    "                        if dependent != '':features.append(posorneg(adj_noun)+'_arg1')\n",
    "                #Rule 7\n",
    "                adv = pos.get('word') if pos.get('pos') in adverbs else ''\n",
    "                if adv != '':    \n",
    "                    for dep in depdicts:\n",
    "                        verb = dep.get('governorGloss') if dep.get('dependentGloss') == adv else ''# Get the verb it modifies\n",
    "                        if verb != '':\n",
    "                            for dep1 in depdicts:#Loop again and check the target\n",
    "                                dependent = getDependentGloss_WithTargets(dep1,verb)\n",
    "                                if dependent != '':\n",
    "                                    # Rule 8 - negation \n",
    "                                    if dep.get('dep') == 'neg':\n",
    "                                        features.append('arg1_v_neg_'+posorneg(verb))\n",
    "                                    else:\n",
    "                                        features.append('arg1_v_'+posorneg(adv))\n",
    "            #Rule 5\n",
    "            for dep in depdicts:\n",
    "                dependent = dep.get('dependentGloss') if i>0 and dep.get('governorGloss') =='ROOT' and len(features)>0 else ''\n",
    "                if dependent != '' : \n",
    "                    for pos in posdicts:\n",
    "                        if pos.get('word') == dependent and pos.get('pos') in adjnon:\n",
    "                            features.append(posorneg(dependent)+'_arg')\n",
    "                # If in the second sentence,for the root, theres is already a target dependent feature in the list \n",
    "                #  suggesting that that target appears in the previous snentence  and it is an adjective or noun\n",
    "                \n",
    "            \n",
    "        dependecyfeatures.append(' '.join(features))\n",
    "    \n",
    "    isListEmpty = True\n",
    "    for data in dependecyfeatures:\n",
    "        if (data != ''):\n",
    "            isListEmpty = False\n",
    "\n",
    "    if(not isListEmpty):\n",
    "        df = getFeatureDF(dependecyfeatures)\n",
    "        print('Completed Type Dependency Analysis')\n",
    "        return df\n",
    "\n",
    "    else:\n",
    "         return \"No Type Dependency data found\"\n"
   ]
  },
  {
   "cell_type": "markdown",
   "metadata": {},
   "source": [
    "Trying out the function on a dummy data set with sentences picked from the paper"
   ]
  },
  {
   "cell_type": "code",
   "execution_count": 290,
   "metadata": {
    "collapsed": false
   },
   "outputs": [],
   "source": [
    "dumm_df = pd.DataFrame(columns=['Tweet'])\n",
    "dumm_df['Tweet'] = ['I love iPhone',\n",
    "             'SMRT broke down again. Great!',\n",
    "             'SMRT does not work with the Cell- Band',\n",
    "            'SMRT works better with the Cell- Band']\n"
   ]
  },
  {
   "cell_type": "code",
   "execution_count": 297,
   "metadata": {
    "collapsed": false
   },
   "outputs": [
    {
     "name": "stdout",
     "output_type": "stream",
     "text": [
      "Completed Type Dependency Analysis\n"
     ]
    }
   ],
   "source": [
    "df= getTypeDependencyFeatures(dumm_df)"
   ]
  },
  {
   "cell_type": "code",
   "execution_count": 298,
   "metadata": {
    "collapsed": false
   },
   "outputs": [
    {
     "data": {
      "text/html": [
       "<div>\n",
       "<table border=\"1\" class=\"dataframe\">\n",
       "  <thead>\n",
       "    <tr style=\"text-align: right;\">\n",
       "      <th></th>\n",
       "      <th>ARG1_V_AGAIN</th>\n",
       "      <th>ARG1_V_NEG_POSITIVE</th>\n",
       "      <th>ARG1_V_POSITIVE</th>\n",
       "      <th>NEGATIVE_IT_ARG1</th>\n",
       "      <th>POSITIVE_ARG</th>\n",
       "      <th>POSITIVE_ARG1</th>\n",
       "      <th>POSITIVE_ARG2</th>\n",
       "    </tr>\n",
       "  </thead>\n",
       "  <tbody>\n",
       "    <tr>\n",
       "      <th>0</th>\n",
       "      <td>0</td>\n",
       "      <td>0</td>\n",
       "      <td>0</td>\n",
       "      <td>0</td>\n",
       "      <td>0</td>\n",
       "      <td>0</td>\n",
       "      <td>1</td>\n",
       "    </tr>\n",
       "    <tr>\n",
       "      <th>1</th>\n",
       "      <td>1</td>\n",
       "      <td>0</td>\n",
       "      <td>0</td>\n",
       "      <td>1</td>\n",
       "      <td>1</td>\n",
       "      <td>0</td>\n",
       "      <td>0</td>\n",
       "    </tr>\n",
       "    <tr>\n",
       "      <th>2</th>\n",
       "      <td>0</td>\n",
       "      <td>1</td>\n",
       "      <td>0</td>\n",
       "      <td>0</td>\n",
       "      <td>0</td>\n",
       "      <td>1</td>\n",
       "      <td>0</td>\n",
       "    </tr>\n",
       "    <tr>\n",
       "      <th>3</th>\n",
       "      <td>0</td>\n",
       "      <td>0</td>\n",
       "      <td>1</td>\n",
       "      <td>0</td>\n",
       "      <td>0</td>\n",
       "      <td>1</td>\n",
       "      <td>0</td>\n",
       "    </tr>\n",
       "  </tbody>\n",
       "</table>\n",
       "</div>"
      ],
      "text/plain": [
       "   ARG1_V_AGAIN  ARG1_V_NEG_POSITIVE  ARG1_V_POSITIVE  NEGATIVE_IT_ARG1  \\\n",
       "0             0                    0                0                 0   \n",
       "1             1                    0                0                 1   \n",
       "2             0                    1                0                 0   \n",
       "3             0                    0                1                 0   \n",
       "\n",
       "   POSITIVE_ARG  POSITIVE_ARG1  POSITIVE_ARG2  \n",
       "0             0              0              1  \n",
       "1             1              0              0  \n",
       "2             0              1              0  \n",
       "3             0              1              0  "
      ]
     },
     "execution_count": 298,
     "metadata": {},
     "output_type": "execute_result"
    }
   ],
   "source": [
    "df"
   ]
  },
  {
   "cell_type": "markdown",
   "metadata": {},
   "source": [
    "## POS Tag features\n",
    "\n",
    "Function to get the postags for the tweets. Takes the training data frame and returns a data frame with the POS features added"
   ]
  },
  {
   "cell_type": "code",
   "execution_count": 16,
   "metadata": {
    "collapsed": true
   },
   "outputs": [],
   "source": [
    "from nltk import pos_tag\n",
    "from nltk import word_tokenize\n",
    "\n",
    "def getPOStagfeatures(frame):\n",
    "    tagsoftweet = []\n",
    "    reg = re.compile(r'at_user|rt|TARGET,')\n",
    "    count = 1\n",
    "    for tweet in frame['Tweet']:\n",
    "        tweet = re.sub(reg, '', tweet)  # stripping it off stuff\n",
    "#         print('POS Tagging tweet', count)\n",
    "        postaggedtweet = pos_tag(word_tokenize(tweet))  # this one is pos atgged..list inside list : token[1] for tag\n",
    "        tags = []\n",
    "        for token in postaggedtweet:\n",
    "            tags.append(token[1])\n",
    "        tagsoftweet.append(' '.join(tags))\n",
    "        count += 1\n",
    "    df = getFeatureDF(tagsoftweet)\n",
    "    print('Completed POS tagging')\n",
    "    return df"
   ]
  },
  {
   "cell_type": "markdown",
   "metadata": {},
   "source": [
    "# Subjectivity and Hashtags"
   ]
  },
  {
   "cell_type": "markdown",
   "metadata": {},
   "source": [
    "Here we use the subjectivity lexicon and get the prior polarity and the type of the words for each word in the tweet.\n",
    "\n",
    "Thing to watch out for here is that words can have different polarity based on what part of speech it is. This function takes in the tweets data frame and returns the subjectivity features."
   ]
  },
  {
   "cell_type": "code",
   "execution_count": 17,
   "metadata": {
    "collapsed": true
   },
   "outputs": [],
   "source": [
    "def cleantweet(tweet):\n",
    "    tweet = re.sub('url|at_user|rt|\\.', '', tweet)  ## removing these from the tweets\n",
    "    return tweet\n",
    "\n",
    "def getSubjectvityfeatures(frame):\n",
    "\n",
    "    lexicon = pd.read_csv('/Users/gautamborgohain/PycharmProjects/DataScience/Twitter_target_dependent_SA/subjectivity.csv')\n",
    "    tweet_tags = []\n",
    "    count_tweet = 1\n",
    "    for tweet in frame['Tweet']:\n",
    "        tweet = cleantweet(tweet)\n",
    "        typeList = []\n",
    "        priorpolarityList = []\n",
    "        count_word = 0  # this counter is for the pos tagging. traces the words in the tweet so that the idrect index of the tag can be accesses\n",
    "#         print('Performing subjectivity analysis of Tweet ', count_tweet)\n",
    "        count_tweet += 1\n",
    "        for word in word_tokenize(tweet):\n",
    "            result = lexicon[lexicon.word1 == word]\n",
    "            if len(result) != 0:  # word is there in the lexicon\n",
    "                if len(result) == 1:  # this case is handling the ones where the there is only one record of the word\n",
    "                    typeList.append(result.iloc[0][0])\n",
    "                    priorpolarityList.append(result.iloc[0][5])\n",
    "                if len(result) > 1:  # this is if there are more than one instances of the word in the lexicon then the pos tag is checked\n",
    "#                     print('Have to tag POS, Hold On!')\n",
    "                    poslist = pos_tag(word_tokenize(tweet))#Tag the tweet\n",
    "                    postag = poslist[count_word][1]#Using the position of the word, find the POS tag\n",
    "                    if postag in ['NN', 'NNP', 'NNS',\n",
    "                                  'NNPS']:  # make the POS tags to the format used by the MPQA lexicon\n",
    "                        postag = 'noun'\n",
    "                    elif postag in ['VB', 'VBD', 'VBG', 'VBN', 'VBP', 'VBZ']:\n",
    "                        postag = 'verb'\n",
    "                    elif postag in ['RB', 'RBR', 'RBS']:\n",
    "                        postag = 'adverb'\n",
    "                    elif postag in ['JJ', 'JJR', 'JJS']:\n",
    "                        postag = 'adj'\n",
    "                    second_result = result[result.pos1 == postag]#get the word-postag combination from the lexicon\n",
    "                    if len(second_result) != 0:  # this is to check if the pos tag that the word was tagged is there in the lexicon for that word\n",
    "                        typeList.append(second_result.iloc[0][0])\n",
    "                        priorpolarityList.append(second_result.iloc[0][5])\n",
    "\n",
    "            count_word += 1\n",
    "\n",
    "        tweet_tags.append(' '.join(typeList) + ' ' + ' '.join(priorpolarityList))\n",
    "\n",
    "    isListEmpty = True\n",
    "    for data in tweet_tags:\n",
    "        if (data != \" \"):\n",
    "            isListEmpty = False\n",
    "\n",
    "    if(not isListEmpty):\n",
    "        df = getFeatureDF(tweet_tags)\n",
    "        print('Completed Subjective Analysis')\n",
    "        return df\n",
    "\n",
    "    else:\n",
    "         return \"No Subjectivity data found\""
   ]
  },
  {
   "cell_type": "markdown",
   "metadata": {},
   "source": [
    "Some more feature (State of art)? \n",
    "\n",
    "- Get the hash tags in the tweets and add them as features - Polarity hash tags is usually consistent across tweets\n",
    "- Get the adjectives in the tweet which has the target keywords and add them as features"
   ]
  },
  {
   "cell_type": "code",
   "execution_count": 18,
   "metadata": {
    "collapsed": true
   },
   "outputs": [],
   "source": [
    "def get_hastags(tweet):\n",
    "    hash_tags = re.findall('HASH_([^ ]*)', tweet)\n",
    "    return hash_tags\n",
    "\n",
    "def getAdjectives(tweet):\n",
    "    poslist = pos_tag(word_tokenize(tweet))\n",
    "    adjectives = []\n",
    "    for pos in poslist:\n",
    "        if pos[1] in ['JJ', 'JJR', 'JJS']:\n",
    "            adjectives.append(pos[0])\n",
    "            \n",
    "    return adjectives\n",
    "            \n",
    "\n",
    "def getTargetFeatures(frame):\n",
    "    tweet_target_features = []\n",
    "    for tweet in frame['Tweet']:\n",
    "        tweet = cleantweet(tweet)\n",
    "        tags = get_hastags(tweet)\n",
    "        keywords = ['SMRT', 'mrt','lrt','LRT', 'MRT', 'smrt', 'Singapore_MRT',\"TARGET\"]\n",
    "        tokens = word_tokenize(tweet)  \n",
    "        targets_feature = []\n",
    "        for keyword in keywords:\n",
    "            if keyword in tags:  \n",
    "                feature = keyword + '_hash'\n",
    "                targets_feature.append(feature)\n",
    "            if keyword in tokens:\n",
    "                adjectives = getAdjectives(tweet)  # This will get all the adjectives, not just one\n",
    "                features = []\n",
    "                for adjective in adjectives:\n",
    "                    adjective = re.sub('-', '_',\n",
    "                                       adjective)  # this to take care of probelesm for - like east-west/ north-south.. now east_west\n",
    "                    features.append(keyword + '_' + adjective)\n",
    "                feature = ' '.join(features)\n",
    "                targets_feature.append(feature)\n",
    "\n",
    "        tweet_target_features.append(' '.join(targets_feature))\n",
    "#     print('features:',tweet_target_features)\n",
    "\n",
    "    isListEmpty = True\n",
    "    for data in tweet_target_features:\n",
    "        if (data != ''):\n",
    "            isListEmpty = False\n",
    "\n",
    "    if(not isListEmpty):\n",
    "        df = getFeatureDF(tweet_target_features)\n",
    "        print(\"Complete target features\")\n",
    "        return df\n",
    "    else:\n",
    "         return \"No Target dependant data found\""
   ]
  },
  {
   "cell_type": "markdown",
   "metadata": {},
   "source": [
    "## Hiu and Lu lexicon features\n",
    "\n",
    "Get the total number of positive and negative words that are there in the tweets from this lexicon.\n",
    "\n",
    "Using the poslist and the neglist obtained earlier"
   ]
  },
  {
   "cell_type": "code",
   "execution_count": 19,
   "metadata": {
    "collapsed": false
   },
   "outputs": [],
   "source": [
    "# %%timeit\n",
    "\n",
    "def getPositiveWordCount(tweet):\n",
    "    countPos = 0\n",
    "    for word in word_tokenize(tweet):\n",
    "        if len(word)>=2 and word in poslist: countPos+=1\n",
    "    return countPos\n",
    "\n",
    "def getNegativeWordCount(tweet):\n",
    "    countNeg = 0\n",
    "    for word in word_tokenize(tweet):\n",
    "        if len(word)>=2 and word in neglist: countNeg+=1\n",
    "    return countNeg\n"
   ]
  },
  {
   "cell_type": "code",
   "execution_count": 42,
   "metadata": {
    "collapsed": true
   },
   "outputs": [],
   "source": [
    "data_unlab_copy.to_clipboard()"
   ]
  },
  {
   "cell_type": "code",
   "execution_count": 43,
   "metadata": {
    "collapsed": true
   },
   "outputs": [],
   "source": [
    "data_unlab_copy['POSITVE_LEX'] = [getPositiveWordCount(tweet) for tweet in data_unlab_copy['Tweet']]\n",
    "data_unlab_copy['NEGATIVE_LEX'] = [getNegativeWordCount(tweet) for tweet in data_unlab_copy['Tweet']]"
   ]
  },
  {
   "cell_type": "markdown",
   "metadata": {},
   "source": [
    "\n",
    "## Punctuation features"
   ]
  },
  {
   "cell_type": "code",
   "execution_count": 44,
   "metadata": {
    "collapsed": false
   },
   "outputs": [],
   "source": [
    "data_unlab_copy['PUNC_EXCL'] = [len(re.findall(r'!',tweet)) for tweet in data_unlab_copy['Tweet']]\n",
    "data_unlab_copy['PUNC_QUES'] = [len(re.findall(r'\\?',tweet)) for tweet in data_unlab_copy['Tweet']]"
   ]
  },
  {
   "cell_type": "markdown",
   "metadata": {},
   "source": [
    "## Emoticon features"
   ]
  },
  {
   "cell_type": "code",
   "execution_count": 45,
   "metadata": {
    "collapsed": true
   },
   "outputs": [],
   "source": [
    "data_unlab_copy['EMOT_HAPPY'] = [len(re.findall(r':-D|:D|:-\\)|:\\)',tweet)) for tweet in data_unlab_copy['Tweet']]\n",
    "data_unlab_copy['EMOT_SAD'] = [len(re.findall(r':-\\(|:\\(',tweet)) for tweet in data_unlab_copy['Tweet']]\n",
    "data_unlab_copy['EMOT_WINK'] = [len(re.findall(r';-\\)|;\\)',tweet)) for tweet in data_unlab_copy['Tweet']]\n",
    "data_unlab_copy['ANGRY_EMO'] = [len(re.findall(r'\\U0001F621|\\U0001F624|\\U0001F63E|\\U0001F449|\\U0001F44A',tweet)) for tweet in data_unlab_copy['Tweet']]\n",
    "data_unlab_copy['LOVE_EMO'] = [len(re.findall(r'\\U0001F618|\\U0001F61A|\\U0001F63B|\\U0001F63D',tweet)) for tweet in data_unlab_copy['Tweet']]\n",
    "data_unlab_copy['HAPPY_EMO'] = [len(re.findall(r'\\U0001F602|\\U0001F603|\\U0001F604|\\U0001F605|\\U0001F606|\\U0001F609|\\U0001F60A|\\U0001F60B|\\U0001F60C|\\U0001F60D|\\U0001F60F|\\U0001F612|\\U0001F61C|\\U0001F61D|\\U0001F638|\\U0001F639|\\U0001F63A|\\U0001F63C|\\U0001F44C|\\U0001F44D|\\U0001F44F|\\U0001F450|\\U0001F451|\\U0001F600|\\U0001F607|\\U0001F608|\\U0001F60E|\\U0001F617|\\U0001F619|\\U0001F61B|\\U0001f917|\\U0001f595|\\U0001f389|\\U0001f38a',tweet)) for tweet in data_unlab_copy['Tweet']]\n",
    "data_unlab_copy['NEUTRAL_EMO'] = [len(re.findall(r'U0001F601|\\U0001F633|\\U0001F645|\\U0001F646|\\U0001F647|\\U0001F648|\\U0001F649|\\U0001F64A|\\U0001F64B|\\U0001F64C|\\U0001F64D|\\U0001F64E|\\U0001F64F|\\U0001F448|\\U0001F44B|\\U0001F610|\\U0001F611|\\U0001F615|\\U0001F62C|\\U0001F636',tweet)) for tweet in data_unlab_copy['Tweet']]\n",
    "data_unlab_copy['SAD_EMO'] = [len(re.findall(r'\\U0001F613|\\U0001F614|\\U0001F616|\\U0001F61E|\\U0001F620|\\U0001F622|\\U0001F623|\\U0001F625|\\U0001F628|\\U0001F629|\\U0001F62A|\\U0001F62B|\\U0001F62D|\\U0001F630|\\U0001F631|\\U0001F632|\\U0001F635|\\U0001F637|\\U0001F63F|\\U0001F640|\\U0001F44E|\\U0001f634|\\U0001F61F|\\U0001F626|\\U0001F627|\\U0001F62E|\\U0001F62F|\\U0001F634',tweet)) for tweet in data_unlab_copy['Tweet']]\n"
   ]
  },
  {
   "cell_type": "markdown",
   "metadata": {},
   "source": [
    "# SVM classifier for sentiment detection\n",
    "\n",
    "The default detting of the SVM classifier is used to enable comparision with other work"
   ]
  },
  {
   "cell_type": "code",
   "execution_count": 23,
   "metadata": {
    "collapsed": true
   },
   "outputs": [],
   "source": [
    "from sklearn.svm import LinearSVC\n",
    "from sklearn.metrics import accuracy_score, confusion_matrix, f1_score, precision_recall_curve, classification_report\n",
    "from sklearn.metrics import roc_curve, auc\n",
    "from sklearn import cross_validation\n",
    "\n",
    "import matplotlib.pyplot as plt\n",
    "\n",
    "    \n",
    "def Classify(data,perc):\n",
    "    classifier = LinearSVC()\n",
    "    # Seperate data to training and test set\n",
    "    training_set = data.sample(frac = perc, random_state=0)\n",
    "    print(\"Training set size : \", len(training_set))\n",
    "    testing_set = data.loc[~data.index.isin(training_set.index)]\n",
    "    print(\"Testing set size : \", len(testing_set),\"\\n\")\n",
    "    # Seperate the target from the df which will be used for training and testing\n",
    "    target_training = training_set['Sentiment']\n",
    "    target_testing = testing_set['Sentiment']\n",
    "    training_set.drop('Sentiment',axis = 1,inplace = True)\n",
    "    testing_set.drop('Sentiment',axis = 1,inplace = True) \n",
    "    print(\"Number of features used in training: \", len(training_set.columns))\n",
    "    \n",
    "    #Train classifier\n",
    "    classifier.fit(training_set, target_training) \n",
    "    #Predict on the training data\n",
    "    predictions_training = classifier.predict(training_set)\n",
    "    #Predict on the testing data\n",
    "    predictions_testing = classifier.predict(testing_set)\n",
    "\n",
    "    # Calculate the accuracy\n",
    "    accuracy_training = accuracy_score(target_training, predictions_training)\n",
    "    accuracy_testing = accuracy_score(target_testing, predictions_testing)\n",
    "\n",
    "    \n",
    "    #Plot the most informative features\n",
    "    Negative = pd.DataFrame({'Scores':classifier.coef_[0],'Variables':training_set.columns})\n",
    "    Negative.sort(columns='Scores',ascending=False)[0:15].plot(x = 'Variables', y = 'Scores',kind = \"barh\", legend = False,title = \"Negative words\")\n",
    "    Positive = pd.DataFrame({'Scores':classifier.coef_[2],'Variables':training_set.columns})\n",
    "    Positive.sort(columns='Scores',ascending=False)[0:15].plot(x = 'Variables', y = 'Scores',kind = \"barh\", legend = False, title = \"Positive words\")\n",
    "    Neutral = pd.DataFrame({'Scores':classifier.coef_[1],'Variables':training_set.columns})\n",
    "    Neutral.sort(columns='Scores',ascending=False)[0:15].plot(x = 'Variables', y = 'Scores',kind = \"barh\", legend = False, title = \"Neutral words\")\n",
    "    \n",
    "    #Cross validation\n",
    "    X = training_set.as_matrix(columns = None)\n",
    "    y = target_training.as_matrix(columns = None)\n",
    "\n",
    "    cv_scores = cross_validation.cross_val_score(classifier, X, y, cv=10)\n",
    "\n",
    "    #Print the accuracy, cross validation scores and the crosstab of the predictions \n",
    "    print(\"Accuracy on the training data : \", accuracy_training)\n",
    "    print(\"Cross Validation Accuracy scores - \",cv_scores)\n",
    "    print(\"Cross Validation Accuracy - Training set: %0.2f (+/- %0.2f)\" % (cv_scores.mean(), cv_scores.std() * 2))\n",
    "    print(\"Accuracy on the testing data : \", accuracy_testing, \"\\n\")\n",
    "    print(\"Training data Crosstab: \\n\", pd.crosstab(target_training, predictions_training))\n",
    "    print(\"Testing data Crosstab: \\n\", pd.crosstab(target_testing, predictions_testing), \"\\n\")\n",
    "    \n",
    "    #Plot the ROC curve\n",
    "    \n",
    "    y_score = classifier.fit(training_set, target_training).decision_function(testing_set)\n",
    "    target_testting_dummies = pd.get_dummies(target_testing)\n",
    "    fpr = dict()\n",
    "    tpr = dict()\n",
    "    roc_auc = dict()\n",
    "    for i in range(3):\n",
    "        fpr[i], tpr[i], _ = roc_curve(target_testting_dummies[target_testting_dummies.columns[i]], y_score[:, i])\n",
    "        roc_auc[i] = auc(fpr[i], tpr[i])\n",
    "\n",
    "    plt.figure()\n",
    "    plt.plot(fpr[2], tpr[2], label='Positive ROC curve (area = %0.2f)' % roc_auc[2])\n",
    "    plt.plot(fpr[0], tpr[0], label='Negative ROC curve (area = %0.2f)' % roc_auc[0])\n",
    "    plt.plot(fpr[1], tpr[1], label='Neutral ROC curve (area = %0.2f)' % roc_auc[1])\n",
    "    plt.plot([0, 1], [0, 1], 'k--')\n",
    "    plt.xlim([0.0, 1.0])\n",
    "    plt.ylim([0.0, 1.05])\n",
    "    plt.xlabel('False Positive Rate')\n",
    "    plt.ylabel('True Positive Rate')\n",
    "    plt.title('Receiver operating characteristic')\n",
    "    plt.legend(loc=\"lower right\")\n",
    "    plt.show()\n",
    "\n",
    "    \n",
    "    return classifier,target_training,target_testing,predictions_training,predictions_testing,training_set,testing_set"
   ]
  },
  {
   "cell_type": "markdown",
   "metadata": {},
   "source": [
    "# Call the functions created and add the features"
   ]
  },
  {
   "cell_type": "code",
   "execution_count": 56,
   "metadata": {
    "collapsed": false
   },
   "outputs": [
    {
     "name": "stdout",
     "output_type": "stream",
     "text": [
      "3534\n"
     ]
    }
   ],
   "source": [
    "# The BOW function takes argument for the ngram generation\n",
    "dfBow = getBOWFeatures(data_unlab_copy,1,4) #Prints out the number of BOW features generated"
   ]
  },
  {
   "cell_type": "code",
   "execution_count": 46,
   "metadata": {
    "collapsed": false
   },
   "outputs": [
    {
     "name": "stdout",
     "output_type": "stream",
     "text": [
      "Completed Subjective Analysis\n",
      "Completed POS tagging\n",
      "Complete target features\n"
     ]
    }
   ],
   "source": [
    "dfSubj= getSubjectvityfeatures(data_unlab_copy)\n",
    "dfPOS= getPOStagfeatures(data_unlab_copy)\n",
    "dfTarg = getTargetFeatures(data_unlab_copy)"
   ]
  },
  {
   "cell_type": "code",
   "execution_count": 47,
   "metadata": {
    "collapsed": false
   },
   "outputs": [
    {
     "name": "stdout",
     "output_type": "stream",
     "text": [
      "Completed Type Dependency Analysis\n"
     ]
    }
   ],
   "source": [
    "dep_feats2 = getTypeDependencyFeatures(data_unlab_copy)"
   ]
  },
  {
   "cell_type": "markdown",
   "metadata": {},
   "source": [
    "## Combine all the features"
   ]
  },
  {
   "cell_type": "code",
   "execution_count": 57,
   "metadata": {
    "collapsed": false
   },
   "outputs": [],
   "source": [
    "import numpy as np\n",
    "data_unlab_copy.index = np.arange(len(data_unlab_copy))# Need to reindex to join properly\n",
    "data = dfBow.join(dfSubj).join(dfPOS).join(dfTarg).join(dep_feats2)\n",
    "data = data.join(data_unlab_copy['POSITVE_LEX'])\n",
    "data = data.join(data_unlab_copy['NEGATIVE_LEX'])\n",
    "data = data.join(data_unlab_copy['PUNC_QUES'])\n",
    "data = data.join(data_unlab_copy['PUNC_EXCL'])\n",
    "data = data.join(data_unlab_copy['EMOT_HAPPY'])\n",
    "data = data.join(data_unlab_copy['EMOT_SAD'])\n",
    "data = data.join(data_unlab_copy['EMOT_WINK'])\n",
    "data = data.join(data_unlab_copy['ANGRY_EMO'])\n",
    "data = data.join(data_unlab_copy['SAD_EMO'])\n",
    "data = data.join(data_unlab_copy['LOVE_EMO'])\n",
    "data = data.join(data_unlab_copy['HAPPY_EMO'])\n",
    "data = data.join(data_unlab_copy['Sentiment'])"
   ]
  },
  {
   "cell_type": "code",
   "execution_count": 54,
   "metadata": {
    "collapsed": false
   },
   "outputs": [
    {
     "data": {
      "text/plain": [
       "1538"
      ]
     },
     "execution_count": 54,
     "metadata": {},
     "output_type": "execute_result"
    }
   ],
   "source": [
    "len(data.columns)"
   ]
  },
  {
   "cell_type": "code",
   "execution_count": 53,
   "metadata": {
    "collapsed": false
   },
   "outputs": [],
   "source": [
    "# Without the BOW features\n",
    "data = dfSubj.join(dfPOS).join(dfTarg).join(dep_feats2)\n",
    "data = data.join(data_unlab_copy['POSITVE_LEX'])\n",
    "data = data.join(data_unlab_copy['NEGATIVE_LEX'])\n",
    "data = data.join(data_unlab_copy['PUNC_QUES'])\n",
    "data = data.join(data_unlab_copy['PUNC_EXCL'])\n",
    "data = data.join(data_unlab_copy['EMOT_HAPPY'])\n",
    "data = data.join(data_unlab_copy['EMOT_SAD'])\n",
    "data = data.join(data_unlab_copy['EMOT_WINK'])\n",
    "data = data.join(data_unlab_copy['ANGRY_EMO'])\n",
    "data = data.join(data_unlab_copy['SAD_EMO'])\n",
    "data = data.join(data_unlab_copy['LOVE_EMO'])\n",
    "data = data.join(data_unlab_copy['HAPPY_EMO'])\n",
    "data = data.join(data_unlab_copy['Sentiment'])"
   ]
  },
  {
   "cell_type": "code",
   "execution_count": 191,
   "metadata": {
    "collapsed": true
   },
   "outputs": [],
   "source": [
    "#Backup the dfs to avoid running them again and again while experimenting\n",
    "dfBow_backup = dfBow.copy()\n",
    "dfSubj_backup = dfSubj.copy()\n",
    "dfPOS_backup = dfPOS.copy()\n",
    "dfTarg = dfTarg.copy()\n",
    "data_backup = data_unlab_copy.copy()\n",
    "dep_feats_backup = dep_feats2.copy()\n",
    "#Write excel files to reuse them between sessions\n",
    "dfBow.to_excel('/Users/gautamborgohain/Desktop/BOW.xlsx')\n",
    "dfSubj.to_excel('/Users/gautamborgohain/Desktop/SUBJ.xlsx')\n",
    "dfPOS.to_excel('/Users/gautamborgohain/Desktop/POS.xlsx')\n",
    "dfTarg.to_excel('/Users/gautamborgohain/Desktop/TARG.xlsx')\n",
    "dep_feats2.to_excel('/Users/gautamborgohain/Desktop/DEPF.xlsx')\n",
    "#Backup this as well\n",
    "data.to_excel('/Users/gautamborgohain/Desktop/DATA.xlsx')"
   ]
  },
  {
   "cell_type": "markdown",
   "metadata": {},
   "source": [
    "### Commands to read from backed up data"
   ]
  },
  {
   "cell_type": "code",
   "execution_count": null,
   "metadata": {
    "collapsed": true
   },
   "outputs": [],
   "source": [
    "#Read from the backed up data when needed\n",
    "import pandas as pd\n",
    "data = pd.read_excel('/Users/gautamborgohain/Desktop/DATA.xlsx')"
   ]
  },
  {
   "cell_type": "code",
   "execution_count": 38,
   "metadata": {
    "collapsed": false
   },
   "outputs": [],
   "source": [
    "# dfBow= pd.read_excel('/Users/gautamborgohain/Desktop/BOW.xlsx')\n",
    "dfSubj= pd.read_excel('/Users/gautamborgohain/Desktop/DATA/processed/SUBJ.xlsx')\n",
    "dfPOS= pd.read_excel('/Users/gautamborgohain/Desktop/DATA/processed/POS.xlsx')\n",
    "dfTarg= pd.read_excel('/Users/gautamborgohain/Desktop/DATA/processed/TARG.xlsx')\n",
    "dep_feats2 = pd.read_excel('/Users/gautamborgohain/Desktop/DATA/processed/DEPF.xlsx')"
   ]
  },
  {
   "cell_type": "markdown",
   "metadata": {},
   "source": [
    "# Call the SVM classifier to test performance"
   ]
  },
  {
   "cell_type": "code",
   "execution_count": 545,
   "metadata": {
    "collapsed": false,
    "scrolled": false
   },
   "outputs": [
    {
     "name": "stdout",
     "output_type": "stream",
     "text": [
      "Training set size :  766\n",
      "Testing set size :  510 \n",
      "\n",
      "Number of features used in training:  950\n",
      "Accuracy on the training data :  0.926892950392\n",
      "Cross Validation Accuracy scores -  [ 0.71794872  0.74358974  0.75641026  0.79220779  0.76623377  0.76623377\n",
      "  0.65789474  0.78666667  0.72        0.72      ]\n",
      "Cross Validation Accuracy - Training set: 0.74 (+/- 0.08)\n",
      "Accuracy on the testing data :  0.733333333333 \n",
      "\n",
      "Training data Crosstab: \n",
      " col_0       -1    0    1\n",
      "Sentiment               \n",
      "-1         342   21    4\n",
      " 0           7  244    5\n",
      " 1           6   13  124\n",
      "Testing data Crosstab: \n",
      " col_0       -1    0   1\n",
      "Sentiment              \n",
      "-1         169   36  12\n",
      " 0          33  147   4\n",
      " 1          21   30  58 \n",
      "\n"
     ]
    },
    {
     "data": {
      "image/png": "[encoded data removed]",
      "text/plain": [
       "<matplotlib.figure.Figure at 0x10f3e64e0>"
      ]
     },
     "metadata": {},
     "output_type": "display_data"
    },
    {
     "data": {
      "image/png": "[encoded data removed]",
      "text/plain": [
       "<matplotlib.figure.Figure at 0x1d0b622b0>"
      ]
     },
     "metadata": {},
     "output_type": "display_data"
    },
    {
     "data": {
      "image/png": "[encoded data removed]",
      "text/plain": [
       "<matplotlib.figure.Figure at 0x109dd2908>"
      ]
     },
     "metadata": {},
     "output_type": "display_data"
    },
    {
     "data": {
      "image/png": "[encoded data removed]",
      "text/plain": [
       "<matplotlib.figure.Figure at 0x1d0b786d8>"
      ]
     },
     "metadata": {},
     "output_type": "display_data"
    }
   ],
   "source": [
    "# Call our classifier and check accuracy!!!\n",
    "import warnings\n",
    "warnings.filterwarnings('ignore')\n",
    "classifier,target_training,target_testing,predictions_training,predictions_testing,training_set,testing_set= Classify(data, 0.6)"
   ]
  },
  {
   "cell_type": "code",
   "execution_count": 548,
   "metadata": {
    "collapsed": false
   },
   "outputs": [
    {
     "name": "stdout",
     "output_type": "stream",
     "text": [
      "Optimal number of features : 105\n"
     ]
    },
    {
     "data": {
      "image/png": "[encoded data removed]",
      "text/plain": [
       "<matplotlib.figure.Figure at 0x10e26a6d8>"
      ]
     },
     "metadata": {},
     "output_type": "display_data"
    }
   ],
   "source": [
    "#Recursive feature extractionwith cross validation\n",
    "\n",
    "import matplotlib.pyplot as plt\n",
    "from sklearn.svm import SVC\n",
    "from sklearn.cross_validation import StratifiedKFold\n",
    "from sklearn.feature_selection import RFECV\n",
    "from sklearn.datasets import make_classification\n",
    "\n",
    "# Build a classification task using 3 informative features\n",
    "\n",
    "y = target_training.as_matrix(columns=None)\n",
    "X = training_set.as_matrix(columns=None)\n",
    "\n",
    "# Create the RFE object and compute a cross-validated score.\n",
    "svc = LinearSVC()\n",
    "# The \"accuracy\" scoring is proportional to the number of correct\n",
    "# classifications\n",
    "rfecv = RFECV(estimator=svc, step=1, cv=StratifiedKFold(y, 2),\n",
    "              scoring='accuracy')\n",
    "rfecv.fit(X, y)\n",
    "\n",
    "print(\"Optimal number of features : %d\" % rfecv.n_features_)\n",
    "\n",
    "# Plot number of features VS. cross-validation scores\n",
    "plt.figure()\n",
    "plt.xlabel(\"Number of features selected\")\n",
    "plt.ylabel(\"Cross validation score (nb of correct classifications)\")\n",
    "plt.plot(range(1, len(rfecv.grid_scores_) + 1), rfecv.grid_scores_)\n",
    "plt.show()"
   ]
  },
  {
   "cell_type": "code",
   "execution_count": 58,
   "metadata": {
    "collapsed": false
   },
   "outputs": [
    {
     "name": "stdout",
     "output_type": "stream",
     "text": [
      "Training set size :  1709\n",
      "Testing set size :  1140 \n",
      "\n",
      "Number of features used in training:  5071\n",
      "Accuracy on the training data :  0.988882387361\n",
      "Cross Validation Accuracy scores -  [ 0.79651163  0.76744186  0.77906977  0.80116959  0.77192982  0.71345029\n",
      "  0.80701754  0.81176471  0.73529412  0.76331361]\n",
      "Cross Validation Accuracy - Training set: 0.77 (+/- 0.06)\n",
      "Accuracy on the testing data :  0.762280701754 \n",
      "\n",
      "Training data Crosstab: \n",
      " col_0       -1    0    1\n",
      "Sentiment               \n",
      "-1         890    9    0\n",
      " 0           9  608    0\n",
      " 1           0    1  192\n",
      "Testing data Crosstab: \n",
      " col_0       -1    0   1\n",
      "Sentiment              \n",
      "-1         449   84  11\n",
      " 0          91  335  19\n",
      " 1          23   43  85 \n",
      "\n"
     ]
    },
    {
     "data": {
      "image/png": "[encoded data removed]",
      "text/plain": [
       "<matplotlib.figure.Figure at 0x103b65eb8>"
      ]
     },
     "metadata": {},
     "output_type": "display_data"
    },
    {
     "data": {
      "image/png": "[encoded data removed]",
      "text/plain": [
       "<matplotlib.figure.Figure at 0x12837d940>"
      ]
     },
     "metadata": {},
     "output_type": "display_data"
    },
    {
     "data": {
      "image/png": "[encoded data removed]",
      "text/plain": [
       "<matplotlib.figure.Figure at 0x1282544e0>"
      ]
     },
     "metadata": {},
     "output_type": "display_data"
    },
    {
     "data": {
      "image/png": "[encoded data removed]",
      "text/plain": [
       "<matplotlib.figure.Figure at 0x1280b01d0>"
      ]
     },
     "metadata": {},
     "output_type": "display_data"
    }
   ],
   "source": [
    "# Call our classifier and check accuracy!!!\n",
    "import warnings\n",
    "warnings.filterwarnings('ignore')\n",
    "classifier,target_training,target_testing,predictions_training,predictions_testing,training_set,testing_set= Classify(data, 0.6)"
   ]
  },
  {
   "cell_type": "code",
   "execution_count": 551,
   "metadata": {
    "collapsed": false
   },
   "outputs": [
    {
     "data": {
      "text/plain": [
       "950"
      ]
     },
     "execution_count": 551,
     "metadata": {},
     "output_type": "execute_result"
    }
   ],
   "source": [
    "len(training_set.columns)"
   ]
  },
  {
   "cell_type": "code",
   "execution_count": 567,
   "metadata": {
    "collapsed": false
   },
   "outputs": [],
   "source": [
    "colindex = training_set[rfecv.ranking_].columns[0:105]"
   ]
  },
  {
   "cell_type": "code",
   "execution_count": 568,
   "metadata": {
    "collapsed": false
   },
   "outputs": [
    {
     "data": {
      "text/plain": [
       "Index(['TARGET_DUN', 'TARGET_SOCIAL', 'TARGET_TAUGHT', 'TARGET_SHALL',\n",
       "       'ALLOWS_ARG1', 'TARGET_PATHETIC', 'TARGET_HIGHER', 'TARGET_NONENGLISH',\n",
       "       'NEUTRAL', 'LRT_EXTERN',\n",
       "       ...\n",
       "       'NEUTRAL', 'TARGET_STIL', 'TARGET_RED', 'FAS_ARG1', 'TARGET_DOCUMENT',\n",
       "       'NEUTRAL', 'SMRT_U', 'HASH_CAREER_ARG1', 'HARHH_ARG', 'TARGET_RECENT'],\n",
       "      dtype='object', length=105)"
      ]
     },
     "execution_count": 568,
     "metadata": {},
     "output_type": "execute_result"
    }
   ],
   "source": [
    "colindex"
   ]
  },
  {
   "cell_type": "code",
   "execution_count": 570,
   "metadata": {
    "collapsed": false
   },
   "outputs": [],
   "source": [
    "copy = data[colindex]"
   ]
  },
  {
   "cell_type": "code",
   "execution_count": 577,
   "metadata": {
    "collapsed": false
   },
   "outputs": [],
   "source": [
    "copy = copy.join(data['Sentiment'])"
   ]
  },
  {
   "cell_type": "code",
   "execution_count": null,
   "metadata": {
    "collapsed": false
   },
   "outputs": [],
   "source": [
    "classifier,target_training,target_testing,predictions_training,predictions_testing,training_set,testing_set= Classify(copy, 0.6)"
   ]
  },
  {
   "cell_type": "code",
   "execution_count": null,
   "metadata": {
    "collapsed": false
   },
   "outputs": [],
   "source": [
    "# Just trying this out with the xgboost classifier\n",
    "import numpy as np\n",
    "\n",
    "from sklearn.cross_validation import train_test_split\n",
    "from sklearn import preprocessing\n",
    "\n",
    "import xgboost as xgb\n",
    "y = np.ravel(data.Sentiment)\n",
    "X = data.drop('Sentiment', axis = 1,inplace= False)\n",
    "X_train,X_test,Y_train,Y_test = train_test_split(X,y,test_size = 0.40, random_state=0)\n",
    "\n",
    "xgb_model = xgb.XGBClassifier()\n",
    "xgb_model.fit(X_train,Y_train)\n",
    "\n",
    "from sklearn import metrics\n",
    "predicted = xgb_model.predict(X_test)       \n",
    "print(\"Accuracy : \",metrics.accuracy_score(Y_test, predicted))\n",
    "\n",
    "from sklearn import cross_validation\n",
    "scores = cross_validation.cross_val_score(xgb_model, X_test, Y_test, cv=5)\n",
    "print(\"Cross Validation Mean accuracy: \",scores.mean())\n",
    "\n",
    "\n",
    "\n",
    "# Accuracy :  0.698630136986\n",
    "# Cross Validation Mean accuracy:  0.712090164558\n"
   ]
  },
  {
   "cell_type": "code",
   "execution_count": null,
   "metadata": {
    "collapsed": true
   },
   "outputs": [],
   "source": [
    "from sklearn.learning_curve import learning_curve\n",
    "title = 'Learning Curves (SVM, linear kernel, $\\gamma=%.6f$)' %classifier.best_estimator_.gamma\n",
    "estimator = SVC(kernel='linear', gamma=classifier.best_estimator_.gamma)\n",
    "plot_learning_curve(estimator, title, X_train, y_train, cv=cv)\n",
    "plt.show()"
   ]
  },
  {
   "cell_type": "code",
   "execution_count": 60,
   "metadata": {
    "collapsed": false
   },
   "outputs": [
    {
     "name": "stdout",
     "output_type": "stream",
     "text": [
      "Variable                        Type               Data/Info\n",
      "------------------------------------------------------------\n",
      "Classify                        function           <function Classify at 0x127e337b8>\n",
      "CountVectorizer                 type               <class 'sklearn.feature_e<...>on.text.CountVectorizer'>\n",
      "LinearSVC                       type               <class 'sklearn.svm.classes.LinearSVC'>\n",
      "StanfordCoreNLP                 type               <class 'pycorenlp.corenlp.StanfordCoreNLP'>\n",
      "accuracy_score                  function           <function accuracy_score at 0x1272dd378>\n",
      "adjnon                          list               n=7\n",
      "adverbs                         list               n=3\n",
      "auc                             function           <function auc at 0x12719aae8>\n",
      "backup                          DataFrame                        Created At <...>n[3957 rows x 26 columns]\n",
      "classification_report           function           <function classification_report at 0x1272dd9d8>\n",
      "classifier                      LinearSVC          LinearSVC(C=1.0, class_we<...>=0.0001,\\n     verbose=0)\n",
      "cleanedtweets                   list               n=3957\n",
      "cleantweet                      function           <function cleantweet at 0x127e14f28>\n",
      "columns                         list               n=12732\n",
      "confusion_matrix                function           <function confusion_matrix at 0x1272dd400>\n",
      "cross_validation                module             <module 'sklearn.cross_va<...>arn/cross_validation.py'>\n",
      "data                            DataFrame                10  10 mins  10 min<...>2849 rows x 5072 columns]\n",
      "data_unlab                      DataFrame                        Created At <...>n[3957 rows x 14 columns]\n",
      "data_unlab_copy                 DataFrame                        Created At <...>n[2849 rows x 26 columns]\n",
      "dep_feats2                      DataFrame                10MINS_ARG1  18MINS<...>[2849 rows x 891 columns]\n",
      "dfBow                           DataFrame                10  10 mins  10 min<...>2849 rows x 3534 columns]\n",
      "dfPOS                           DataFrame                CC  CD  DT  EX  FW <...>n[2849 rows x 32 columns]\n",
      "dfSubj                          DataFrame                NEGATIVE  NEUTRAL  <...>\\n[2849 rows x 5 columns]\n",
      "dfTarg                          DataFrame                ENOUGH  INSENSITIVE<...>[2849 rows x 598 columns]\n",
      "documentmatrix                  ndarray            3957x12732: 50380524 elems, type `int64`, 403044192 bytes (384.3728942871094 Mb)\n",
      "f1_score                        function           <function f1_score at 0x1272dd6a8>\n",
      "getAdjectives                   function           <function getAdjectives at 0x127e332f0>\n",
      "getBOWFeatures                  function           <function getBOWFeatures at 0x10949ef28>\n",
      "getDependentGloss               function           <function getDependentGloss at 0x10949ed90>\n",
      "getDependentGloss_WithTargets   function           <function getDependentGlo<...>thTargets at 0x10949eea0>\n",
      "getFeatureDF                    function           <function getFeatureDF at 0x10949ec80>\n",
      "getNegativeWordCount            function           <function getNegativeWordCount at 0x127e33ea0>\n",
      "getPOStagfeatures               function           <function getPOStagfeatures at 0x1094b8048>\n",
      "getPositiveWordCount            function           <function getPositiveWordCount at 0x127e33f28>\n",
      "getSubjectvityfeatures          function           <function getSubjectvityfeatures at 0x127e14ea0>\n",
      "getTargetFeatures               function           <function getTargetFeatures at 0x127e331e0>\n",
      "getTypeDependencyFeatures       function           <function getTypeDependen<...>yFeatures at 0x10949ee18>\n",
      "get_hastags                     function           <function get_hastags at 0x127e33268>\n",
      "isTransitive                    function           <function isTransitive at 0x10949ed08>\n",
      "line                            str                zombie\\n\n",
      "matplotlib                      module             <module 'matplotlib' from<...>/matplotlib/__init__.py'>\n",
      "neghand                         TextIOWrapper      <_io.TextIOWrapper name='<...>ode='r' encoding='UTF-8'>\n",
      "neglist                         list               n=4783\n",
      "nlp                             StanfordCoreNLP    <pycorenlp.corenlp.Stanfo<...>LP object at 0x1068be588>\n",
      "np                              module             <module 'numpy' from '/Li<...>kages/numpy/__init__.py'>\n",
      "objects                         list               n=5\n",
      "output                          dict               n=1\n",
      "pd                              module             <module 'pandas' from '/L<...>ages/pandas/__init__.py'>\n",
      "plt                             module             <module 'matplotlib.pyplo<...>es/matplotlib/pyplot.py'>\n",
      "pos_tag                         function           <function pos_tag at 0x12799d730>\n",
      "poshand                         TextIOWrapper      <_io.TextIOWrapper name='<...>ode='r' encoding='UTF-8'>\n",
      "poslist                         list               n=2006\n",
      "posorneg                        function           <function posorneg at 0x1094b8840>\n",
      "precision_recall_curve          function           <function precision_recall_curve at 0x1272ac048>\n",
      "predictions_testing             ndarray            1140: 1140 elems, type `int64`, 9120 bytes\n",
      "predictions_training            ndarray            1709: 1709 elems, type `int64`, 13672 bytes\n",
      "re                              module             <module 're' from '/Libra<...>3.4/lib/python3.4/re.py'>\n",
      "regexStuff                      function           <function regexStuff at 0x106895598>\n",
      "roc_curve                       function           <function roc_curve at 0x1272ac0d0>\n",
      "subjs                           list               n=2\n",
      "swarmTweet                      function           <function swarmTweet at 0x1227258c8>\n",
      "target_testing                  Series             0      -1\\n3       0\\n7  <...>: Sentiment, dtype: int64\n",
      "target_training                 Series             793    -1\\n179     0\\n667<...>: Sentiment, dtype: int64\n",
      "targets                         list               n=10\n",
      "testing_set                     DataFrame                10  10 mins  10 min<...>1140 rows x 5071 columns]\n",
      "text                            str                U guys better wake up ur <...>late for work now. ATSMRT\n",
      "training_set                    DataFrame                10  10 mins  10 min<...>1709 rows x 5071 columns]\n",
      "vectordf                        DataFrame                00  00 amsmrt  00am<...>957 rows x 12732 columns]\n",
      "vectorizer                      CountVectorizer    CountVectorizer(analyzer=<...>er=None, vocabulary=None)\n",
      "verbs                           list               n=6\n",
      "warnings                        module             <module 'warnings' from '<...>b/python3.4/warnings.py'>\n",
      "word_tokenize                   function           <function word_tokenize at 0x127a499d8>\n",
      "words                           Series             00             1\\n00 amsm<...>          1\\ndtype: int64\n"
     ]
    }
   ],
   "source": [
    "%whos"
   ]
  }
 ],
 "metadata": {
  "kernelspec": {
   "display_name": "Python 3",
   "language": "python",
   "name": "python3"
  },
  "language_info": {
   "codemirror_mode": {
    "name": "ipython",
    "version": 3
   },
   "file_extension": ".py",
   "mimetype": "text/x-python",
   "name": "python",
   "nbconvert_exporter": "python",
   "pygments_lexer": "ipython3",
   "version": "3.4.2"
  }
 },
 "nbformat": 4,
 "nbformat_minor": 0
}
