{
 "cells": [
  {
   "cell_type": "markdown",
   "metadata": {},
   "source": [
    "### CI Project notebook for demostration\n",
    "\n",
    "#### Gautam Borgohain"
   ]
  },
  {
   "cell_type": "code",
   "execution_count": 1,
   "metadata": {
    "collapsed": true
   },
   "outputs": [],
   "source": [
    "import pandas as pd\n",
    "import matplotlib\n",
    "%matplotlib inline\n",
    "import matplotlib.pyplot as plt\n",
    "pd.options.display.max_rows = 10\n",
    "pd.options.display.notebook_repr_html = True\n",
    "pd.options.display.max_columns = None"
   ]
  },
  {
   "cell_type": "code",
   "execution_count": 2,
   "metadata": {
    "collapsed": false
   },
   "outputs": [
    {
     "data": {
      "text/html": [
       "<div>\n",
       "<table border=\"1\" class=\"dataframe\">\n",
       "  <thead>\n",
       "    <tr style=\"text-align: right;\">\n",
       "      <th></th>\n",
       "      <th>Created At</th>\n",
       "      <th>ID</th>\n",
       "      <th>In Reply To</th>\n",
       "      <th>Language</th>\n",
       "      <th>Place</th>\n",
       "      <th>ReTweet Count</th>\n",
       "      <th>Sentiment</th>\n",
       "      <th>Tweet</th>\n",
       "      <th>Unnamed: 2</th>\n",
       "      <th>User Handle</th>\n",
       "      <th>DayWeek</th>\n",
       "      <th>Hour</th>\n",
       "      <th>DayYear</th>\n",
       "      <th>isSwarm</th>\n",
       "    </tr>\n",
       "  </thead>\n",
       "  <tbody>\n",
       "    <tr>\n",
       "      <th>14</th>\n",
       "      <td>2016-02-11 06:49:04</td>\n",
       "      <td>697552893537357056</td>\n",
       "      <td>NaN</td>\n",
       "      <td>en</td>\n",
       "      <td>North Region, Singapore</td>\n",
       "      <td>0</td>\n",
       "      <td>0</td>\n",
       "      <td>Inside bus 900A.. (@ SMRT Buses: Bus 900A in S...</td>\n",
       "      <td>0</td>\n",
       "      <td>nurlynnyati</td>\n",
       "      <td>3</td>\n",
       "      <td>6</td>\n",
       "      <td>42</td>\n",
       "      <td>False</td>\n",
       "    </tr>\n",
       "    <tr>\n",
       "      <th>18</th>\n",
       "      <td>2016-02-12 07:48:23</td>\n",
       "      <td>697930209606000000</td>\n",
       "      <td>NaN</td>\n",
       "      <td>en</td>\n",
       "      <td>Central Region, Singapore</td>\n",
       "      <td>0</td>\n",
       "      <td>0</td>\n",
       "      <td>Last day here, just wait for a few minutes 😢😫🚄...</td>\n",
       "      <td>0</td>\n",
       "      <td>chanichaaaaa</td>\n",
       "      <td>4</td>\n",
       "      <td>7</td>\n",
       "      <td>43</td>\n",
       "      <td>False</td>\n",
       "    </tr>\n",
       "    <tr>\n",
       "      <th>22</th>\n",
       "      <td>2016-02-12 07:33:39</td>\n",
       "      <td>697926502139047040</td>\n",
       "      <td>syfqhntsh</td>\n",
       "      <td>en</td>\n",
       "      <td>NaN</td>\n",
       "      <td>0</td>\n",
       "      <td>1</td>\n",
       "      <td>@syfqhntsh @SMRT_Singapore @swarmapp u today v...</td>\n",
       "      <td>1</td>\n",
       "      <td>glynisyingting</td>\n",
       "      <td>4</td>\n",
       "      <td>7</td>\n",
       "      <td>43</td>\n",
       "      <td>False</td>\n",
       "    </tr>\n",
       "    <tr>\n",
       "      <th>23</th>\n",
       "      <td>2016-02-12 07:33:15</td>\n",
       "      <td>697926400658029056</td>\n",
       "      <td>NaN</td>\n",
       "      <td>en</td>\n",
       "      <td>East Region, Singapore</td>\n",
       "      <td>0</td>\n",
       "      <td>0</td>\n",
       "      <td>Otw for exam... Hope I don't flunk it lol (@ P...</td>\n",
       "      <td>0</td>\n",
       "      <td>unknownguy95</td>\n",
       "      <td>4</td>\n",
       "      <td>7</td>\n",
       "      <td>43</td>\n",
       "      <td>False</td>\n",
       "    </tr>\n",
       "    <tr>\n",
       "      <th>36</th>\n",
       "      <td>2016-02-12 06:34:44</td>\n",
       "      <td>697911676558012032</td>\n",
       "      <td>NaN</td>\n",
       "      <td>en</td>\n",
       "      <td>Central Region, Singapore</td>\n",
       "      <td>5</td>\n",
       "      <td>1</td>\n",
       "      <td>RT @AdobeDocCloud: #eSign services reduced @SM...</td>\n",
       "      <td>1</td>\n",
       "      <td>MisaLan15</td>\n",
       "      <td>4</td>\n",
       "      <td>6</td>\n",
       "      <td>43</td>\n",
       "      <td>False</td>\n",
       "    </tr>\n",
       "  </tbody>\n",
       "</table>\n",
       "</div>"
      ],
      "text/plain": [
       "            Created At                  ID In Reply To Language  \\\n",
       "14 2016-02-11 06:49:04  697552893537357056         NaN       en   \n",
       "18 2016-02-12 07:48:23  697930209606000000         NaN       en   \n",
       "22 2016-02-12 07:33:39  697926502139047040   syfqhntsh       en   \n",
       "23 2016-02-12 07:33:15  697926400658029056         NaN       en   \n",
       "36 2016-02-12 06:34:44  697911676558012032         NaN       en   \n",
       "\n",
       "                        Place  ReTweet Count  Sentiment  \\\n",
       "14    North Region, Singapore              0          0   \n",
       "18  Central Region, Singapore              0          0   \n",
       "22                        NaN              0          1   \n",
       "23     East Region, Singapore              0          0   \n",
       "36  Central Region, Singapore              5          1   \n",
       "\n",
       "                                                Tweet Unnamed: 2  \\\n",
       "14  Inside bus 900A.. (@ SMRT Buses: Bus 900A in S...          0   \n",
       "18  Last day here, just wait for a few minutes 😢😫🚄...          0   \n",
       "22  @syfqhntsh @SMRT_Singapore @swarmapp u today v...          1   \n",
       "23  Otw for exam... Hope I don't flunk it lol (@ P...          0   \n",
       "36  RT @AdobeDocCloud: #eSign services reduced @SM...          1   \n",
       "\n",
       "       User Handle  DayWeek  Hour  DayYear isSwarm  \n",
       "14     nurlynnyati        3     6       42   False  \n",
       "18    chanichaaaaa        4     7       43   False  \n",
       "22  glynisyingting        4     7       43   False  \n",
       "23    unknownguy95        4     7       43   False  \n",
       "36       MisaLan15        4     6       43   False  "
      ]
     },
     "execution_count": 2,
     "metadata": {},
     "output_type": "execute_result"
    }
   ],
   "source": [
    "data_unlab = pd.read_excel('/Users/gautamborgohain/Desktop/DATA/Tweets_labeled.xls')\n",
    "data_unlab.head()"
   ]
  },
  {
   "cell_type": "markdown",
   "metadata": {},
   "source": [
    "### Clean the tweets\n",
    "\n",
    "Replace some of the emoticons, urls and @ symbols with more processable words"
   ]
  },
  {
   "cell_type": "code",
   "execution_count": 3,
   "metadata": {
    "collapsed": true
   },
   "outputs": [],
   "source": [
    "import re\n",
    "def regexStuff(tweet):\n",
    "    tweet = re.sub(r'@SMRT_singapore|@smrt_singapore|@smrt','TARGET',tweet)\n",
    "    tweet = re.sub(r'@[^ ]*','NOT_TARGET',tweet)\n",
    "#     tweet = re.sub('((www\\.[^ ]+)|(https?://[^ ]+))', '_URL_', tweet)\n",
    "#     tweet = re.sub(r'@[^ ]*','',tweet)\n",
    "    tweet = re.sub('((www\\.[^ ]+)|(https?://[^ ]+))', '', tweet)\n",
    "    tweet = re.sub(r'[\\n]','',tweet)\n",
    "    tweet = re.sub('[\\s]+', ' ', tweet)\n",
    "    tweet = re.sub('[\\.]+', '.', tweet)\n",
    "    tweet = re.sub(r':-D|:D',' HAPPY',tweet)\n",
    "    tweet = re.sub(r':-\\)|:\\)',' HAPPY',tweet)\n",
    "    tweet = re.sub(r':-\\(|:\\(',' SAD',tweet)\n",
    "    tweet = re.sub(r';-\\)|;\\)',' WINK',tweet)\n",
    "    tweet = re.sub(r'#','HASH_',tweet)\n",
    "    return tweet"
   ]
  },
  {
   "cell_type": "code",
   "execution_count": 4,
   "metadata": {
    "collapsed": false
   },
   "outputs": [
    {
     "data": {
      "text/plain": [
       "['Inside bus 900A. (NOT_TARGET SMRT Buses: Bus 900A in Singapore) ',\n",
       " 'Last day here, just wait for a few minutes 😢😫🚄 (at TARGET) — ',\n",
       " 'NOT_TARGET NOT_TARGET NOT_TARGET u today v early :\")',\n",
       " \"Otw for exam. Hope I don't flunk it lol (NOT_TARGET Pasir Ris MRT Station (EW1) - TARGET in Singapore) \",\n",
       " 'RT NOT_TARGET HASH_eSign services reduced NOT_TARGET contract cycles from 3 weeks to as fast as 7 mins: https…',\n",
       " 'To those mother fuckers so call good singapore citizen or so called the good guys and to the fucking SMRT MRTI. ',\n",
       " 'Report SMRT defects via WhatsApp - DKSG HASH_whatsapp ',\n",
       " 'finally ended (NOT_TARGET Bayfront MRT Interchange (CE1/DT16) - TARGET in Singapore) ',\n",
       " 'NOT_TARGET NOT_TARGET NOT_TARGET report to the mrt whatsapp. Chairs stolen',\n",
       " 'RT NOT_TARGET NOT_TARGET NOT_TARGET coz we pay to stand.',\n",
       " 'RT NOT_TARGET If there are seats here we will all be seating. I dont understand why u do this NOT_TARGET ',\n",
       " \"RT NOT_TARGET Singapore footballer hopes HASH_SLeague-SMRT partnership will create more 'media attention' https:…\",\n",
       " 'CNA | S.League announces media partnership with SMRT ',\n",
       " 'CNA | S.League announces media partnership with SMRT HASH_sgnews ',\n",
       " 'CNA | S.League announces media partnership with SMRT ',\n",
       " 'RT NOT_TARGET JUST IN: NOT_TARGET announces media partnership with NOT_TARGET ',\n",
       " 'RT NOT_TARGET Football training: NOT_TARGET and NOT_TARGET show off the HASH_SLeague train ',\n",
       " 'RT NOT_TARGET HASH_SLeague - NOT_TARGET partnership will include concept trains, screens showing goals and highlights, and club ads in…',\n",
       " \"RT NOT_TARGET 'Big boost for HASH_SLeague, with NOT_TARGET fetching millions of commuters everyday' - league CEO Lim Chin \",\n",
       " 'RT NOT_TARGET HASH_Football: NOT_TARGET NOT_TARGET in tie-up to promote HASH_SLeague for 3 years HASH_SMRT ']"
      ]
     },
     "execution_count": 4,
     "metadata": {},
     "output_type": "execute_result"
    }
   ],
   "source": [
    "cleanedtweets = [regexStuff(tweet) for tweet in data_unlab['Tweet']]\n",
    "cleanedtweets[:20]"
   ]
  },
  {
   "cell_type": "code",
   "execution_count": 5,
   "metadata": {
    "collapsed": true
   },
   "outputs": [],
   "source": [
    "data_unlab_copy = data_unlab.copy()\n",
    "data_unlab_copy['Tweet'] = cleanedtweets"
   ]
  },
  {
   "cell_type": "markdown",
   "metadata": {},
   "source": [
    "### Remove the tweets which are automatically generated by the Swarm app\n",
    "\n",
    "They start with 'I'm at' or have it in content along with an mrt station name"
   ]
  },
  {
   "cell_type": "code",
   "execution_count": 6,
   "metadata": {
    "collapsed": false
   },
   "outputs": [
    {
     "name": "stdout",
     "output_type": "stream",
     "text": [
      "1276\n"
     ]
    }
   ],
   "source": [
    "def swarmTweet(tweet):\n",
    "    tweet = tweet.lower()\n",
    "    if re.search(r'i\\'m at [a-z ]* mrt ', tweet) or tweet.startswith('i\\'m at'):\n",
    "        return True\n",
    "    else:\n",
    "        return False\n",
    "    \n",
    "data_unlab_copy['isSwarm'] = [swarmTweet(tweet) for tweet in data_unlab_copy['Tweet']]\n",
    "data_unlab_copy = data_unlab_copy[data_unlab_copy.isSwarm == False]\n",
    "print(len(data_unlab_copy))"
   ]
  },
  {
   "cell_type": "markdown",
   "metadata": {},
   "source": [
    "Positive - negative - neutral distribution in the data\n"
   ]
  },
  {
   "cell_type": "code",
   "execution_count": 7,
   "metadata": {
    "collapsed": false
   },
   "outputs": [
    {
     "data": {
      "text/plain": [
       "<matplotlib.axes._subplots.AxesSubplot at 0x1068b5518>"
      ]
     },
     "execution_count": 7,
     "metadata": {},
     "output_type": "execute_result"
    },
    {
     "data": {
      "image/png": "[encoded data removed]",
      "text/plain": [
       "<matplotlib.figure.Figure at 0x10685bcf8>"
      ]
     },
     "metadata": {},
     "output_type": "display_data"
    }
   ],
   "source": [
    "data_unlab_copy.Sentiment.value_counts().plot(kind = \"pie\",title = \"Positive - negative - neutral distribution in the data\")"
   ]
  },
  {
   "cell_type": "markdown",
   "metadata": {},
   "source": [
    "### Some exploration on the dataset\n",
    "\n",
    "Plot the most frequent words in the dataset"
   ]
  },
  {
   "cell_type": "code",
   "execution_count": 8,
   "metadata": {
    "collapsed": false
   },
   "outputs": [
    {
     "data": {
      "text/plain": [
       "<matplotlib.axes._subplots.AxesSubplot at 0x108cc43c8>"
      ]
     },
     "execution_count": 8,
     "metadata": {},
     "output_type": "execute_result"
    },
    {
     "data": {
      "image/png": "[encoded data removed]",
      "text/plain": [
       "<matplotlib.figure.Figure at 0x1089f3c18>"
      ]
     },
     "metadata": {},
     "output_type": "display_data"
    }
   ],
   "source": [
    "from sklearn.feature_extraction.text import CountVectorizer\n",
    "\n",
    "vectorizer = CountVectorizer(min_df=1,max_df=1.0,stop_words='english',lowercase=True,ngram_range=(1,2))\n",
    "documentmatrix = vectorizer.fit_transform(data_unlab_copy['Tweet']).toarray()\n",
    "columns = vectorizer.get_feature_names()\n",
    "vectordf = pd.DataFrame(data=documentmatrix, columns=columns)\n",
    "words = vectordf.sum(axis = 0)\n",
    "words.sort_values(ascending=False)[:30].plot(kind = 'barh',title = 'Most Frequent Words',figsize = (10,10))"
   ]
  },
  {
   "cell_type": "markdown",
   "metadata": {},
   "source": [
    "### Stanford Core NLP dependency tree features\n",
    "\n",
    "cd stanford-corenlp-full-2015-12-09/\n",
    "\n",
    "export CLASSPATH=\"`find . -name '*.jar'`\" \n",
    "\n",
    "java -mx4g -cp \"*\" edu.stanford.nlp.pipeline.StanfordCoreNLPServer"
   ]
  },
  {
   "cell_type": "code",
   "execution_count": 9,
   "metadata": {
    "collapsed": true
   },
   "outputs": [],
   "source": [
    "from pycorenlp import StanfordCoreNLP\n",
    "nlp = StanfordCoreNLP('http://localhost:9000')"
   ]
  },
  {
   "cell_type": "code",
   "execution_count": 10,
   "metadata": {
    "collapsed": true
   },
   "outputs": [],
   "source": [
    "# Sample output from the Stanford dependency parser\n",
    "\n",
    "text = (\"U guys better wake up ur idea! People pay so much for ur crappy service. People late for work now. ATSMRT\")\n",
    "output = nlp.annotate(text, properties={\n",
    "        'annotators': 'parse,relation',\n",
    "        'outputFormat': 'json'\n",
    "    })\n",
    "# print(output)\n",
    "# print(output['sentences'][0]['basic-dependencies'])"
   ]
  },
  {
   "cell_type": "markdown",
   "metadata": {},
   "source": [
    "Count vectorizer to add feature list to a data frame"
   ]
  },
  {
   "cell_type": "code",
   "execution_count": 192,
   "metadata": {
    "collapsed": true
   },
   "outputs": [],
   "source": [
    "def getFeatureDF(feature_list):\n",
    "    vectorizer = CountVectorizer()\n",
    "    docmatrix = vectorizer.fit_transform(feature_list).toarray()\n",
    "    columns = vectorizer.get_feature_names()\n",
    "    columns = [word.upper() for word in columns]  # uppercasing to avoid conflict of in and other words\n",
    "    df = pd.DataFrame(data=docmatrix, columns=columns)\n",
    "    return df"
   ]
  },
  {
   "cell_type": "markdown",
   "metadata": {},
   "source": [
    "## BOW features"
   ]
  },
  {
   "cell_type": "code",
   "execution_count": null,
   "metadata": {
    "collapsed": true
   },
   "outputs": [],
   "source": [
    "from sklearn.feature_extraction.text import CountVectorizer\n",
    "\n",
    "def getBOWFeatures(frame):\n",
    "    vectorizer = CountVectorizer(min_df=4,max_df = 500,stop_words='english',lowercase=True,ngram_range=(1,1))\n",
    "    documentmatrix = vectorizer.fit_transform(frame['Tweet']).toarray()\n",
    "    columns = vectorizer.get_feature_names()\n",
    "    bowdf = pd.DataFrame(data=documentmatrix, columns=columns)\n",
    "    print(len(bowdf.columns))\n",
    "    return(bowdf)"
   ]
  },
  {
   "cell_type": "markdown",
   "metadata": {},
   "source": [
    "## Generate target dependent features\n",
    "\n",
    "\n",
    "- \"wi is a transitive verb and T (or any of the extended target) is its object; we generate a feature wi _arg2. \"\n",
    "- \"wi is a transitive verb and T (or any of the extended target) is its subject; we generate a feature wi_arg1 \"\n",
    "- \"wi is a intransitive verb and T (or any of the extended target) is its subject; we generate a feature wi_it_arg1\"\n",
    "- wi is an adjective or noun and T  is its head; we generate a feature wi_arg1.\n",
    "- wi is an adjective or noun and it is connected by a copula with T we generate a feature wi_cp_arg1.\n",
    "- wi is an adjective or intransitive verb ap- pearing alone as a sentence and T appears in the pre- vious sentence; we generate a feature wi_arg. For example, in “John did that. Great!”, “Great” appears alone as a sen- tence, so we generate “great_arg” for the target “John”.\n",
    "- wi is an adverb, and the verb it modifies has T as its subject; we generate a feature arg1_v_wi. For example, for the target iPhone in the tweet “iPhone works better with the Cell- Band”, we will generate the feature “arg1_v_well”.\n",
    "\n",
    "(Jiang et al, 2011)\n",
    "\n",
    "Commented out the lines for checking target as the dependent \n"
   ]
  },
  {
   "cell_type": "markdown",
   "metadata": {},
   "source": [
    "Very messy code to get related data from two dictionaries- posdict(POS tags) and depdict(type dependency dict). Will optimize it later "
   ]
  },
  {
   "cell_type": "code",
   "execution_count": null,
   "metadata": {
    "collapsed": false
   },
   "outputs": [],
   "source": [
    "targets = ['SMRT','smrt','smrt_singapore','SMRT_SINGAPORE','train','mrt','TARGET','people','iPhone']\n",
    "dependency_feats = []\n",
    "for tweet in data_unlab_copy['Tweet']:\n",
    "    tweet = tweet.encode('utf-8')\n",
    "    output = nlp.annotate(tweet, properties={\n",
    "        'annotators': 'parse,relation',\n",
    "        'outputFormat': 'json'\n",
    "    })\n",
    "    for i in range(len(output['sentences'])):\n",
    "        features = []\n",
    "        posdicts = output['sentences'][i]['tokens']\n",
    "        depdicts = output['sentences'][i]['basic-dependencies']\n",
    "        for posdict in posdicts:\n",
    "            for k in posdict:# Iterate through the POS tag dict and search for a verb \n",
    "                if(k == 'pos' and posdict[k] in ['VBG','VB','VBD','VBN','VBP','VBZ']):\n",
    "                    verb = posdict['word'] #If found a verb then get the word \n",
    "                    for depdict in depdicts:\n",
    "                        if depdict['governorGloss'] == verb: #Iterate through the depdict and look for dependent\n",
    "        #                     if depdict['dependentGloss'] in targets:# If the verb is targeting the list of targets specified\n",
    "                                if depdict['dep'] in ['obj','pobj','dobj','iobj','nmod']: #If the dependecy type is that of an object\n",
    "                                    features.append(verb+'_arg2')\n",
    "                                elif depdict['dep'] in ['nsubj','dep']:# If dependency relation is a subject\n",
    "                                    features.append(verb+'_arg1')\n",
    "                        elif depdict['dependentGloss'] == verb: #Iterate through the depdict and look for governer\n",
    "        #                     if depdict['governorGloss'] in targets:# If the verb is targeting the list of targets specified\n",
    "                                if depdict['dep'] in ['obj','pobj','dobj','iobj','nmod']: #If the dependecy type is that of an object\n",
    "                                    features.append('arg2'+verb)\n",
    "                                elif depdict['dep'] in ['nsubj','dep']:# If dependency relation is a subject\n",
    "                                    features.append('arg1_'+verb)\n",
    "                            \n",
    "                if(k == 'pos' and posdict[k] in ['JJ','JJR','JJS','NN','NNS','NNP','NNPS']):\n",
    "                    adjn = posdict['word'] #If found a adjective or noun then get the word \n",
    "                    for depdict in depdicts:\n",
    "                        if depdict['governorGloss'] in targets and depdict['dependentGloss'] == adjn: #Iterate through the depdict and look for dependent\n",
    "                                    features.append(adjn+'arg1')\n",
    "                if(k == 'pos' and posdict[k] in ['RB','RBR','RBS']):\n",
    "                    adverb = posdict['word']\n",
    "                    for depdict in depdicts:\n",
    "                        if(depdict['dependentGloss'] == adverb):\n",
    "                            verb = depdict['governorGloss']\n",
    "                            for depdict in depdicts:\n",
    "                                if((depdict['governorGloss'] == verb or depdict['dependentGloss'] == verb) and (depdict['governorGloss'] in targets or depdict['dependentGloss'] in targets)):\n",
    "                                    features.append('arg_v_'+adverb)\n",
    "                                    \n",
    "                                \n",
    "                                  \n",
    "                                    \n",
    "    dependency_feats.append(' '.join(features))\n",
    "print(len(dependency_feats), len(data_unlab_copy))"
   ]
  },
  {
   "cell_type": "code",
   "execution_count": null,
   "metadata": {
    "collapsed": false
   },
   "outputs": [],
   "source": [
    "dep_feats = getFeatureDF(dependency_feats)\n",
    "dep_feats.head()"
   ]
  },
  {
   "cell_type": "markdown",
   "metadata": {},
   "source": [
    "## New function for Type Dependecy \n",
    "- hopefully better"
   ]
  },
  {
   "cell_type": "code",
   "execution_count": 284,
   "metadata": {
    "collapsed": false
   },
   "outputs": [
    {
     "name": "stdout",
     "output_type": "stream",
     "text": [
      "2006 4783\n"
     ]
    }
   ],
   "source": [
    "#\n",
    "# Get the positive- negative word lexicon\n",
    "#\n",
    "\n",
    "poshand = open('/Users/gautamborgohain/PycharmProjects/DT_Labs/PLayground/Gautam_Borg/HuLiuLexicon/positive-words.txt')\n",
    "neghand = open('/Users/gautamborgohain/PycharmProjects/DT_Labs/PLayground/Gautam_Borg/HuLiuLexicon/negative-words.txt')\n",
    "poslist = []\n",
    "neglist = []\n",
    "for line in poshand:\n",
    "    poslist.append(re.sub(r'\\n','',line))\n",
    "for line in neghand:\n",
    "    neglist.append(re.sub(r'\\n','',line))\n",
    "print(len(poslist),len(neglist))\n",
    "\n",
    " "
   ]
  },
  {
   "cell_type": "code",
   "execution_count": 295,
   "metadata": {
    "collapsed": false
   },
   "outputs": [],
   "source": [
    "def posorneg(word):\n",
    "    if(len(poslist)>0 and len(neglist)>0):\n",
    "        word = word.lower()\n",
    "        if word in poslist:\n",
    "            return 'POSITIVE'\n",
    "        elif word in neglist:\n",
    "            return 'NEGATIVE'\n",
    "        else: return word"
   ]
  },
  {
   "cell_type": "code",
   "execution_count": 275,
   "metadata": {
    "collapsed": false
   },
   "outputs": [],
   "source": [
    "targets = ['SMRT','smrt','smrt_singapore','SMRT_SINGAPORE','train','mrt','TARGET','people','iPhone']\n",
    "verbs = ['VBG','VB','VBD','VBN','VBP','VBZ']\n",
    "adjnon = ['JJ','JJR','JJS','NN','NNS','NNP','NNPS']\n",
    "objects = ['obj','pobj','dobj','iobj','nmod']\n",
    "adverbs = ['RB','RBR','RBS']\n",
    "subjs = ['nsubj','dep']\n",
    "\n",
    "#helper functions\n",
    "def getDependentGloss(dep,word, depToSearch):\n",
    "    return dep.get('dependentGloss') if dep.get('governorGloss') == word and dep.get('dep') in depToSearch else ''\n",
    "\n",
    "def getDependentGloss_WithTargets(dep,word):\n",
    "    return dep.get('dependentGloss') if dep.get('governorGloss') == word and dep.get('dependentGloss') in targets else ''\n",
    "\n",
    "def isTransitive(verb,depdicts):\n",
    "    for dep in depdicts:\n",
    "        if dep.get('governorGloss')  == verb and dep.get('dep') in objects:\n",
    "            return True        \n",
    "    return False\n",
    "\n",
    "# tweet = 'I love iPhone'\n",
    "# tweet = 'SMRT broke down again. Great!'\n",
    "# tweet = 'SMRT works better with the Cell- Band'\n",
    "\n",
    "def getTypeDependencyFeatures(frame):\n",
    "    dependecyfeatures = []\n",
    "    for tweet in frame['Tweet']:\n",
    "        tweet = tweet.encode('utf-8')\n",
    "        output = nlp.annotate(tweet, properties={\n",
    "                'annotators': 'parse,relation',\n",
    "                'outputFormat': 'json'\n",
    "            })\n",
    "\n",
    "        features = []\n",
    "        for i in range(len(output['sentences'])):\n",
    "            posdicts = output['sentences'][i]['tokens']\n",
    "            depdicts = output['sentences'][i]['basic-dependencies']\n",
    "            count = 0\n",
    "            for pos in posdicts:\n",
    "                verb = pos.get('word') if pos.get('pos') in verbs else '' # Get Verbs\n",
    "                if verb != '':\n",
    "                    if(isTransitive(verb, depdicts)):\n",
    "                        for dep in depdicts:                  \n",
    "                            #Rule 1\n",
    "                            dependent = getDependentGloss(dep,verb,objects)\n",
    "                            if dependent != '' and dependent in targets:\n",
    "                                features.append(posorneg(verb)+'_arg2')\n",
    "                            #Rule 2\n",
    "                            dependent = getDependentGloss(dep,verb,subjs)\n",
    "                            if (dependent != '' and dependent in targets):\n",
    "                                features.append(posorneg(verb)+'_arg1')\n",
    "                    else:\n",
    "                        #Rule 3\n",
    "                        for dep in depdicts:\n",
    "                            dependent = getDependentGloss(dep,verb,subjs)\n",
    "                            if dependent != '' and dependent in targets:\n",
    "                                features.append(posorneg(verb)+'_it_arg1')\n",
    "                #Rule 4            \n",
    "                adj_noun = pos.get('word') if pos.get('pos') in adjnon else '' # Get Adjectives and Nouns\n",
    "                if adj_noun != '':\n",
    "                    for dep in depdicts:\n",
    "                        dependent = getDependentGloss_WithTargets(dep,adj_noun)\n",
    "                        if dependent != '':features.append(posorneg(adj_noun)+'_arg1')\n",
    "                #Rule 7\n",
    "                adv = pos.get('word') if pos.get('pos') in adverbs else ''\n",
    "                if adv != '':    \n",
    "                    for dep in depdicts:\n",
    "                        verb = dep.get('governorGloss') if dep.get('dependentGloss') == adv else ''# Get the verb it modifies\n",
    "                        if verb != '':\n",
    "                            for dep1 in depdicts:#Loop again and check the target\n",
    "                                dependent = getDependentGloss_WithTargets(dep1,verb)\n",
    "                                if dependent != '':\n",
    "                                    # Rule 8 - negation \n",
    "                                    if dep.get('dep') == 'neg':\n",
    "                                        features.append('arg1_v_neg_'+posorneg(verb))\n",
    "                                    else:\n",
    "                                        features.append('arg1_v_'+posorneg(adv))\n",
    "            #Rule 5\n",
    "            for dep in depdicts:\n",
    "                dependent = dep.get('dependentGloss') if i>0 and dep.get('governorGloss') =='ROOT' and len(features)>0 else ''\n",
    "                if dependent != '' : \n",
    "                    for pos in posdicts:\n",
    "                        if pos.get('word') == dependent and pos.get('pos') in adjnon:\n",
    "                            features.append(posorneg(dependent)+'_arg')\n",
    "                # If in the second sentence,for the root, theres is already a target dependent feature in the list \n",
    "                #  suggesting that that target appears in the previous snentence  and it is an adjective or noun\n",
    "                \n",
    "            \n",
    "        dependecyfeatures.append(' '.join(features))\n",
    "    \n",
    "    isListEmpty = True\n",
    "    for data in dependecyfeatures:\n",
    "        if (data != ''):\n",
    "            isListEmpty = False\n",
    "\n",
    "    if(not isListEmpty):\n",
    "        df = getFeatureDF(dependecyfeatures)\n",
    "        print('Completed Type Dependency Analysis')\n",
    "        return df\n",
    "\n",
    "    else:\n",
    "         return \"No Type Dependency data found\"\n"
   ]
  },
  {
   "cell_type": "markdown",
   "metadata": {},
   "source": [
    "Trying out the function on a dummy data set with sentences picked from the paper"
   ]
  },
  {
   "cell_type": "code",
   "execution_count": 290,
   "metadata": {
    "collapsed": false
   },
   "outputs": [],
   "source": [
    "dumm_df = pd.DataFrame(columns=['Tweet'])\n",
    "dumm_df['Tweet'] = ['I love iPhone',\n",
    "             'SMRT broke down again. Great!',\n",
    "             'SMRT does not work with the Cell- Band',\n",
    "            'SMRT works better with the Cell- Band']\n"
   ]
  },
  {
   "cell_type": "code",
   "execution_count": 297,
   "metadata": {
    "collapsed": false
   },
   "outputs": [
    {
     "name": "stdout",
     "output_type": "stream",
     "text": [
      "Completed Type Dependency Analysis\n"
     ]
    }
   ],
   "source": [
    "df= getTypeDependencyFeatures(dumm_df)"
   ]
  },
  {
   "cell_type": "code",
   "execution_count": 298,
   "metadata": {
    "collapsed": false
   },
   "outputs": [
    {
     "data": {
      "text/html": [
       "<div>\n",
       "<table border=\"1\" class=\"dataframe\">\n",
       "  <thead>\n",
       "    <tr style=\"text-align: right;\">\n",
       "      <th></th>\n",
       "      <th>ARG1_V_AGAIN</th>\n",
       "      <th>ARG1_V_NEG_POSITIVE</th>\n",
       "      <th>ARG1_V_POSITIVE</th>\n",
       "      <th>NEGATIVE_IT_ARG1</th>\n",
       "      <th>POSITIVE_ARG</th>\n",
       "      <th>POSITIVE_ARG1</th>\n",
       "      <th>POSITIVE_ARG2</th>\n",
       "    </tr>\n",
       "  </thead>\n",
       "  <tbody>\n",
       "    <tr>\n",
       "      <th>0</th>\n",
       "      <td>0</td>\n",
       "      <td>0</td>\n",
       "      <td>0</td>\n",
       "      <td>0</td>\n",
       "      <td>0</td>\n",
       "      <td>0</td>\n",
       "      <td>1</td>\n",
       "    </tr>\n",
       "    <tr>\n",
       "      <th>1</th>\n",
       "      <td>1</td>\n",
       "      <td>0</td>\n",
       "      <td>0</td>\n",
       "      <td>1</td>\n",
       "      <td>1</td>\n",
       "      <td>0</td>\n",
       "      <td>0</td>\n",
       "    </tr>\n",
       "    <tr>\n",
       "      <th>2</th>\n",
       "      <td>0</td>\n",
       "      <td>1</td>\n",
       "      <td>0</td>\n",
       "      <td>0</td>\n",
       "      <td>0</td>\n",
       "      <td>1</td>\n",
       "      <td>0</td>\n",
       "    </tr>\n",
       "    <tr>\n",
       "      <th>3</th>\n",
       "      <td>0</td>\n",
       "      <td>0</td>\n",
       "      <td>1</td>\n",
       "      <td>0</td>\n",
       "      <td>0</td>\n",
       "      <td>1</td>\n",
       "      <td>0</td>\n",
       "    </tr>\n",
       "  </tbody>\n",
       "</table>\n",
       "</div>"
      ],
      "text/plain": [
       "   ARG1_V_AGAIN  ARG1_V_NEG_POSITIVE  ARG1_V_POSITIVE  NEGATIVE_IT_ARG1  \\\n",
       "0             0                    0                0                 0   \n",
       "1             1                    0                0                 1   \n",
       "2             0                    1                0                 0   \n",
       "3             0                    0                1                 0   \n",
       "\n",
       "   POSITIVE_ARG  POSITIVE_ARG1  POSITIVE_ARG2  \n",
       "0             0              0              1  \n",
       "1             1              0              0  \n",
       "2             0              1              0  \n",
       "3             0              1              0  "
      ]
     },
     "execution_count": 298,
     "metadata": {},
     "output_type": "execute_result"
    }
   ],
   "source": [
    "df"
   ]
  },
  {
   "cell_type": "markdown",
   "metadata": {},
   "source": [
    "## POS Tag features\n",
    "\n",
    "Function to get the postags for the tweets. Takes the training data frame and returns a data frame with the POS features added"
   ]
  },
  {
   "cell_type": "code",
   "execution_count": null,
   "metadata": {
    "collapsed": true
   },
   "outputs": [],
   "source": [
    "from nltk import pos_tag\n",
    "from nltk import word_tokenize\n",
    "\n",
    "def getPOStagfeatures(frame):\n",
    "    tagsoftweet = []\n",
    "    reg = re.compile(r'at_user|rt|TARGET,')\n",
    "    count = 1\n",
    "    for tweet in frame['Tweet']:\n",
    "        tweet = re.sub(reg, '', tweet)  # stripping it off stuff\n",
    "#         print('POS Tagging tweet', count)\n",
    "        postaggedtweet = pos_tag(word_tokenize(tweet))  # this one is pos atgged..list inside list : token[1] for tag\n",
    "        tags = []\n",
    "        for token in postaggedtweet:\n",
    "            tags.append(token[1])\n",
    "        tagsoftweet.append(' '.join(tags))\n",
    "        count += 1\n",
    "    df = getFeatureDF(tagsoftweet)\n",
    "    print('Completed POS tagging')\n",
    "    return df"
   ]
  },
  {
   "cell_type": "markdown",
   "metadata": {},
   "source": [
    "# Subjectivity and Hashtags"
   ]
  },
  {
   "cell_type": "markdown",
   "metadata": {},
   "source": [
    "Here we use the subjectivity lexicon and get the prior polarity and the type of the words for each word in the tweet.\n",
    "\n",
    "Thing to watch out for here is that words can have different polarity based on what part of speech it is. This function takes in the tweets data frame and returns the subjectivity features."
   ]
  },
  {
   "cell_type": "code",
   "execution_count": null,
   "metadata": {
    "collapsed": true
   },
   "outputs": [],
   "source": [
    "def cleantweet(tweet):\n",
    "    tweet = re.sub('url|at_user|rt|\\.', '', tweet)  ## removing these from the tweets\n",
    "    return tweet\n",
    "\n",
    "def getSubjectvityfeatures(frame):\n",
    "\n",
    "    lexicon = pd.read_csv('/Users/gautamborgohain/PycharmProjects/DataScience/Twitter_target_dependent_SA/subjectivity.csv')\n",
    "    tweet_tags = []\n",
    "    count_tweet = 1\n",
    "    for tweet in frame['Tweet']:\n",
    "        tweet = cleantweet(tweet)\n",
    "        typeList = []\n",
    "        priorpolarityList = []\n",
    "        count_word = 0  # this counter is for the pos tagging. traces the words in the tweet so that the idrect index of the tag can be accesses\n",
    "#         print('Performing subjectivity analysis of Tweet ', count_tweet)\n",
    "        count_tweet += 1\n",
    "        for word in word_tokenize(tweet):\n",
    "            result = lexicon[lexicon.word1 == word]\n",
    "            if len(result) != 0:  # word is there in the lexicon\n",
    "                if len(result) == 1:  # this case is handling the ones where the there is only one record of the word\n",
    "                    typeList.append(result.iloc[0][0])\n",
    "                    priorpolarityList.append(result.iloc[0][5])\n",
    "                if len(result) > 1:  # this is if there are more than one instances of the word in the lexicon then the pos tag is checked\n",
    "#                     print('Have to tag POS, Hold On!')\n",
    "                    poslist = pos_tag(word_tokenize(tweet))#Tag the tweet\n",
    "                    postag = poslist[count_word][1]#Using the position of the word, find the POS tag\n",
    "                    if postag in ['NN', 'NNP', 'NNS',\n",
    "                                  'NNPS']:  # make the POS tags to the format used by the MPQA lexicon\n",
    "                        postag = 'noun'\n",
    "                    elif postag in ['VB', 'VBD', 'VBG', 'VBN', 'VBP', 'VBZ']:\n",
    "                        postag = 'verb'\n",
    "                    elif postag in ['RB', 'RBR', 'RBS']:\n",
    "                        postag = 'adverb'\n",
    "                    elif postag in ['JJ', 'JJR', 'JJS']:\n",
    "                        postag = 'adj'\n",
    "                    second_result = result[result.pos1 == postag]#get the word-postag combination from the lexicon\n",
    "                    if len(second_result) != 0:  # this is to check if the pos tag that the word was tagged is there in the lexicon for that word\n",
    "                        typeList.append(second_result.iloc[0][0])\n",
    "                        priorpolarityList.append(second_result.iloc[0][5])\n",
    "\n",
    "            count_word += 1\n",
    "\n",
    "        tweet_tags.append(' '.join(typeList) + ' ' + ' '.join(priorpolarityList))\n",
    "\n",
    "    isListEmpty = True\n",
    "    for data in tweet_tags:\n",
    "        if (data != \" \"):\n",
    "            isListEmpty = False\n",
    "\n",
    "    if(not isListEmpty):\n",
    "        df = getFeatureDF(tweet_tags)\n",
    "        print('Completed Subjective Analysis')\n",
    "        return df\n",
    "\n",
    "    else:\n",
    "         return \"No Subjectivity data found\""
   ]
  },
  {
   "cell_type": "markdown",
   "metadata": {},
   "source": [
    "Some more feature (State of art)? \n",
    "\n",
    "- Get the hash tags in the tweets and add them as features - Polarity hash tags is usually consistent across tweets\n",
    "- Get the adjectives in the tweet which has the target keywords and add them as features"
   ]
  },
  {
   "cell_type": "code",
   "execution_count": null,
   "metadata": {
    "collapsed": true
   },
   "outputs": [],
   "source": [
    "def get_hastags(tweet):\n",
    "    hash_tags = re.findall('HASH_([^ ]*)', tweet)\n",
    "    return hash_tags\n",
    "\n",
    "def getAdjectives(tweet):\n",
    "    poslist = pos_tag(word_tokenize(tweet))\n",
    "    adjectives = []\n",
    "    for pos in poslist:\n",
    "        if pos[1] in ['JJ', 'JJR', 'JJS']:\n",
    "            adjectives.append(pos[0])\n",
    "            \n",
    "    return adjectives\n",
    "            \n",
    "\n",
    "def getTargetFeatures(frame):\n",
    "    tweet_target_features = []\n",
    "    for tweet in frame['Tweet']:\n",
    "        tweet = cleantweet(tweet)\n",
    "#         tweet = re.sub('')\n",
    "        tags = get_hastags(tweet)\n",
    "        keywords = ['SMRT', 'mrt', 'MRT', 'smrt', 'Singapore_MRT',\"TARGET\"]\n",
    "        tokens = word_tokenize(tweet)\n",
    "        \n",
    "        targets_feature = []\n",
    "        for keyword in keywords:\n",
    "            if keyword in tags:  \n",
    "                feature = keyword + '_hash'\n",
    "                targets_feature.append(feature)\n",
    "            elif keyword in tokens:\n",
    "                adjectives = getAdjectives(tweet)  # This will get all the adjectives, not just one\n",
    "                features = []\n",
    "                for adjective in adjectives:\n",
    "                    adjective = re.sub('-', '_',\n",
    "                                       adjective)  # this to take care of probelesm for - like east-west/ north-south.. now east_west\n",
    "                    features.append(keyword + '_' + adjective)\n",
    "                feature = ' '.join(features)\n",
    "                targets_feature.append(feature)\n",
    "\n",
    "        tweet_target_features.append(' '.join(targets_feature))\n",
    "#     print('features:',tweet_target_features)\n",
    "\n",
    "    isListEmpty = True\n",
    "    for data in tweet_target_features:\n",
    "        if (data != ''):\n",
    "            isListEmpty = False\n",
    "\n",
    "    if(not isListEmpty):\n",
    "        df = getFeatureDF(tweet_target_features)\n",
    "        print(\"Complete target features\")\n",
    "        return df\n",
    "    else:\n",
    "         return \"No Target dependant data found\""
   ]
  },
  {
   "cell_type": "markdown",
   "metadata": {},
   "source": [
    "# Call the functions created and add the features"
   ]
  },
  {
   "cell_type": "code",
   "execution_count": null,
   "metadata": {
    "collapsed": false
   },
   "outputs": [],
   "source": [
    "dfBow = getBOWFeatures(data_unlab_copy) #Prints out the number of BOW features generated"
   ]
  },
  {
   "cell_type": "code",
   "execution_count": null,
   "metadata": {
    "collapsed": false
   },
   "outputs": [],
   "source": [
    "dfSubj= getSubjectvityfeatures(data_unlab_copy)\n",
    "dfPOS= getPOStagfeatures(data_unlab_copy)\n",
    "dfTarg = getTargetFeatures(data_unlab_copy)"
   ]
  },
  {
   "cell_type": "code",
   "execution_count": null,
   "metadata": {
    "collapsed": true
   },
   "outputs": [],
   "source": [
    "#Backup the dfs to avoid running them again and again while experimenting\n",
    "dfBow_backup = dfBow.copy()\n",
    "dfSubj_backup = dfSubj.copy()\n",
    "dfPOS_backup = dfPOS.copy()\n",
    "dfTarg = dfTarg.copy()\n",
    "data_backup = data_unlab_copy.copy()\n",
    "dep_feats_backup = dep_feats.copy()\n",
    "#Write excel files to reuse them between sessions\n",
    "dfBow.to_excel('/Users/gautamborgohain/Desktop/BOW.xlsx')\n",
    "dfSubj.to_excel('/Users/gautamborgohain/Desktop/SUBJ.xlsx')\n",
    "dfPOS.to_excel('/Users/gautamborgohain/Desktop/POS.xlsx')\n",
    "dfTarg.to_excel('/Users/gautamborgohain/Desktop/TARG.xlsx')\n",
    "dep_feats.to_excel('/Users/gautamborgohain/Desktop/DEPF.xlsx')"
   ]
  },
  {
   "cell_type": "code",
   "execution_count": 265,
   "metadata": {
    "collapsed": false
   },
   "outputs": [],
   "source": [
    "dep_feats= pd.read_excel('/Users/gautamborgohain/Desktop/DEPF.xlsx')"
   ]
  },
  {
   "cell_type": "code",
   "execution_count": 266,
   "metadata": {
    "collapsed": true
   },
   "outputs": [],
   "source": [
    "#Combine features into one data frame\n",
    "data_old = dfBow.join(dfSubj).join(dfPOS).join(dfTarg).join(dep_feats)\n",
    "import numpy as np\n",
    "data_unlab_copy.index = np.arange(len(data_unlab_copy))# Need to reindex to join properly\n",
    "data_old = data_old.join(data_unlab_copy['Sentiment'])"
   ]
  },
  {
   "cell_type": "code",
   "execution_count": null,
   "metadata": {
    "collapsed": true
   },
   "outputs": [],
   "source": [
    "#Backup this as well\n",
    "data.to_excel('/Users/gautamborgohain/Desktop/DATA.xlsx')"
   ]
  },
  {
   "cell_type": "code",
   "execution_count": null,
   "metadata": {
    "collapsed": true
   },
   "outputs": [],
   "source": [
    "#Read from the backed up data when needed\n",
    "import pandas as pd\n",
    "data = pd.read_excel('/Users/gautamborgohain/Desktop/DATA.xlsx')"
   ]
  },
  {
   "cell_type": "markdown",
   "metadata": {},
   "source": [
    "Try out the new type dependecy function"
   ]
  },
  {
   "cell_type": "code",
   "execution_count": 301,
   "metadata": {
    "collapsed": false
   },
   "outputs": [
    {
     "name": "stdout",
     "output_type": "stream",
     "text": [
      "Completed Type Dependency Analysis\n"
     ]
    }
   ],
   "source": [
    "dep_feats2 = getTypeDependencyFeatures(data_unlab_copy)"
   ]
  },
  {
   "cell_type": "code",
   "execution_count": 302,
   "metadata": {
    "collapsed": true
   },
   "outputs": [],
   "source": [
    "dep_feats2.to_excel('/Users/gautamborgohain/Desktop/DEPF2.xlsx')"
   ]
  },
  {
   "cell_type": "code",
   "execution_count": 258,
   "metadata": {
    "collapsed": false
   },
   "outputs": [],
   "source": [
    "dfBow= pd.read_excel('/Users/gautamborgohain/Desktop/BOW.xlsx')\n",
    "dfSubj= pd.read_excel('/Users/gautamborgohain/Desktop/SUBJ.xlsx')\n",
    "dfPOS= pd.read_excel('/Users/gautamborgohain/Desktop/POS.xlsx')\n",
    "dfTarg= pd.read_excel('/Users/gautamborgohain/Desktop/TARG.xlsx')"
   ]
  },
  {
   "cell_type": "code",
   "execution_count": 303,
   "metadata": {
    "collapsed": false
   },
   "outputs": [],
   "source": [
    "import numpy as np\n",
    "data_unlab_copy.index = np.arange(len(data_unlab_copy))# Need to reindex to join properly\n",
    "data = dfBow.join(dfSubj).join(dfPOS).join(dfTarg).join(dep_feats2)\n",
    "data = data.join(data_unlab_copy['Sentiment'])"
   ]
  },
  {
   "cell_type": "markdown",
   "metadata": {},
   "source": [
    "# SVM classifier for sentiment detection\n",
    "\n",
    "The default detting of the SVM classifier is used to enable comparision with other work"
   ]
  },
  {
   "cell_type": "code",
   "execution_count": 259,
   "metadata": {
    "collapsed": true
   },
   "outputs": [],
   "source": [
    "from sklearn.svm import LinearSVC\n",
    "from sklearn.metrics import accuracy_score, confusion_matrix, f1_score, precision_recall_curve, classification_report\n",
    "from sklearn.metrics import roc_curve, auc\n",
    "from sklearn import cross_validation\n",
    "\n",
    "import matplotlib.pyplot as plt\n",
    "\n",
    "    \n",
    "def Classify(data,perc):\n",
    "    classifier = LinearSVC()\n",
    "    # Seperate data to training and test set\n",
    "    training_set = data.sample(frac = perc, random_state=0)\n",
    "    print(\"Training set size : \", len(training_set))\n",
    "    testing_set = data.loc[~data.index.isin(training_set.index)]\n",
    "    print(\"Testing set size : \", len(testing_set),\"\\n\")\n",
    "    # Seperate the target from the df which will be used for training and testing\n",
    "    target_training = training_set['Sentiment']\n",
    "    target_testing = testing_set['Sentiment']\n",
    "    training_set.drop('Sentiment',axis = 1,inplace = True)\n",
    "    testing_set.drop('Sentiment',axis = 1,inplace = True) \n",
    "    \n",
    "    #Train classifier\n",
    "    classifier.fit(training_set, target_training)  # cross_validation.cross_val_score(classifier,training_set,training_set[config.get['target']],scoring = 'f1')\n",
    "    #Predict on the training data\n",
    "    predictions_training = classifier.predict(training_set)\n",
    "    #Predict on the testing data\n",
    "    predictions_testing = classifier.predict(testing_set)\n",
    "\n",
    "    # Calculate the accuracy\n",
    "    accuracy_training = accuracy_score(target_training, predictions_training)\n",
    "    accuracy_testing = accuracy_score(target_testing, predictions_testing)\n",
    "    cv_scores = cross_validation.cross_val_score(classifier, testing_set, target_testing, cv=10)\n",
    "    #Print the accuracy and the crosstab of the predictions\n",
    "    print(\"Accuracy on the training data : \", accuracy_training)\n",
    "    print(\"Accuracy on the testing data : \", accuracy_testing, \"\\n\")\n",
    "    print(\"Cross Validation (10-fold) Mean accuracy: \",cv_scores.mean())\n",
    "    print(\"Training data Crosstab: \\n\", pd.crosstab(target_training, predictions_training))\n",
    "    print(\"Testing data Crosstab: \\n\", pd.crosstab(target_testing, predictions_testing), \"\\n\")\n",
    "    \n",
    "    #Plot the most informative features\n",
    "\n",
    "    Negative = pd.DataFrame({'Scores':classifier.coef_[0],'Variables':training_set.columns})\n",
    "    Negative.sort(columns='Scores',ascending=False)[0:10].plot(x = 'Variables', y = 'Scores',kind = \"barh\", legend = False,title = \"Negative words\")\n",
    "    Positive = pd.DataFrame({'Scores':classifier.coef_[2],'Variables':training_set.columns})\n",
    "    Positive.sort(columns='Scores',ascending=False)[0:10].plot(x = 'Variables', y = 'Scores',kind = \"barh\", legend = False, title = \"Positive words\")\n",
    "    Neutral = pd.DataFrame({'Scores':classifier.coef_[1],'Variables':training_set.columns})\n",
    "    Neutral.sort(columns='Scores',ascending=False)[0:10].plot(x = 'Variables', y = 'Scores',kind = \"barh\", legend = False, title = \"Neutral words\")\n",
    "    \n",
    "    #Plot the ROC curve\n",
    "    \n",
    "    y_score = classifier.fit(training_set, target_training).decision_function(testing_set)\n",
    "    target_testting_dummies = pd.get_dummies(target_testing)\n",
    "    fpr = dict()\n",
    "    tpr = dict()\n",
    "    roc_auc = dict()\n",
    "    for i in range(3):\n",
    "        fpr[i], tpr[i], _ = roc_curve(target_testting_dummies[target_testting_dummies.columns[i]], y_score[:, i])\n",
    "        roc_auc[i] = auc(fpr[i], tpr[i])\n",
    "\n",
    "    plt.figure()\n",
    "    plt.plot(fpr[2], tpr[2], label='Positive ROC curve (area = %0.2f)' % roc_auc[2])\n",
    "    plt.plot(fpr[0], tpr[0], label='Negative ROC curve (area = %0.2f)' % roc_auc[0])\n",
    "    plt.plot(fpr[1], tpr[1], label='Neutral ROC curve (area = %0.2f)' % roc_auc[1])\n",
    "    plt.plot([0, 1], [0, 1], 'k--')\n",
    "    plt.xlim([0.0, 1.0])\n",
    "    plt.ylim([0.0, 1.05])\n",
    "    plt.xlabel('False Positive Rate')\n",
    "    plt.ylabel('True Positive Rate')\n",
    "    plt.title('Receiver operating characteristic')\n",
    "    plt.legend(loc=\"lower right\")\n",
    "    plt.show()\n",
    "\n",
    "    \n",
    "    return classifier,target_training,target_testing,predictions_training,predictions_testing,training_set,testing_set"
   ]
  },
  {
   "cell_type": "code",
   "execution_count": 262,
   "metadata": {
    "collapsed": false
   },
   "outputs": [
    {
     "data": {
      "text/plain": [
       "-1    584\n",
       " 0    440\n",
       " 1    252\n",
       "Name: Sentiment, dtype: int64"
      ]
     },
     "execution_count": 262,
     "metadata": {},
     "output_type": "execute_result"
    }
   ],
   "source": [
    "data.Sentiment.value_counts()"
   ]
  },
  {
   "cell_type": "code",
   "execution_count": 267,
   "metadata": {
    "collapsed": false
   },
   "outputs": [
    {
     "name": "stdout",
     "output_type": "stream",
     "text": [
      "Training set size :  766\n",
      "Testing set size :  510 \n",
      "\n",
      "Accuracy on the training data :  0.983028720627\n",
      "Accuracy on the testing data :  0.747058823529 \n",
      "\n",
      "Cross Validation (10-fold) Mean accuracy:  0.67065158371\n",
      "Training data Crosstab: \n",
      " col_0       -1    0    1\n",
      "Sentiment               \n",
      "-1         349    3    2\n",
      " 0           0  256    0\n",
      " 1           2    6  148\n",
      "Testing data Crosstab: \n",
      " col_0       -1    0   1\n",
      "Sentiment              \n",
      "-1         195   21  14\n",
      " 0          45  119  20\n",
      " 1          12   17  67 \n",
      "\n"
     ]
    },
    {
     "data": {
      "image/png": "[encoded data removed]",
      "text/plain": [
       "<matplotlib.figure.Figure at 0x11f613f60>"
      ]
     },
     "metadata": {},
     "output_type": "display_data"
    },
    {
     "data": {
      "image/png": "[encoded data removed]",
      "text/plain": [
       "<matplotlib.figure.Figure at 0x11e0a2358>"
      ]
     },
     "metadata": {},
     "output_type": "display_data"
    },
    {
     "data": {
      "image/png": "[encoded data removed]",
      "text/plain": [
       "<matplotlib.figure.Figure at 0x114f3b780>"
      ]
     },
     "metadata": {},
     "output_type": "display_data"
    },
    {
     "data": {
      "image/png": "[encoded data removed]",
      "text/plain": [
       "<matplotlib.figure.Figure at 0x11f613240>"
      ]
     },
     "metadata": {},
     "output_type": "display_data"
    }
   ],
   "source": [
    "# Call our classifier and check accuracy!!!\n",
    "import warnings\n",
    "warnings.filterwarnings('ignore')\n",
    "classifier,target_training,target_testing,predictions_training,predictions_testing,training_set,testing_set= Classify(data_old, 0.6)"
   ]
  },
  {
   "cell_type": "markdown",
   "metadata": {},
   "source": [
    "# Try out the performance on the new type dependency features"
   ]
  },
  {
   "cell_type": "code",
   "execution_count": 304,
   "metadata": {
    "collapsed": false,
    "scrolled": false
   },
   "outputs": [
    {
     "name": "stdout",
     "output_type": "stream",
     "text": [
      "Training set size :  766\n",
      "Testing set size :  510 \n",
      "\n",
      "Accuracy on the training data :  0.97911227154\n",
      "Accuracy on the testing data :  0.752941176471 \n",
      "\n",
      "Cross Validation (10-fold) Mean accuracy:  0.635268476621\n",
      "Training data Crosstab: \n",
      " col_0       -1    0    1\n",
      "Sentiment               \n",
      "-1         346    6    2\n",
      " 0           2  254    0\n",
      " 1           2    4  150\n",
      "Testing data Crosstab: \n",
      " col_0       -1    0   1\n",
      "Sentiment              \n",
      "-1         183   35  12\n",
      " 0          40  128  16\n",
      " 1          12   11  73 \n",
      "\n"
     ]
    },
    {
     "data": {
      "image/png": "[encoded data removed]",
      "text/plain": [
       "<matplotlib.figure.Figure at 0x11e415f60>"
      ]
     },
     "metadata": {},
     "output_type": "display_data"
    },
    {
     "data": {
      "image/png": "[encoded data removed]",
      "text/plain": [
       "<matplotlib.figure.Figure at 0x114f63828>"
      ]
     },
     "metadata": {},
     "output_type": "display_data"
    },
    {
     "data": {
      "image/png": "[encoded data removed]",
      "text/plain": [
       "<matplotlib.figure.Figure at 0x11e0876d8>"
      ]
     },
     "metadata": {},
     "output_type": "display_data"
    },
    {
     "data": {
      "image/png": "[encoded data removed]",
      "text/plain": [
       "<matplotlib.figure.Figure at 0x11e415c88>"
      ]
     },
     "metadata": {},
     "output_type": "display_data"
    }
   ],
   "source": [
    "# Call our classifier and check accuracy!!!\n",
    "import warnings\n",
    "warnings.filterwarnings('ignore')\n",
    "classifier,target_training,target_testing,predictions_training,predictions_testing,training_set,testing_set= Classify(data, 0.6)"
   ]
  },
  {
   "cell_type": "markdown",
   "metadata": {},
   "source": [
    "Well cross validation mean score decreased.. This could be because of the smaller test data size?"
   ]
  },
  {
   "cell_type": "code",
   "execution_count": null,
   "metadata": {
    "collapsed": false
   },
   "outputs": [],
   "source": [
    "# Just trying this out with the xgboost classifier\n",
    "import numpy as np\n",
    "\n",
    "from sklearn.cross_validation import train_test_split\n",
    "from sklearn import preprocessing\n",
    "\n",
    "import xgboost as xgb\n",
    "y = np.ravel(data.Sentiment)\n",
    "X = data.drop('Sentiment', axis = 1,inplace= False)\n",
    "X_train,X_test,Y_train,Y_test = train_test_split(X,y,test_size = 0.40, random_state=0)\n",
    "\n",
    "xgb_model = xgb.XGBClassifier()\n",
    "xgb_model.fit(X_train,Y_train)\n",
    "\n",
    "from sklearn import metrics\n",
    "predicted = xgb_model.predict(X_test)       \n",
    "print(\"Accuracy : \",metrics.accuracy_score(Y_test, predicted))\n",
    "\n",
    "from sklearn import cross_validation\n",
    "scores = cross_validation.cross_val_score(xgb_model, X_test, Y_test, cv=5)\n",
    "print(\"Cross Validation Mean accuracy: \",scores.mean())\n"
   ]
  }
 ],
 "metadata": {
  "kernelspec": {
   "display_name": "Python 3",
   "language": "python",
   "name": "python3"
  },
  "language_info": {
   "codemirror_mode": {
    "name": "ipython",
    "version": 3
   },
   "file_extension": ".py",
   "mimetype": "text/x-python",
   "name": "python",
   "nbconvert_exporter": "python",
   "pygments_lexer": "ipython3",
   "version": "3.4.2"
  }
 },
 "nbformat": 4,
 "nbformat_minor": 0
}
